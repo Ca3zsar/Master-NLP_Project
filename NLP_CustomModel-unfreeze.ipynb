{
 "cells": [
  {
   "cell_type": "markdown",
   "metadata": {
    "id": "kKAIj1DqNUcC"
   },
   "source": [
    "https://stackoverflow.com/questions/64156202/add-dense-layer-on-top-of-huggingface-bert-model"
   ]
  },
  {
   "cell_type": "code",
   "execution_count": 1,
   "metadata": {
    "colab": {
     "base_uri": "https://localhost:8080/"
    },
    "execution": {
     "iopub.execute_input": "2024-01-10T20:42:16.945579Z",
     "iopub.status.busy": "2024-01-10T20:42:16.945288Z",
     "iopub.status.idle": "2024-01-10T20:42:16.948874Z",
     "shell.execute_reply": "2024-01-10T20:42:16.948247Z",
     "shell.execute_reply.started": "2024-01-10T20:42:16.945547Z"
    },
    "id": "2K2-FcbVNaId",
    "outputId": "fd37a389-1311-4196-bd20-ad8ae6798838"
   },
   "outputs": [],
   "source": [
    "# from google.colab import drive\n",
    "# drive.mount('/content/drive')"
   ]
  },
  {
   "cell_type": "markdown",
   "metadata": {
    "id": "5s4payUiNUcG"
   },
   "source": [
    "# Install requirements"
   ]
  },
  {
   "cell_type": "code",
   "execution_count": 1,
   "metadata": {
    "colab": {
     "base_uri": "https://localhost:8080/"
    },
    "execution": {
     "iopub.execute_input": "2024-01-12T13:16:14.566921Z",
     "iopub.status.busy": "2024-01-12T13:16:14.566617Z",
     "iopub.status.idle": "2024-01-12T13:16:38.033471Z",
     "shell.execute_reply": "2024-01-12T13:16:38.032819Z",
     "shell.execute_reply.started": "2024-01-12T13:16:14.566899Z"
    },
    "id": "o38JKfMlNUcH",
    "outputId": "a50fcf99-16b6-4a6f-9c97-6c3fd3c96a5b",
    "tags": []
   },
   "outputs": [
    {
     "name": "stdout",
     "output_type": "stream",
     "text": [
      "Collecting Datasets\n",
      "  Using cached datasets-2.16.1-py3-none-any.whl.metadata (20 kB)\n",
      "Requirement already satisfied: filelock in /opt/saturncloud/envs/saturn/lib/python3.11/site-packages (from Datasets) (3.13.1)\n",
      "Requirement already satisfied: numpy>=1.17 in /opt/saturncloud/envs/saturn/lib/python3.11/site-packages (from Datasets) (1.24.3)\n",
      "Requirement already satisfied: pyarrow>=8.0.0 in /opt/saturncloud/envs/saturn/lib/python3.11/site-packages (from Datasets) (14.0.1)\n",
      "Collecting pyarrow-hotfix (from Datasets)\n",
      "  Using cached pyarrow_hotfix-0.6-py3-none-any.whl.metadata (3.6 kB)\n",
      "Collecting dill<0.3.8,>=0.3.0 (from Datasets)\n",
      "  Using cached dill-0.3.7-py3-none-any.whl.metadata (9.9 kB)\n",
      "Requirement already satisfied: pandas in /opt/saturncloud/envs/saturn/lib/python3.11/site-packages (from Datasets) (1.5.3)\n",
      "Requirement already satisfied: requests>=2.19.0 in /opt/saturncloud/envs/saturn/lib/python3.11/site-packages (from Datasets) (2.31.0)\n",
      "Collecting tqdm>=4.62.1 (from Datasets)\n",
      "  Using cached tqdm-4.66.1-py3-none-any.whl.metadata (57 kB)\n",
      "Collecting xxhash (from Datasets)\n",
      "  Using cached xxhash-3.4.1-cp311-cp311-manylinux_2_17_x86_64.manylinux2014_x86_64.whl.metadata (12 kB)\n",
      "Collecting multiprocess (from Datasets)\n",
      "  Using cached multiprocess-0.70.15-py311-none-any.whl.metadata (7.2 kB)\n",
      "Requirement already satisfied: fsspec<=2023.10.0,>=2023.1.0 in /opt/saturncloud/envs/saturn/lib/python3.11/site-packages (from fsspec[http]<=2023.10.0,>=2023.1.0->Datasets) (2023.10.0)\n",
      "Requirement already satisfied: aiohttp in /opt/saturncloud/envs/saturn/lib/python3.11/site-packages (from Datasets) (3.9.1)\n",
      "Collecting huggingface-hub>=0.19.4 (from Datasets)\n",
      "  Using cached huggingface_hub-0.20.2-py3-none-any.whl.metadata (12 kB)\n",
      "Requirement already satisfied: packaging in /opt/saturncloud/envs/saturn/lib/python3.11/site-packages (from Datasets) (23.2)\n",
      "Requirement already satisfied: pyyaml>=5.1 in /opt/saturncloud/envs/saturn/lib/python3.11/site-packages (from Datasets) (6.0.1)\n",
      "Requirement already satisfied: attrs>=17.3.0 in /opt/saturncloud/envs/saturn/lib/python3.11/site-packages (from aiohttp->Datasets) (23.1.0)\n",
      "Requirement already satisfied: multidict<7.0,>=4.5 in /opt/saturncloud/envs/saturn/lib/python3.11/site-packages (from aiohttp->Datasets) (6.0.4)\n",
      "Requirement already satisfied: yarl<2.0,>=1.0 in /opt/saturncloud/envs/saturn/lib/python3.11/site-packages (from aiohttp->Datasets) (1.9.3)\n",
      "Requirement already satisfied: frozenlist>=1.1.1 in /opt/saturncloud/envs/saturn/lib/python3.11/site-packages (from aiohttp->Datasets) (1.4.0)\n",
      "Requirement already satisfied: aiosignal>=1.1.2 in /opt/saturncloud/envs/saturn/lib/python3.11/site-packages (from aiohttp->Datasets) (1.3.1)\n",
      "Requirement already satisfied: typing-extensions>=3.7.4.3 in /opt/saturncloud/envs/saturn/lib/python3.11/site-packages (from huggingface-hub>=0.19.4->Datasets) (4.5.0)\n",
      "Requirement already satisfied: charset-normalizer<4,>=2 in /opt/saturncloud/envs/saturn/lib/python3.11/site-packages (from requests>=2.19.0->Datasets) (3.3.2)\n",
      "Requirement already satisfied: idna<4,>=2.5 in /opt/saturncloud/envs/saturn/lib/python3.11/site-packages (from requests>=2.19.0->Datasets) (3.6)\n",
      "Requirement already satisfied: urllib3<3,>=1.21.1 in /opt/saturncloud/envs/saturn/lib/python3.11/site-packages (from requests>=2.19.0->Datasets) (1.26.18)\n",
      "Requirement already satisfied: certifi>=2017.4.17 in /opt/saturncloud/envs/saturn/lib/python3.11/site-packages (from requests>=2.19.0->Datasets) (2023.11.17)\n",
      "Requirement already satisfied: python-dateutil>=2.8.1 in /opt/saturncloud/envs/saturn/lib/python3.11/site-packages (from pandas->Datasets) (2.8.2)\n",
      "Requirement already satisfied: pytz>=2020.1 in /opt/saturncloud/envs/saturn/lib/python3.11/site-packages (from pandas->Datasets) (2023.3.post1)\n",
      "Requirement already satisfied: six>=1.5 in /opt/saturncloud/envs/saturn/lib/python3.11/site-packages (from python-dateutil>=2.8.1->pandas->Datasets) (1.16.0)\n",
      "Using cached datasets-2.16.1-py3-none-any.whl (507 kB)\n",
      "Using cached dill-0.3.7-py3-none-any.whl (115 kB)\n",
      "Using cached huggingface_hub-0.20.2-py3-none-any.whl (330 kB)\n",
      "Using cached tqdm-4.66.1-py3-none-any.whl (78 kB)\n",
      "Using cached multiprocess-0.70.15-py311-none-any.whl (135 kB)\n",
      "Using cached pyarrow_hotfix-0.6-py3-none-any.whl (7.9 kB)\n",
      "Using cached xxhash-3.4.1-cp311-cp311-manylinux_2_17_x86_64.manylinux2014_x86_64.whl (194 kB)\n",
      "Installing collected packages: xxhash, tqdm, pyarrow-hotfix, dill, multiprocess, huggingface-hub, Datasets\n",
      "Successfully installed Datasets-2.16.1 dill-0.3.7 huggingface-hub-0.20.2 multiprocess-0.70.15 pyarrow-hotfix-0.6 tqdm-4.66.1 xxhash-3.4.1\n",
      "Collecting transformers\n",
      "  Using cached transformers-4.36.2-py3-none-any.whl.metadata (126 kB)\n",
      "Requirement already satisfied: filelock in /opt/saturncloud/envs/saturn/lib/python3.11/site-packages (from transformers) (3.13.1)\n",
      "Requirement already satisfied: huggingface-hub<1.0,>=0.19.3 in /opt/saturncloud/envs/saturn/lib/python3.11/site-packages (from transformers) (0.20.2)\n",
      "Requirement already satisfied: numpy>=1.17 in /opt/saturncloud/envs/saturn/lib/python3.11/site-packages (from transformers) (1.24.3)\n",
      "Requirement already satisfied: packaging>=20.0 in /opt/saturncloud/envs/saturn/lib/python3.11/site-packages (from transformers) (23.2)\n",
      "Requirement already satisfied: pyyaml>=5.1 in /opt/saturncloud/envs/saturn/lib/python3.11/site-packages (from transformers) (6.0.1)\n",
      "Requirement already satisfied: regex!=2019.12.17 in /opt/saturncloud/envs/saturn/lib/python3.11/site-packages (from transformers) (2023.10.3)\n",
      "Requirement already satisfied: requests in /opt/saturncloud/envs/saturn/lib/python3.11/site-packages (from transformers) (2.31.0)\n",
      "Collecting tokenizers<0.19,>=0.14 (from transformers)\n",
      "  Using cached tokenizers-0.15.0-cp311-cp311-manylinux_2_17_x86_64.manylinux2014_x86_64.whl.metadata (6.7 kB)\n",
      "Collecting safetensors>=0.3.1 (from transformers)\n",
      "  Using cached safetensors-0.4.1-cp311-cp311-manylinux_2_17_x86_64.manylinux2014_x86_64.whl.metadata (3.8 kB)\n",
      "Requirement already satisfied: tqdm>=4.27 in /opt/saturncloud/envs/saturn/lib/python3.11/site-packages (from transformers) (4.66.1)\n",
      "Requirement already satisfied: fsspec>=2023.5.0 in /opt/saturncloud/envs/saturn/lib/python3.11/site-packages (from huggingface-hub<1.0,>=0.19.3->transformers) (2023.10.0)\n",
      "Requirement already satisfied: typing-extensions>=3.7.4.3 in /opt/saturncloud/envs/saturn/lib/python3.11/site-packages (from huggingface-hub<1.0,>=0.19.3->transformers) (4.5.0)\n",
      "Requirement already satisfied: charset-normalizer<4,>=2 in /opt/saturncloud/envs/saturn/lib/python3.11/site-packages (from requests->transformers) (3.3.2)\n",
      "Requirement already satisfied: idna<4,>=2.5 in /opt/saturncloud/envs/saturn/lib/python3.11/site-packages (from requests->transformers) (3.6)\n",
      "Requirement already satisfied: urllib3<3,>=1.21.1 in /opt/saturncloud/envs/saturn/lib/python3.11/site-packages (from requests->transformers) (1.26.18)\n",
      "Requirement already satisfied: certifi>=2017.4.17 in /opt/saturncloud/envs/saturn/lib/python3.11/site-packages (from requests->transformers) (2023.11.17)\n",
      "Using cached transformers-4.36.2-py3-none-any.whl (8.2 MB)\n",
      "Using cached safetensors-0.4.1-cp311-cp311-manylinux_2_17_x86_64.manylinux2014_x86_64.whl (1.3 MB)\n",
      "Using cached tokenizers-0.15.0-cp311-cp311-manylinux_2_17_x86_64.manylinux2014_x86_64.whl (3.8 MB)\n",
      "Installing collected packages: safetensors, tokenizers, transformers\n",
      "Successfully installed safetensors-0.4.1 tokenizers-0.15.0 transformers-4.36.2\n",
      "Collecting scikit-learn\n",
      "  Using cached scikit_learn-1.3.2-cp311-cp311-manylinux_2_17_x86_64.manylinux2014_x86_64.whl.metadata (11 kB)\n",
      "Requirement already satisfied: numpy<2.0,>=1.17.3 in /opt/saturncloud/envs/saturn/lib/python3.11/site-packages (from scikit-learn) (1.24.3)\n",
      "Collecting scipy>=1.5.0 (from scikit-learn)\n",
      "  Using cached scipy-1.11.4-cp311-cp311-manylinux_2_17_x86_64.manylinux2014_x86_64.whl.metadata (60 kB)\n",
      "Collecting joblib>=1.1.1 (from scikit-learn)\n",
      "  Using cached joblib-1.3.2-py3-none-any.whl.metadata (5.4 kB)\n",
      "Collecting threadpoolctl>=2.0.0 (from scikit-learn)\n",
      "  Using cached threadpoolctl-3.2.0-py3-none-any.whl.metadata (10.0 kB)\n",
      "Using cached scikit_learn-1.3.2-cp311-cp311-manylinux_2_17_x86_64.manylinux2014_x86_64.whl (10.9 MB)\n",
      "Using cached joblib-1.3.2-py3-none-any.whl (302 kB)\n",
      "Using cached scipy-1.11.4-cp311-cp311-manylinux_2_17_x86_64.manylinux2014_x86_64.whl (36.4 MB)\n",
      "Using cached threadpoolctl-3.2.0-py3-none-any.whl (15 kB)\n",
      "Installing collected packages: threadpoolctl, scipy, joblib, scikit-learn\n",
      "Successfully installed joblib-1.3.2 scikit-learn-1.3.2 scipy-1.11.4 threadpoolctl-3.2.0\n"
     ]
    }
   ],
   "source": [
    "# !pip install Datasets\n",
    "# !pip install transformers\n",
    "# !pip install scikit-learn"
   ]
  },
  {
   "cell_type": "code",
   "execution_count": 1,
   "metadata": {
    "execution": {
     "iopub.execute_input": "2024-01-14T08:35:42.194190Z",
     "iopub.status.busy": "2024-01-14T08:35:42.193883Z",
     "iopub.status.idle": "2024-01-14T08:35:46.344660Z",
     "shell.execute_reply": "2024-01-14T08:35:46.344088Z",
     "shell.execute_reply.started": "2024-01-14T08:35:42.194169Z"
    },
    "id": "TnR07Mf4NUcJ",
    "tags": []
   },
   "outputs": [
    {
     "name": "stderr",
     "output_type": "stream",
     "text": [
      "2024-01-14 08:35:44.260501: I tensorflow/core/util/port.cc:113] oneDNN custom operations are on. You may see slightly different numerical results due to floating-point round-off errors from different computation orders. To turn them off, set the environment variable `TF_ENABLE_ONEDNN_OPTS=0`.\n",
      "2024-01-14 08:35:44.304514: E external/local_xla/xla/stream_executor/cuda/cuda_dnn.cc:9261] Unable to register cuDNN factory: Attempting to register factory for plugin cuDNN when one has already been registered\n",
      "2024-01-14 08:35:44.304547: E external/local_xla/xla/stream_executor/cuda/cuda_fft.cc:607] Unable to register cuFFT factory: Attempting to register factory for plugin cuFFT when one has already been registered\n",
      "2024-01-14 08:35:44.305732: E external/local_xla/xla/stream_executor/cuda/cuda_blas.cc:1515] Unable to register cuBLAS factory: Attempting to register factory for plugin cuBLAS when one has already been registered\n",
      "2024-01-14 08:35:44.313179: I tensorflow/core/platform/cpu_feature_guard.cc:182] This TensorFlow binary is optimized to use available CPU instructions in performance-critical operations.\n",
      "To enable the following instructions: AVX2 AVX512F AVX512_VNNI FMA, in other operations, rebuild TensorFlow with the appropriate compiler flags.\n",
      "2024-01-14 08:35:45.266293: W tensorflow/compiler/tf2tensorrt/utils/py_utils.cc:38] TF-TRT Warning: Could not find TensorRT\n"
     ]
    }
   ],
   "source": [
    "import pandas as pd\n",
    "import numpy as np\n",
    "from datasets import Dataset\n",
    "from transformers import AutoTokenizer, TFAutoModel, TFAutoModelForSequenceClassification\n",
    "import tensorflow as tf\n",
    "from keras.layers import Dense, Dropout\n",
    "from sklearn.model_selection import train_test_split\n",
    "from tensorflow.keras.losses import SparseCategoricalCrossentropy,BinaryCrossentropy\n",
    "from tensorflow.keras.optimizers import Adam\n",
    "import datasets\n",
    "import keras"
   ]
  },
  {
   "cell_type": "markdown",
   "metadata": {
    "id": "ZSi0fFQdNUcK"
   },
   "source": [
    "## Define custom model"
   ]
  },
  {
   "cell_type": "markdown",
   "metadata": {
    "id": "vlTKaH9AXHoy"
   },
   "source": [
    "Using a cased version of BERT will mean a bigger vocabulary, which in our case will slow down the training and use up more memory.\n",
    "Some tricks that may (or may not) improve training time: **Mixed precision** and **jit_compile**."
   ]
  },
  {
   "cell_type": "code",
   "execution_count": 26,
   "metadata": {
    "execution": {
     "iopub.execute_input": "2024-01-13T10:30:08.747852Z",
     "iopub.status.busy": "2024-01-13T10:30:08.747515Z",
     "iopub.status.idle": "2024-01-13T10:30:08.753191Z",
     "shell.execute_reply": "2024-01-13T10:30:08.752584Z",
     "shell.execute_reply.started": "2024-01-13T10:30:08.747830Z"
    },
    "id": "6rAQsfxBeZqu",
    "tags": []
   },
   "outputs": [
    {
     "name": "stdout",
     "output_type": "stream",
     "text": [
      "INFO:tensorflow:Mixed precision compatibility check (mixed_float16): OK\n",
      "Your GPU will likely run quickly with dtype policy mixed_float16 as it has compute capability of at least 7.0. Your GPU: Tesla T4, compute capability 7.5\n"
     ]
    },
    {
     "name": "stderr",
     "output_type": "stream",
     "text": [
      "2024-01-13 10:30:08.749258: I external/local_xla/xla/stream_executor/cuda/cuda_executor.cc:901] successful NUMA node read from SysFS had negative value (-1), but there must be at least one NUMA node, so returning NUMA node zero. See more at https://github.com/torvalds/linux/blob/v6.0/Documentation/ABI/testing/sysfs-bus-pci#L344-L355\n"
     ]
    }
   ],
   "source": [
    "# # try to improve the learning time\n",
    "# from tensorflow.keras import mixed_precision\n",
    "# policy = mixed_precision.Policy('mixed_float16')\n",
    "# mixed_precision.set_global_policy(policy)"
   ]
  },
  {
   "cell_type": "code",
   "execution_count": 2,
   "metadata": {
    "execution": {
     "iopub.execute_input": "2024-01-13T10:25:30.682743Z",
     "iopub.status.busy": "2024-01-13T10:25:30.682171Z",
     "iopub.status.idle": "2024-01-13T10:25:30.686319Z",
     "shell.execute_reply": "2024-01-13T10:25:30.685587Z",
     "shell.execute_reply.started": "2024-01-13T10:25:30.682715Z"
    },
    "tags": []
   },
   "outputs": [],
   "source": [
    "def scheduler(epoch, lr):\n",
    "  if epoch == 10:\n",
    "    return lr / 2\n",
    "  else:\n",
    "    return lr\n"
   ]
  },
  {
   "cell_type": "code",
   "execution_count": 3,
   "metadata": {
    "execution": {
     "iopub.execute_input": "2024-01-14T08:36:41.384691Z",
     "iopub.status.busy": "2024-01-14T08:36:41.384378Z",
     "iopub.status.idle": "2024-01-14T08:36:41.387909Z",
     "shell.execute_reply": "2024-01-14T08:36:41.387194Z",
     "shell.execute_reply.started": "2024-01-14T08:36:41.384667Z"
    },
    "id": "ZjtxZ5WicVTa",
    "tags": []
   },
   "outputs": [],
   "source": [
    "MODEL_ID = \"bert-base-uncased\" # define here the model to use"
   ]
  },
  {
   "cell_type": "code",
   "execution_count": 4,
   "metadata": {
    "execution": {
     "iopub.execute_input": "2024-01-14T08:36:43.061570Z",
     "iopub.status.busy": "2024-01-14T08:36:43.061247Z",
     "iopub.status.idle": "2024-01-14T08:36:43.066537Z",
     "shell.execute_reply": "2024-01-14T08:36:43.065826Z",
     "shell.execute_reply.started": "2024-01-14T08:36:43.061546Z"
    },
    "id": "fNSYSxAlXMv3",
    "tags": []
   },
   "outputs": [],
   "source": [
    "class CustomBert(keras.Model):\n",
    "    \"\"\"Appending additional layers to the BERT model, so that it can be used\n",
    "    for multi-label classification.\n",
    "    \"\"\"\n",
    "\n",
    "    def __init__(self, base_model_id: str, num_labels: int):\n",
    "        super().__init__()\n",
    "        self._base = TFAutoModel.from_pretrained(base_model_id)\n",
    "        self._base.trainable = False\n",
    "\n",
    "        self._additional_layers = keras.Sequential([\n",
    "            Dropout(0.1),\n",
    "            Dense(512, activation=\"relu\"),\n",
    "            Dense(256, activation=\"relu\"),\n",
    "            Dense(num_labels, activation=\"sigmoid\"),\n",
    "        ])\n",
    "\n",
    "    def call(self, inputs):\n",
    "        out = self._base(inputs)\n",
    "        out = out[\"last_hidden_state\"][:, 0, :]\n",
    "\n",
    "        return self._additional_layers(out)"
   ]
  },
  {
   "cell_type": "markdown",
   "metadata": {
    "id": "HwYfTeFiNUcK"
   },
   "source": [
    "### Use for debug only"
   ]
  },
  {
   "cell_type": "code",
   "execution_count": 8,
   "metadata": {
    "execution": {
     "iopub.execute_input": "2024-01-10T20:42:20.366819Z",
     "iopub.status.busy": "2024-01-10T20:42:20.366630Z",
     "iopub.status.idle": "2024-01-10T20:42:20.369967Z",
     "shell.execute_reply": "2024-01-10T20:42:20.369443Z",
     "shell.execute_reply.started": "2024-01-10T20:42:20.366801Z"
    },
    "id": "A_KUwSmYNUcK",
    "tags": []
   },
   "outputs": [],
   "source": [
    "# tf.config.run_functions_eagerly(True)\n",
    "# tf.data.experimental.enable_debug_mode()"
   ]
  },
  {
   "cell_type": "code",
   "execution_count": 5,
   "metadata": {
    "execution": {
     "iopub.execute_input": "2024-01-14T08:36:45.718130Z",
     "iopub.status.busy": "2024-01-14T08:36:45.717803Z",
     "iopub.status.idle": "2024-01-14T08:36:45.721637Z",
     "shell.execute_reply": "2024-01-14T08:36:45.721075Z",
     "shell.execute_reply.started": "2024-01-14T08:36:45.718104Z"
    },
    "id": "XeSHatGCNUcK",
    "tags": []
   },
   "outputs": [],
   "source": [
    "def preprocess_function(examples, tokenizer, max_length=128):\n",
    "    return tokenizer(examples[\"text\"],\n",
    "                     truncation=True,\n",
    "                     padding='max_length',\n",
    "                     max_length=max_length,\n",
    "                     return_tensors=\"np\")"
   ]
  },
  {
   "cell_type": "code",
   "execution_count": 6,
   "metadata": {
    "execution": {
     "iopub.execute_input": "2024-01-14T08:36:47.437430Z",
     "iopub.status.busy": "2024-01-14T08:36:47.437103Z",
     "iopub.status.idle": "2024-01-14T08:36:47.440910Z",
     "shell.execute_reply": "2024-01-14T08:36:47.440152Z",
     "shell.execute_reply.started": "2024-01-14T08:36:47.437407Z"
    },
    "tags": []
   },
   "outputs": [],
   "source": [
    "def get_test_data(test_path):\n",
    "    test_df = pd.read_json(test_path, lines=True)\n",
    "    test_df = test_df[['text', 'label']]\n",
    "    return test_df"
   ]
  },
  {
   "cell_type": "code",
   "execution_count": 7,
   "metadata": {
    "execution": {
     "iopub.execute_input": "2024-01-14T08:36:48.968427Z",
     "iopub.status.busy": "2024-01-14T08:36:48.968106Z",
     "iopub.status.idle": "2024-01-14T08:36:48.971869Z",
     "shell.execute_reply": "2024-01-14T08:36:48.971242Z",
     "shell.execute_reply.started": "2024-01-14T08:36:48.968405Z"
    },
    "id": "oTvy_3pBNUcL",
    "tags": []
   },
   "outputs": [],
   "source": [
    "def get_data(train_path):\n",
    "   train_df = pd.read_json(train_path, lines=True)\n",
    "   train_df = train_df[['text', 'label']]\n",
    "   train_df, validation_df = train_test_split(train_df, test_size=0.1, stratify=train_df['label'])\n",
    "   return train_df, validation_df\n"
   ]
  },
  {
   "cell_type": "code",
   "execution_count": 8,
   "metadata": {
    "execution": {
     "iopub.execute_input": "2024-01-14T08:36:51.588077Z",
     "iopub.status.busy": "2024-01-14T08:36:51.587763Z",
     "iopub.status.idle": "2024-01-14T08:36:51.591139Z",
     "shell.execute_reply": "2024-01-14T08:36:51.590483Z",
     "shell.execute_reply.started": "2024-01-14T08:36:51.588053Z"
    },
    "id": "8xcgExLLNUcL",
    "tags": []
   },
   "outputs": [],
   "source": [
    "file_train_path = '../data/subtaskA_train_monolingual.jsonl'"
   ]
  },
  {
   "cell_type": "code",
   "execution_count": 9,
   "metadata": {
    "execution": {
     "iopub.execute_input": "2024-01-14T08:36:53.709631Z",
     "iopub.status.busy": "2024-01-14T08:36:53.709311Z",
     "iopub.status.idle": "2024-01-14T08:36:58.188455Z",
     "shell.execute_reply": "2024-01-14T08:36:58.187900Z",
     "shell.execute_reply.started": "2024-01-14T08:36:53.709610Z"
    },
    "id": "z2NPDsVSNUcL",
    "tags": []
   },
   "outputs": [],
   "source": [
    "train_df, validation_df = get_data(file_train_path)"
   ]
  },
  {
   "cell_type": "code",
   "execution_count": 10,
   "metadata": {
    "execution": {
     "iopub.execute_input": "2024-01-14T08:36:58.190272Z",
     "iopub.status.busy": "2024-01-14T08:36:58.189791Z",
     "iopub.status.idle": "2024-01-14T08:36:58.193546Z",
     "shell.execute_reply": "2024-01-14T08:36:58.192883Z",
     "shell.execute_reply.started": "2024-01-14T08:36:58.190241Z"
    },
    "tags": []
   },
   "outputs": [],
   "source": [
    "file_test_path = '../data/subtaskA_dev_monolingual.jsonl'"
   ]
  },
  {
   "cell_type": "code",
   "execution_count": 11,
   "metadata": {
    "execution": {
     "iopub.execute_input": "2024-01-14T08:36:58.194985Z",
     "iopub.status.busy": "2024-01-14T08:36:58.194435Z",
     "iopub.status.idle": "2024-01-14T08:36:58.284409Z",
     "shell.execute_reply": "2024-01-14T08:36:58.283886Z",
     "shell.execute_reply.started": "2024-01-14T08:36:58.194964Z"
    },
    "tags": []
   },
   "outputs": [],
   "source": [
    "test_df = get_test_data(file_test_path)"
   ]
  },
  {
   "cell_type": "code",
   "execution_count": 12,
   "metadata": {
    "colab": {
     "base_uri": "https://localhost:8080/"
    },
    "execution": {
     "iopub.execute_input": "2024-01-14T08:37:02.445215Z",
     "iopub.status.busy": "2024-01-14T08:37:02.444899Z",
     "iopub.status.idle": "2024-01-14T08:37:02.449126Z",
     "shell.execute_reply": "2024-01-14T08:37:02.448424Z",
     "shell.execute_reply.started": "2024-01-14T08:37:02.445191Z"
    },
    "id": "EEv2c4JlNUcL",
    "outputId": "8f429669-e91f-47d2-dd2c-cdb5c18ae026",
    "tags": []
   },
   "outputs": [
    {
     "name": "stdout",
     "output_type": "stream",
     "text": [
      "Train shape: (107781, 2)\n",
      "Validation shape: (11976, 2)\n",
      "Test shape: (5000, 2)\n"
     ]
    }
   ],
   "source": [
    "print(f\"Train shape: {train_df.shape}\")\n",
    "print(f\"Validation shape: {validation_df.shape}\")\n",
    "print(f\"Test shape: {test_df.shape}\")"
   ]
  },
  {
   "cell_type": "code",
   "execution_count": 17,
   "metadata": {
    "execution": {
     "iopub.execute_input": "2024-01-10T20:42:23.610997Z",
     "iopub.status.busy": "2024-01-10T20:42:23.610569Z",
     "iopub.status.idle": "2024-01-10T20:42:23.613814Z",
     "shell.execute_reply": "2024-01-10T20:42:23.613204Z",
     "shell.execute_reply.started": "2024-01-10T20:42:23.610969Z"
    },
    "id": "WUc3MOzPNUcL",
    "tags": []
   },
   "outputs": [],
   "source": [
    "# take only 100 sample from training data (test purposes)\n",
    "# train_df = train_df[:100]\n",
    "# validation_df = validation_df[:100]"
   ]
  },
  {
   "cell_type": "code",
   "execution_count": 13,
   "metadata": {
    "execution": {
     "iopub.execute_input": "2024-01-14T08:37:06.514392Z",
     "iopub.status.busy": "2024-01-14T08:37:06.514084Z",
     "iopub.status.idle": "2024-01-14T08:37:06.517661Z",
     "shell.execute_reply": "2024-01-14T08:37:06.516977Z",
     "shell.execute_reply.started": "2024-01-14T08:37:06.514368Z"
    },
    "id": "F9k5yliYNUcM",
    "tags": []
   },
   "outputs": [],
   "source": [
    "id2label = {0: \"human\", 1: \"machine\"}\n",
    "label2id = {\"human\": 0, \"machine\": 1 }"
   ]
  },
  {
   "cell_type": "code",
   "execution_count": 14,
   "metadata": {
    "execution": {
     "iopub.execute_input": "2024-01-14T08:37:07.847998Z",
     "iopub.status.busy": "2024-01-14T08:37:07.847668Z",
     "iopub.status.idle": "2024-01-14T08:37:10.296641Z",
     "shell.execute_reply": "2024-01-14T08:37:10.296093Z",
     "shell.execute_reply.started": "2024-01-14T08:37:07.847975Z"
    },
    "id": "9ojTyxBDNUcM",
    "tags": []
   },
   "outputs": [],
   "source": [
    "# pandas dataframe to huggingface Dataset\n",
    "train_dataset= Dataset.from_pandas(train_df)\n",
    "validation_dataset = Dataset.from_pandas(validation_df)\n",
    "test_dataset = Dataset.from_pandas(test_df)"
   ]
  },
  {
   "cell_type": "code",
   "execution_count": 20,
   "metadata": {
    "colab": {
     "base_uri": "https://localhost:8080/"
    },
    "execution": {
     "iopub.execute_input": "2024-01-10T20:42:26.090562Z",
     "iopub.status.busy": "2024-01-10T20:42:26.090151Z",
     "iopub.status.idle": "2024-01-10T20:42:26.094390Z",
     "shell.execute_reply": "2024-01-10T20:42:26.093707Z",
     "shell.execute_reply.started": "2024-01-10T20:42:26.090535Z"
    },
    "id": "k1Jf2GGSNUcM",
    "outputId": "32a0850f-1117-4747-ce01-a8a42ed73c65",
    "tags": []
   },
   "outputs": [
    {
     "name": "stdout",
     "output_type": "stream",
     "text": [
      "Dataset({\n",
      "    features: ['text', 'label', '__index_level_0__'],\n",
      "    num_rows: 107781\n",
      "})\n"
     ]
    }
   ],
   "source": [
    "print(train_dataset)"
   ]
  },
  {
   "cell_type": "code",
   "execution_count": 15,
   "metadata": {
    "execution": {
     "iopub.execute_input": "2024-01-14T08:37:10.298376Z",
     "iopub.status.busy": "2024-01-14T08:37:10.297864Z",
     "iopub.status.idle": "2024-01-14T08:37:10.301851Z",
     "shell.execute_reply": "2024-01-14T08:37:10.301218Z",
     "shell.execute_reply.started": "2024-01-14T08:37:10.298346Z"
    },
    "id": "T3Xy4qvvNUcM",
    "tags": []
   },
   "outputs": [],
   "source": [
    "dataset = datasets.DatasetDict({'train': train_dataset, 'validation': validation_dataset, 'test' : test_dataset})"
   ]
  },
  {
   "cell_type": "code",
   "execution_count": 22,
   "metadata": {
    "colab": {
     "base_uri": "https://localhost:8080/"
    },
    "execution": {
     "iopub.execute_input": "2024-01-10T20:42:26.099545Z",
     "iopub.status.busy": "2024-01-10T20:42:26.099334Z",
     "iopub.status.idle": "2024-01-10T20:42:26.102978Z",
     "shell.execute_reply": "2024-01-10T20:42:26.102312Z",
     "shell.execute_reply.started": "2024-01-10T20:42:26.099529Z"
    },
    "id": "IEHbYZfKNUcM",
    "outputId": "18753af5-5b96-4a77-b944-672b72e42258",
    "tags": []
   },
   "outputs": [
    {
     "name": "stdout",
     "output_type": "stream",
     "text": [
      "DatasetDict({\n",
      "    train: Dataset({\n",
      "        features: ['text', 'label', '__index_level_0__'],\n",
      "        num_rows: 107781\n",
      "    })\n",
      "    validation: Dataset({\n",
      "        features: ['text', 'label', '__index_level_0__'],\n",
      "        num_rows: 11976\n",
      "    })\n",
      "    test: Dataset({\n",
      "        features: ['text', 'label'],\n",
      "        num_rows: 5000\n",
      "    })\n",
      "})\n"
     ]
    }
   ],
   "source": [
    "print(dataset)"
   ]
  },
  {
   "cell_type": "code",
   "execution_count": 23,
   "metadata": {
    "execution": {
     "iopub.execute_input": "2024-01-10T20:42:26.104168Z",
     "iopub.status.busy": "2024-01-10T20:42:26.103819Z",
     "iopub.status.idle": "2024-01-10T20:42:26.109992Z",
     "shell.execute_reply": "2024-01-10T20:42:26.109421Z",
     "shell.execute_reply.started": "2024-01-10T20:42:26.104142Z"
    },
    "id": "TmnynMHONUcM",
    "tags": []
   },
   "outputs": [
    {
     "data": {
      "text/plain": [
       "{'text': '\\n\\nThis paper addresses the problem of segmentation and labeling of high dimensional time series data in an unsupervised way. The authors propose a Recurrent Hidden Semi-Markov Model (R-HSMM) to tackle the limitation of existing HSMM models with simple conditional assumptions of observations. Strengths of the paper include the design of a structure encoding function to accelerate the inference while preserving accuracy, and the generalization of the penalty method to distribution space to enable simultaneous training of the model and encoding function. Weaknesses include the lack of a comparison between the proposed R-HSMM and other existing methods, and the lack of a discussion of the computational complexity of the proposed model.',\n",
       " 'label': 1,\n",
       " '__index_level_0__': 45339}"
      ]
     },
     "execution_count": 23,
     "metadata": {},
     "output_type": "execute_result"
    }
   ],
   "source": [
    "dataset[\"train\"][0]"
   ]
  },
  {
   "cell_type": "code",
   "execution_count": 16,
   "metadata": {
    "colab": {
     "base_uri": "https://localhost:8080/"
    },
    "execution": {
     "iopub.execute_input": "2024-01-14T08:37:13.063161Z",
     "iopub.status.busy": "2024-01-14T08:37:13.062838Z",
     "iopub.status.idle": "2024-01-14T08:37:13.165893Z",
     "shell.execute_reply": "2024-01-14T08:37:13.165257Z",
     "shell.execute_reply.started": "2024-01-14T08:37:13.063140Z"
    },
    "id": "g1749W85NUcM",
    "outputId": "2a234c4a-109e-46c1-b7ed-d8c5df353c35",
    "tags": []
   },
   "outputs": [],
   "source": [
    "tokenizer = AutoTokenizer.from_pretrained(MODEL_ID)"
   ]
  },
  {
   "cell_type": "code",
   "execution_count": 21,
   "metadata": {
    "colab": {
     "base_uri": "https://localhost:8080/",
     "height": 81,
     "referenced_widgets": [
      "966fa673180a431a8fcf37e7136accce",
      "102889c5a8eb41ceae24e430d57e6f2b",
      "42b08054d29741e287be449e9dbed602",
      "e7281a16976544859caee0cb242091ce",
      "99581d52e2c74ad3950fa4f0f9773126",
      "d90609abb7ac4b8eb19dd509923a01fd",
      "5b2f06007cba45629a2cb65f6b879ac5",
      "a30f87aa17174f5bab6869f4738e70c0",
      "1c309f62d60e49e3a8c31bec3d77fd68",
      "64b92e75c52e46578951e7d2069b10f2",
      "32b772ed1abe4c44b5dc6509f33486db",
      "ebc01fd903fc45f1aaa8efcad6082762",
      "b0dc0ff3baa94e43aa6148f9663888b0",
      "6539a6dbb9ca428c8113afa8a4ef81fa",
      "93e24ddb5712425fb3556839429b7018",
      "35b1a6c843b148c7851154d90c7ffec0",
      "b82d55be450345fbb16e00691882316c",
      "3cda5e03f2714258911ed6f80f5b66b9",
      "e4526f18721948d2a4be21db7580f2c3",
      "eae1c52b1d144bd4bf302ef9b184bc9d",
      "851ec8de89964cb7b56d305405ef00b2",
      "6b3f5012815c426f98ad208db5be9515"
     ]
    },
    "execution": {
     "iopub.execute_input": "2024-01-14T08:37:31.504149Z",
     "iopub.status.busy": "2024-01-14T08:37:31.503832Z",
     "iopub.status.idle": "2024-01-14T08:39:19.599225Z",
     "shell.execute_reply": "2024-01-14T08:39:19.598503Z",
     "shell.execute_reply.started": "2024-01-14T08:37:31.504129Z"
    },
    "id": "9ZJzRBuTNUcN",
    "outputId": "021d823a-aa33-4f85-a7e4-e28cecd1a49c",
    "tags": []
   },
   "outputs": [
    {
     "data": {
      "application/vnd.jupyter.widget-view+json": {
       "model_id": "ac3bf87ddb684875ab88ef2100cdb08d",
       "version_major": 2,
       "version_minor": 0
      },
      "text/plain": [
       "Map:   0%|          | 0/107781 [00:00<?, ? examples/s]"
      ]
     },
     "metadata": {},
     "output_type": "display_data"
    },
    {
     "data": {
      "application/vnd.jupyter.widget-view+json": {
       "model_id": "0be94b96c0e94444ba7a9fc80a898a8e",
       "version_major": 2,
       "version_minor": 0
      },
      "text/plain": [
       "Map:   0%|          | 0/11976 [00:00<?, ? examples/s]"
      ]
     },
     "metadata": {},
     "output_type": "display_data"
    },
    {
     "data": {
      "application/vnd.jupyter.widget-view+json": {
       "model_id": "ae6ca3aa2338434f8d668627bbce106d",
       "version_major": 2,
       "version_minor": 0
      },
      "text/plain": [
       "Map:   0%|          | 0/5000 [00:00<?, ? examples/s]"
      ]
     },
     "metadata": {},
     "output_type": "display_data"
    }
   ],
   "source": [
    "# pre_tokenizer_columns = set(dataset[\"train\"].features)\n",
    "encoded_dataset = dataset.map(preprocess_function, batched=True, fn_kwargs={'tokenizer': tokenizer})\n",
    "# tokenizer_columns = list(set(encoded_dataset[\"train\"].features) - pre_tokenizer_columns)\n",
    "# print(\"Columns added by tokenizer:\", tokenizer_columns)"
   ]
  },
  {
   "cell_type": "code",
   "execution_count": 22,
   "metadata": {
    "colab": {
     "base_uri": "https://localhost:8080/"
    },
    "execution": {
     "iopub.execute_input": "2024-01-14T08:39:21.948790Z",
     "iopub.status.busy": "2024-01-14T08:39:21.948485Z",
     "iopub.status.idle": "2024-01-14T08:39:23.661173Z",
     "shell.execute_reply": "2024-01-14T08:39:23.660625Z",
     "shell.execute_reply.started": "2024-01-14T08:39:21.948766Z"
    },
    "id": "Xu5LUX0fYClY",
    "outputId": "55fe33ce-86c6-425b-e79d-647be72a7e55",
    "tags": []
   },
   "outputs": [
    {
     "name": "stderr",
     "output_type": "stream",
     "text": [
      "Some weights of the PyTorch model were not used when initializing the TF 2.0 model TFBertModel: ['cls.predictions.transform.dense.weight', 'cls.predictions.transform.dense.bias', 'cls.predictions.transform.LayerNorm.weight', 'cls.predictions.bias', 'cls.seq_relationship.bias', 'cls.predictions.transform.LayerNorm.bias', 'cls.seq_relationship.weight']\n",
      "- This IS expected if you are initializing TFBertModel from a PyTorch model trained on another task or with another architecture (e.g. initializing a TFBertForSequenceClassification model from a BertForPreTraining model).\n",
      "- This IS NOT expected if you are initializing TFBertModel from a PyTorch model that you expect to be exactly identical (e.g. initializing a TFBertForSequenceClassification model from a BertForSequenceClassification model).\n",
      "All the weights of TFBertModel were initialized from the PyTorch model.\n",
      "If your task is similar to the task the model of the checkpoint was trained on, you can already use TFBertModel for predictions without further training.\n"
     ]
    }
   ],
   "source": [
    "model_bert = CustomBert(MODEL_ID, 1)"
   ]
  },
  {
   "cell_type": "code",
   "execution_count": 23,
   "metadata": {
    "colab": {
     "base_uri": "https://localhost:8080/"
    },
    "execution": {
     "iopub.execute_input": "2024-01-14T08:39:26.165270Z",
     "iopub.status.busy": "2024-01-14T08:39:26.164957Z",
     "iopub.status.idle": "2024-01-14T08:39:27.914787Z",
     "shell.execute_reply": "2024-01-14T08:39:27.914168Z",
     "shell.execute_reply.started": "2024-01-14T08:39:26.165245Z"
    },
    "id": "ghwzLBx6NUcN",
    "outputId": "2e987a92-2e67-43b8-f685-937fafcae771",
    "tags": []
   },
   "outputs": [
    {
     "name": "stderr",
     "output_type": "stream",
     "text": [
      "All PyTorch model weights were used when initializing TFBertForSequenceClassification.\n",
      "\n",
      "Some weights or buffers of the TF 2.0 model TFBertForSequenceClassification were not initialized from the PyTorch model and are newly initialized: ['classifier.weight', 'classifier.bias']\n",
      "You should probably TRAIN this model on a down-stream task to be able to use it for predictions and inference.\n"
     ]
    }
   ],
   "source": [
    "prepare_model = TFAutoModelForSequenceClassification.from_pretrained(MODEL_ID, num_labels=len(label2id), id2label=id2label, label2id=label2id)"
   ]
  },
  {
   "cell_type": "code",
   "execution_count": 24,
   "metadata": {
    "colab": {
     "base_uri": "https://localhost:8080/"
    },
    "execution": {
     "iopub.execute_input": "2024-01-14T08:39:28.076506Z",
     "iopub.status.busy": "2024-01-14T08:39:28.076182Z",
     "iopub.status.idle": "2024-01-14T08:39:28.320788Z",
     "shell.execute_reply": "2024-01-14T08:39:28.320232Z",
     "shell.execute_reply.started": "2024-01-14T08:39:28.076484Z"
    },
    "id": "npDxuybLNUcN",
    "outputId": "4b5b116a-2a03-4a35-8bf0-bf3aff31d372",
    "tags": []
   },
   "outputs": [
    {
     "name": "stderr",
     "output_type": "stream",
     "text": [
      "You're using a BertTokenizerFast tokenizer. Please note that with a fast tokenizer, using the `__call__` method is faster than using a method to encode the text followed by a call to the `pad` method to get a padded encoding.\n"
     ]
    }
   ],
   "source": [
    "tf_train_dataset = prepare_model.prepare_tf_dataset(encoded_dataset[\"train\"],\n",
    "                                      batch_size=64,\n",
    "                                      shuffle=True,\n",
    "                                      tokenizer=tokenizer)"
   ]
  },
  {
   "cell_type": "code",
   "execution_count": 25,
   "metadata": {
    "execution": {
     "iopub.execute_input": "2024-01-14T08:39:29.779943Z",
     "iopub.status.busy": "2024-01-14T08:39:29.779626Z",
     "iopub.status.idle": "2024-01-14T08:39:29.854513Z",
     "shell.execute_reply": "2024-01-14T08:39:29.853935Z",
     "shell.execute_reply.started": "2024-01-14T08:39:29.779920Z"
    },
    "id": "f0r78n2WNUcN",
    "tags": []
   },
   "outputs": [],
   "source": [
    "tf_validation_dataset = prepare_model.prepare_tf_dataset(encoded_dataset[\"validation\"],\n",
    "                                          batch_size=64,\n",
    "                                          shuffle=True,\n",
    "                                          tokenizer=tokenizer)"
   ]
  },
  {
   "cell_type": "code",
   "execution_count": 26,
   "metadata": {
    "execution": {
     "iopub.execute_input": "2024-01-14T08:39:31.450430Z",
     "iopub.status.busy": "2024-01-14T08:39:31.450121Z",
     "iopub.status.idle": "2024-01-14T08:39:31.519300Z",
     "shell.execute_reply": "2024-01-14T08:39:31.518760Z",
     "shell.execute_reply.started": "2024-01-14T08:39:31.450407Z"
    },
    "tags": []
   },
   "outputs": [],
   "source": [
    "tf_test_dataset = prepare_model.prepare_tf_dataset(encoded_dataset[\"test\"],\n",
    "                                          batch_size=64,\n",
    "                                          shuffle=True,\n",
    "                                          tokenizer=tokenizer)"
   ]
  },
  {
   "cell_type": "code",
   "execution_count": 28,
   "metadata": {
    "execution": {
     "iopub.execute_input": "2024-01-12T13:10:24.287257Z",
     "iopub.status.busy": "2024-01-12T13:10:24.286930Z",
     "iopub.status.idle": "2024-01-12T13:10:24.293054Z",
     "shell.execute_reply": "2024-01-12T13:10:24.292463Z",
     "shell.execute_reply.started": "2024-01-12T13:10:24.287235Z"
    },
    "id": "cEgYmTBSNUcN",
    "tags": []
   },
   "outputs": [],
   "source": [
    "del prepare_model"
   ]
  },
  {
   "cell_type": "code",
   "execution_count": 32,
   "metadata": {
    "execution": {
     "iopub.execute_input": "2024-01-14T08:41:34.354087Z",
     "iopub.status.busy": "2024-01-14T08:41:34.353758Z",
     "iopub.status.idle": "2024-01-14T08:41:34.368097Z",
     "shell.execute_reply": "2024-01-14T08:41:34.367521Z",
     "shell.execute_reply.started": "2024-01-14T08:41:34.354064Z"
    },
    "id": "CSBjIYBGNUcN",
    "tags": []
   },
   "outputs": [],
   "source": [
    "optimizer = keras.optimizers.Adam(learning_rate=2e-4) \n",
    "# loss_fn = SparseCategoricalCrossentropy(from_logits=False)\n",
    "loss_fn = BinaryCrossentropy(from_logits=False) # use with activation = sigmoid for last layer\n",
    "train_acc_metric = tf.keras.metrics.SparseCategoricalAccuracy()\n",
    "val_acc_metric = tf.keras.metrics.SparseCategoricalAccuracy()\n",
    "\n",
    "# callback = tf.keras.callbacks.LearningRateScheduler(scheduler)"
   ]
  },
  {
   "cell_type": "code",
   "execution_count": 27,
   "metadata": {
    "execution": {
     "iopub.execute_input": "2024-01-13T12:37:01.238865Z",
     "iopub.status.busy": "2024-01-13T12:37:01.238522Z",
     "iopub.status.idle": "2024-01-13T12:37:01.248192Z",
     "shell.execute_reply": "2024-01-13T12:37:01.247515Z",
     "shell.execute_reply.started": "2024-01-13T12:37:01.238843Z"
    },
    "id": "zFqS3-nYNUcO",
    "tags": []
   },
   "outputs": [],
   "source": [
    "# model.compile(optimizer=optimizer, loss=loss_fn, metrics=[train_acc_metric])\n",
    "model_bert.compile(optimizer=optimizer, loss=loss_fn, metrics=['accuracy'], jit_compile=True)"
   ]
  },
  {
   "cell_type": "code",
   "execution_count": 34,
   "metadata": {
    "execution": {
     "iopub.execute_input": "2024-01-10T20:44:21.115953Z",
     "iopub.status.busy": "2024-01-10T20:44:21.115719Z",
     "iopub.status.idle": "2024-01-10T20:44:21.122669Z",
     "shell.execute_reply": "2024-01-10T20:44:21.121972Z",
     "shell.execute_reply.started": "2024-01-10T20:44:21.115935Z"
    },
    "id": "kVD82L1XNUcO",
    "jupyter": {
     "source_hidden": true
    },
    "tags": []
   },
   "outputs": [],
   "source": [
    "def train_step(model, tf_train_dataset, tf_test_dataset, epochs=2):\n",
    "  # train the model by using GradientTape\n",
    "  optimizer = keras.optimizers.Adam(learning_rate=5e-5)\n",
    "\n",
    "  for epoch in range(epochs):\n",
    "      print(f\"\\nStart of Training Epoch {epoch}\")\n",
    "      for step, batch in enumerate(tf_train_dataset):\n",
    "          ids = batch[0]['input_ids']\n",
    "          mask = batch[0]['attention_mask']\n",
    "          y = batch[1]\n",
    "\n",
    "          with tf.GradientTape() as tape:\n",
    "              logits = model((ids, mask), training=True)\n",
    "              loss_value = loss_fn(y, logits)\n",
    "\n",
    "          grads = tape.gradient(loss_value, model.trainable_weights)\n",
    "\n",
    "          optimizer.apply_gradients(\n",
    "                        (grad, var)\n",
    "                        for (grad, var) in zip(grads, model.trainable_variables)\n",
    "                        if grad is not None\n",
    "                      )\n",
    "          # Update training metric.\n",
    "          train_acc_metric(y, logits)\n",
    "\n",
    "          # Log every 200 batches.\n",
    "          if step % 10 == 0:\n",
    "              print(\n",
    "                  \"Training loss at step %d: %.4f\"\n",
    "                  % (step, float(loss_value))\n",
    "              )\n",
    "              #print accuracy on the training set\n",
    "              train_acc = train_acc_metric.result()\n",
    "              print(\"Training acc over epoch: %.4f\" % (float(train_acc),))\n",
    "          # Display metrics at the end of each epoch.\n",
    "\n",
    "      train_acc_metric.reset_states()\n",
    "\n",
    "      # perform validation on test data\n",
    "      for step, batch in enumerate(tf_test_dataset):\n",
    "          ids = batch[0]['input_ids']\n",
    "          mask = batch[0]['attention_mask']\n",
    "          y = batch[1]\n",
    "          logits = model([ids, mask], training=False)\n",
    "          # Update val metrics\n",
    "          val_acc_metric(y, logits)\n",
    "\n",
    "      val_acc = val_acc_metric.result()\n",
    "\n",
    "      # print accuracy on the test set\n",
    "      print(\"Test acc: %.4f\" % (float(val_acc),))\n",
    "\n",
    "      # Reset val metrics at the end of each epoch\n",
    "      val_acc_metric.reset_states()\n",
    "\n",
    "  model.save_weights('my_model', save_format='tf')"
   ]
  },
  {
   "cell_type": "code",
   "execution_count": 28,
   "metadata": {
    "colab": {
     "base_uri": "https://localhost:8080/"
    },
    "execution": {
     "iopub.execute_input": "2024-01-13T12:37:03.209861Z",
     "iopub.status.busy": "2024-01-13T12:37:03.209402Z",
     "iopub.status.idle": "2024-01-13T15:27:01.039362Z",
     "shell.execute_reply": "2024-01-13T15:27:01.038593Z",
     "shell.execute_reply.started": "2024-01-13T12:37:03.209824Z"
    },
    "id": "L_kvqylJZvkk",
    "outputId": "0cbf3cac-fc5d-4062-c6d1-2ef648033142",
    "tags": []
   },
   "outputs": [
    {
     "name": "stdout",
     "output_type": "stream",
     "text": [
      "Epoch 1/15\n"
     ]
    },
    {
     "name": "stderr",
     "output_type": "stream",
     "text": [
      "2024-01-13 12:37:11.272255: I external/local_xla/xla/service/service.cc:168] XLA service 0x5587380d3b40 initialized for platform CUDA (this does not guarantee that XLA will be used). Devices:\n",
      "2024-01-13 12:37:11.272299: I external/local_xla/xla/service/service.cc:176]   StreamExecutor device (0): Tesla T4, Compute Capability 7.5\n",
      "2024-01-13 12:37:11.621594: W tensorflow/compiler/tf2xla/kernels/random_ops.cc:59] Warning: Using tf.random.uniform with XLA compilation will ignore seeds; consider using tf.random.stateless_uniform instead if reproducible behavior is desired. custom_bert_1/sequential_1/dropout_113/dropout/random_uniform/RandomUniform\n",
      "2024-01-13 12:37:11.699462: I tensorflow/compiler/mlir/tensorflow/utils/dump_mlir_util.cc:269] disabling MLIR crash reproducer, set env var `MLIR_CRASH_REPRODUCER_DIRECTORY` to enable.\n",
      "2024-01-13 12:37:11.756278: W tensorflow/compiler/tf2xla/kernels/assert_op.cc:38] Ignoring Assert operator custom_bert_1/tf_bert_model_1/bert/embeddings/assert_less/Assert/Assert\n",
      "2024-01-13 12:37:15.384113: I external/local_xla/xla/stream_executor/cuda/cuda_dnn.cc:454] Loaded cuDNN version 8904\n",
      "WARNING: All log messages before absl::InitializeLog() is called are written to STDERR\n",
      "I0000 00:00:1705149441.807258    6871 device_compiler.h:186] Compiled cluster using XLA!  This line is logged at most once for the lifetime of the process.\n"
     ]
    },
    {
     "name": "stdout",
     "output_type": "stream",
     "text": [
      "1684/1684 [==============================] - ETA: 0s - loss: 0.4072 - accuracy: 0.8094"
     ]
    },
    {
     "name": "stderr",
     "output_type": "stream",
     "text": [
      "2024-01-13 12:48:11.576836: W tensorflow/compiler/tf2xla/kernels/assert_op.cc:38] Ignoring Assert operator custom_bert_1/tf_bert_model_1/bert/embeddings/assert_less/Assert/Assert\n"
     ]
    },
    {
     "name": "stdout",
     "output_type": "stream",
     "text": [
      "1684/1684 [==============================] - 700s 405ms/step - loss: 0.4072 - accuracy: 0.8094 - val_loss: 0.7122 - val_accuracy: 0.6715\n",
      "Epoch 2/15\n",
      "1684/1684 [==============================] - 678s 403ms/step - loss: 0.3509 - accuracy: 0.8403 - val_loss: 0.6637 - val_accuracy: 0.6825\n",
      "Epoch 3/15\n",
      "1684/1684 [==============================] - 678s 403ms/step - loss: 0.3314 - accuracy: 0.8514 - val_loss: 0.6545 - val_accuracy: 0.7027\n",
      "Epoch 4/15\n",
      "1684/1684 [==============================] - 678s 403ms/step - loss: 0.3203 - accuracy: 0.8555 - val_loss: 0.6299 - val_accuracy: 0.7103\n",
      "Epoch 5/15\n",
      "1684/1684 [==============================] - 678s 403ms/step - loss: 0.3108 - accuracy: 0.8606 - val_loss: 0.6133 - val_accuracy: 0.7254\n",
      "Epoch 6/15\n",
      "1684/1684 [==============================] - 678s 403ms/step - loss: 0.3058 - accuracy: 0.8633 - val_loss: 0.6332 - val_accuracy: 0.7206\n",
      "Epoch 7/15\n",
      "1684/1684 [==============================] - 678s 403ms/step - loss: 0.2977 - accuracy: 0.8676 - val_loss: 0.6649 - val_accuracy: 0.7041\n",
      "Epoch 8/15\n",
      "1684/1684 [==============================] - 678s 403ms/step - loss: 0.2918 - accuracy: 0.8705 - val_loss: 0.6231 - val_accuracy: 0.7236\n",
      "Epoch 9/15\n",
      "1684/1684 [==============================] - 678s 403ms/step - loss: 0.2869 - accuracy: 0.8728 - val_loss: 0.6253 - val_accuracy: 0.7181\n",
      "Epoch 10/15\n",
      "1684/1684 [==============================] - 679s 403ms/step - loss: 0.2812 - accuracy: 0.8756 - val_loss: 0.6304 - val_accuracy: 0.7214\n",
      "Epoch 11/15\n",
      "1684/1684 [==============================] - 678s 403ms/step - loss: 0.2778 - accuracy: 0.8773 - val_loss: 0.6571 - val_accuracy: 0.7097\n",
      "Epoch 12/15\n",
      "1684/1684 [==============================] - 678s 403ms/step - loss: 0.2746 - accuracy: 0.8795 - val_loss: 0.6412 - val_accuracy: 0.7202\n",
      "Epoch 13/15\n",
      "1684/1684 [==============================] - 678s 403ms/step - loss: 0.2707 - accuracy: 0.8812 - val_loss: 0.6234 - val_accuracy: 0.7234\n",
      "Epoch 14/15\n",
      "1684/1684 [==============================] - 678s 403ms/step - loss: 0.2665 - accuracy: 0.8829 - val_loss: 0.7118 - val_accuracy: 0.7099\n",
      "Epoch 15/15\n",
      "1684/1684 [==============================] - 678s 403ms/step - loss: 0.2612 - accuracy: 0.8858 - val_loss: 0.6328 - val_accuracy: 0.7252\n"
     ]
    },
    {
     "data": {
      "text/plain": [
       "<keras.src.callbacks.History at 0x7f16f85de9d0>"
      ]
     },
     "execution_count": 28,
     "metadata": {},
     "output_type": "execute_result"
    }
   ],
   "source": [
    "model_bert.fit(tf_train_dataset,\n",
    "               validation_data= tf_test_dataset,\n",
    "               epochs=15)"
   ]
  },
  {
   "cell_type": "code",
   "execution_count": null,
   "metadata": {},
   "outputs": [],
   "source": [
    "## Analyze model arhitecture"
   ]
  },
  {
   "cell_type": "code",
   "execution_count": 29,
   "metadata": {
    "execution": {
     "iopub.execute_input": "2024-01-13T15:27:11.270429Z",
     "iopub.status.busy": "2024-01-13T15:27:11.270099Z",
     "iopub.status.idle": "2024-01-13T15:27:11.294385Z",
     "shell.execute_reply": "2024-01-13T15:27:11.293667Z",
     "shell.execute_reply.started": "2024-01-13T15:27:11.270404Z"
    },
    "tags": []
   },
   "outputs": [
    {
     "name": "stdout",
     "output_type": "stream",
     "text": [
      "Model: \"custom_bert_1\"\n",
      "_________________________________________________________________\n",
      " Layer (type)                Output Shape              Param #   \n",
      "=================================================================\n",
      " tf_bert_model_1 (TFBertMod  multiple                  109482240 \n",
      " el)                                                             \n",
      "                                                                 \n",
      " sequential_1 (Sequential)   (64, 1)                   525313    \n",
      "                                                                 \n",
      "=================================================================\n",
      "Total params: 110007553 (419.65 MB)\n",
      "Trainable params: 525313 (2.00 MB)\n",
      "Non-trainable params: 109482240 (417.64 MB)\n",
      "_________________________________________________________________\n"
     ]
    }
   ],
   "source": [
    "model_bert.summary()"
   ]
  },
  {
   "cell_type": "markdown",
   "metadata": {},
   "source": [
    "## Total layers of Bert model used"
   ]
  },
  {
   "cell_type": "code",
   "execution_count": 30,
   "metadata": {
    "execution": {
     "iopub.execute_input": "2024-01-13T15:27:14.275213Z",
     "iopub.status.busy": "2024-01-13T15:27:14.274888Z",
     "iopub.status.idle": "2024-01-13T15:27:14.278416Z",
     "shell.execute_reply": "2024-01-13T15:27:14.277803Z",
     "shell.execute_reply.started": "2024-01-13T15:27:14.275191Z"
    },
    "tags": []
   },
   "outputs": [],
   "source": [
    "total_layers = len(model_bert._base.bert.encoder.layer)"
   ]
  },
  {
   "cell_type": "code",
   "execution_count": 31,
   "metadata": {
    "execution": {
     "iopub.execute_input": "2024-01-13T15:27:16.381637Z",
     "iopub.status.busy": "2024-01-13T15:27:16.381318Z",
     "iopub.status.idle": "2024-01-13T15:27:16.385000Z",
     "shell.execute_reply": "2024-01-13T15:27:16.384385Z",
     "shell.execute_reply.started": "2024-01-13T15:27:16.381616Z"
    },
    "tags": []
   },
   "outputs": [
    {
     "name": "stdout",
     "output_type": "stream",
     "text": [
      "12\n"
     ]
    }
   ],
   "source": [
    "print(total_layers)"
   ]
  },
  {
   "cell_type": "code",
   "execution_count": null,
   "metadata": {},
   "outputs": [],
   "source": [
    "## Unfreeze some layers from Bert to improve accuracy"
   ]
  },
  {
   "cell_type": "code",
   "execution_count": 32,
   "metadata": {
    "execution": {
     "iopub.execute_input": "2024-01-13T15:27:18.710974Z",
     "iopub.status.busy": "2024-01-13T15:27:18.710657Z",
     "iopub.status.idle": "2024-01-13T15:27:18.717661Z",
     "shell.execute_reply": "2024-01-13T15:27:18.717048Z",
     "shell.execute_reply.started": "2024-01-13T15:27:18.710949Z"
    },
    "tags": []
   },
   "outputs": [],
   "source": [
    "model_bert._base.trainable = True"
   ]
  },
  {
   "cell_type": "code",
   "execution_count": 33,
   "metadata": {
    "execution": {
     "iopub.execute_input": "2024-01-13T15:27:22.447236Z",
     "iopub.status.busy": "2024-01-13T15:27:22.446909Z",
     "iopub.status.idle": "2024-01-13T15:27:22.454282Z",
     "shell.execute_reply": "2024-01-13T15:27:22.453554Z",
     "shell.execute_reply.started": "2024-01-13T15:27:22.447214Z"
    },
    "tags": []
   },
   "outputs": [],
   "source": [
    "for i, layer in enumerate(model_bert._base.bert.encoder.layer):\n",
    "    if i < total_layers - 1:\n",
    "        layer.trainable = False\n",
    "    else:\n",
    "        layer.trainable = True"
   ]
  },
  {
   "cell_type": "code",
   "execution_count": 34,
   "metadata": {
    "execution": {
     "iopub.execute_input": "2024-01-13T15:27:25.916362Z",
     "iopub.status.busy": "2024-01-13T15:27:25.916029Z",
     "iopub.status.idle": "2024-01-13T15:27:25.919671Z",
     "shell.execute_reply": "2024-01-13T15:27:25.918956Z",
     "shell.execute_reply.started": "2024-01-13T15:27:25.916339Z"
    },
    "tags": []
   },
   "outputs": [],
   "source": [
    "# Use legacy optimizer\n",
    "optimizer = tf.keras.optimizers.legacy.Adam(learning_rate=1e-5)  # Adjust the learning rate as needed\n"
   ]
  },
  {
   "cell_type": "code",
   "execution_count": 35,
   "metadata": {
    "execution": {
     "iopub.execute_input": "2024-01-13T15:27:29.049936Z",
     "iopub.status.busy": "2024-01-13T15:27:29.049604Z",
     "iopub.status.idle": "2024-01-13T15:27:29.060929Z",
     "shell.execute_reply": "2024-01-13T15:27:29.060098Z",
     "shell.execute_reply.started": "2024-01-13T15:27:29.049914Z"
    },
    "tags": []
   },
   "outputs": [],
   "source": [
    "model_bert.compile(optimizer=optimizer, loss=loss_fn, metrics=['accuracy'], jit_compile=True)"
   ]
  },
  {
   "cell_type": "markdown",
   "metadata": {},
   "source": [
    "## vizualize the number of trainable param after unfreeze"
   ]
  },
  {
   "cell_type": "code",
   "execution_count": 36,
   "metadata": {
    "execution": {
     "iopub.execute_input": "2024-01-13T15:27:31.072582Z",
     "iopub.status.busy": "2024-01-13T15:27:31.072252Z",
     "iopub.status.idle": "2024-01-13T15:27:31.095417Z",
     "shell.execute_reply": "2024-01-13T15:27:31.094843Z",
     "shell.execute_reply.started": "2024-01-13T15:27:31.072538Z"
    },
    "tags": []
   },
   "outputs": [
    {
     "name": "stdout",
     "output_type": "stream",
     "text": [
      "Model: \"custom_bert_1\"\n",
      "_________________________________________________________________\n",
      " Layer (type)                Output Shape              Param #   \n",
      "=================================================================\n",
      " tf_bert_model_1 (TFBertMod  multiple                  109482240 \n",
      " el)                                                             \n",
      "                                                                 \n",
      " sequential_1 (Sequential)   (64, 1)                   525313    \n",
      "                                                                 \n",
      "=================================================================\n",
      "Total params: 110007553 (419.65 MB)\n",
      "Trainable params: 32040961 (122.23 MB)\n",
      "Non-trainable params: 77966592 (297.42 MB)\n",
      "_________________________________________________________________\n"
     ]
    }
   ],
   "source": [
    "model_bert.summary()"
   ]
  },
  {
   "cell_type": "markdown",
   "metadata": {},
   "source": [
    "## Train again the model"
   ]
  },
  {
   "cell_type": "code",
   "execution_count": 38,
   "metadata": {
    "execution": {
     "iopub.execute_input": "2024-01-13T15:28:16.293863Z",
     "iopub.status.busy": "2024-01-13T15:28:16.293534Z",
     "iopub.status.idle": "2024-01-13T19:01:48.265316Z",
     "shell.execute_reply": "2024-01-13T19:01:48.264696Z",
     "shell.execute_reply.started": "2024-01-13T15:28:16.293841Z"
    },
    "tags": []
   },
   "outputs": [
    {
     "name": "stdout",
     "output_type": "stream",
     "text": [
      "Epoch 1/8\n",
      "1684/1684 [==============================] - ETA: 0s - loss: 0.2248 - accuracy: 0.9031"
     ]
    },
    {
     "name": "stderr",
     "output_type": "stream",
     "text": [
      "2024-01-13 15:54:29.037568: W tensorflow/compiler/tf2xla/kernels/assert_op.cc:38] Ignoring Assert operator custom_bert_1/tf_bert_model_1/bert/embeddings/assert_less/Assert/Assert\n"
     ]
    },
    {
     "name": "stdout",
     "output_type": "stream",
     "text": [
      "1684/1684 [==============================] - 1604s 952ms/step - loss: 0.2248 - accuracy: 0.9031 - val_loss: 0.6746 - val_accuracy: 0.7276\n",
      "Epoch 2/8\n",
      "1684/1684 [==============================] - 1602s 951ms/step - loss: 0.1883 - accuracy: 0.9206 - val_loss: 0.7219 - val_accuracy: 0.7252\n",
      "Epoch 3/8\n",
      "1684/1684 [==============================] - 1601s 951ms/step - loss: 0.1677 - accuracy: 0.9297 - val_loss: 0.7747 - val_accuracy: 0.7250\n",
      "Epoch 4/8\n",
      "1684/1684 [==============================] - 1601s 951ms/step - loss: 0.1499 - accuracy: 0.9386 - val_loss: 0.7299 - val_accuracy: 0.7398\n",
      "Epoch 5/8\n",
      "1684/1684 [==============================] - 1601s 951ms/step - loss: 0.1329 - accuracy: 0.9457 - val_loss: 0.7538 - val_accuracy: 0.7428\n",
      "Epoch 6/8\n",
      "1684/1684 [==============================] - 1601s 951ms/step - loss: 0.1182 - accuracy: 0.9523 - val_loss: 0.8632 - val_accuracy: 0.7316\n",
      "Epoch 7/8\n",
      "1684/1684 [==============================] - 1600s 950ms/step - loss: 0.1064 - accuracy: 0.9577 - val_loss: 0.8330 - val_accuracy: 0.7442\n",
      "Epoch 8/8\n",
      "1684/1684 [==============================] - 1601s 951ms/step - loss: 0.0930 - accuracy: 0.9635 - val_loss: 0.9165 - val_accuracy: 0.7464\n"
     ]
    },
    {
     "data": {
      "text/plain": [
       "<keras.src.callbacks.History at 0x7f1664136bd0>"
      ]
     },
     "execution_count": 38,
     "metadata": {},
     "output_type": "execute_result"
    }
   ],
   "source": [
    "model_bert.fit(tf_train_dataset,\n",
    "               validation_data= tf_test_dataset,\n",
    "               epochs=8)"
   ]
  },
  {
   "cell_type": "code",
   "execution_count": null,
   "metadata": {
    "colab": {
     "base_uri": "https://localhost:8080/"
    },
    "id": "gYsuEqJQgQkB",
    "outputId": "bbf6a01c-7d10-43b0-f0d8-29b62bbc99dc",
    "tags": []
   },
   "outputs": [],
   "source": [
    "# predict on test data\n",
    "predictions = model_bert.predict(tf_validation_dataset)"
   ]
  },
  {
   "cell_type": "code",
   "execution_count": null,
   "metadata": {},
   "outputs": [],
   "source": []
  },
  {
   "cell_type": "code",
   "execution_count": null,
   "metadata": {
    "tags": []
   },
   "outputs": [],
   "source": [
    "model_bert.evaluate(tf_validation_dataset)"
   ]
  },
  {
   "cell_type": "code",
   "execution_count": null,
   "metadata": {
    "colab": {
     "base_uri": "https://localhost:8080/"
    },
    "id": "plLCaI8SgoMW",
    "outputId": "aea4d095-cc9a-47e3-af6d-3a5ef5382c5a"
   },
   "outputs": [],
   "source": [
    "print(predictions[0])"
   ]
  },
  {
   "cell_type": "markdown",
   "metadata": {
    "id": "Sy3nlgv5NUcO"
   },
   "source": [
    "### Save Model"
   ]
  },
  {
   "cell_type": "code",
   "execution_count": 40,
   "metadata": {
    "execution": {
     "iopub.execute_input": "2024-01-13T19:01:49.552569Z",
     "iopub.status.busy": "2024-01-13T19:01:49.552262Z",
     "iopub.status.idle": "2024-01-13T19:01:58.623296Z",
     "shell.execute_reply": "2024-01-13T19:01:58.622607Z",
     "shell.execute_reply.started": "2024-01-13T19:01:49.552519Z"
    },
    "id": "LDXJmTldNUcO",
    "tags": []
   },
   "outputs": [],
   "source": [
    "# The recommended way to save a subclassed model is to use save_weights to create a TensorFlow SavedModel checkpoint\n",
    "model_bert.save_weights('my_model', save_format='tf')"
   ]
  },
  {
   "cell_type": "markdown",
   "metadata": {
    "id": "Ghnerbj-NUcO"
   },
   "source": [
    "### Load Model"
   ]
  },
  {
   "cell_type": "code",
   "execution_count": 28,
   "metadata": {
    "execution": {
     "iopub.execute_input": "2024-01-14T08:40:21.215991Z",
     "iopub.status.busy": "2024-01-14T08:40:21.215619Z",
     "iopub.status.idle": "2024-01-14T08:40:25.429007Z",
     "shell.execute_reply": "2024-01-14T08:40:25.428442Z",
     "shell.execute_reply.started": "2024-01-14T08:40:21.215967Z"
    },
    "id": "L45NLLTWNUcP",
    "tags": []
   },
   "outputs": [
    {
     "name": "stderr",
     "output_type": "stream",
     "text": [
      "Some weights of the PyTorch model were not used when initializing the TF 2.0 model TFBertModel: ['cls.predictions.transform.dense.weight', 'cls.predictions.transform.dense.bias', 'cls.predictions.transform.LayerNorm.weight', 'cls.predictions.bias', 'cls.seq_relationship.bias', 'cls.predictions.transform.LayerNorm.bias', 'cls.seq_relationship.weight']\n",
      "- This IS expected if you are initializing TFBertModel from a PyTorch model trained on another task or with another architecture (e.g. initializing a TFBertForSequenceClassification model from a BertForPreTraining model).\n",
      "- This IS NOT expected if you are initializing TFBertModel from a PyTorch model that you expect to be exactly identical (e.g. initializing a TFBertForSequenceClassification model from a BertForSequenceClassification model).\n",
      "All the weights of TFBertModel were initialized from the PyTorch model.\n",
      "If your task is similar to the task the model of the checkpoint was trained on, you can already use TFBertModel for predictions without further training.\n"
     ]
    },
    {
     "data": {
      "text/plain": [
       "<tensorflow.python.checkpoint.checkpoint.CheckpointLoadStatus at 0x7f3ba2e36650>"
      ]
     },
     "execution_count": 28,
     "metadata": {},
     "output_type": "execute_result"
    }
   ],
   "source": [
    "loaded_model = CustomBert(MODEL_ID, 1)\n",
    "loaded_model.load_weights('my_model')"
   ]
  },
  {
   "cell_type": "code",
   "execution_count": 33,
   "metadata": {
    "execution": {
     "iopub.execute_input": "2024-01-14T08:41:40.450578Z",
     "iopub.status.busy": "2024-01-14T08:41:40.450256Z",
     "iopub.status.idle": "2024-01-14T08:41:40.463086Z",
     "shell.execute_reply": "2024-01-14T08:41:40.462550Z",
     "shell.execute_reply.started": "2024-01-14T08:41:40.450557Z"
    },
    "tags": []
   },
   "outputs": [],
   "source": [
    "# Use legacy optimizer\n",
    "optimizer = tf.keras.optimizers.legacy.Adam(learning_rate=1e-5)  # Adjust the learning rate as needed\n",
    "loaded_model.compile(optimizer=optimizer, loss=loss_fn, metrics=['accuracy'], jit_compile=True)"
   ]
  },
  {
   "cell_type": "code",
   "execution_count": 34,
   "metadata": {
    "execution": {
     "iopub.execute_input": "2024-01-14T08:41:43.502855Z",
     "iopub.status.busy": "2024-01-14T08:41:43.502548Z",
     "iopub.status.idle": "2024-01-14T08:42:23.915866Z",
     "shell.execute_reply": "2024-01-14T08:42:23.915318Z",
     "shell.execute_reply.started": "2024-01-14T08:41:43.502831Z"
    },
    "tags": []
   },
   "outputs": [
    {
     "name": "stderr",
     "output_type": "stream",
     "text": [
      "2024-01-14 08:41:49.637717: I external/local_xla/xla/service/service.cc:168] XLA service 0x5557f2881e50 initialized for platform CUDA (this does not guarantee that XLA will be used). Devices:\n",
      "2024-01-14 08:41:49.637761: I external/local_xla/xla/service/service.cc:176]   StreamExecutor device (0): Tesla T4, Compute Capability 7.5\n",
      "2024-01-14 08:41:49.793678: W tensorflow/compiler/tf2xla/kernels/assert_op.cc:38] Ignoring Assert operator custom_bert_2/tf_bert_model_2/bert/embeddings/assert_less/Assert/Assert\n",
      "2024-01-14 08:41:49.797835: I tensorflow/compiler/mlir/tensorflow/utils/dump_mlir_util.cc:269] disabling MLIR crash reproducer, set env var `MLIR_CRASH_REPRODUCER_DIRECTORY` to enable.\n",
      "2024-01-14 08:41:50.610975: I external/local_xla/xla/stream_executor/cuda/cuda_dnn.cc:454] Loaded cuDNN version 8904\n",
      "WARNING: All log messages before absl::InitializeLog() is called are written to STDERR\n",
      "I0000 00:00:1705221713.046352     302 device_compiler.h:186] Compiled cluster using XLA!  This line is logged at most once for the lifetime of the process.\n"
     ]
    },
    {
     "name": "stdout",
     "output_type": "stream",
     "text": [
      "78/78 [==============================] - 40s 396ms/step - loss: 0.9186 - accuracy: 0.7458\n"
     ]
    },
    {
     "data": {
      "text/plain": [
       "[0.9186090230941772, 0.7457932829856873]"
      ]
     },
     "execution_count": 34,
     "metadata": {},
     "output_type": "execute_result"
    }
   ],
   "source": [
    "loaded_model.evaluate(tf_test_dataset)"
   ]
  },
  {
   "cell_type": "code",
   "execution_count": null,
   "metadata": {},
   "outputs": [],
   "source": []
  },
  {
   "cell_type": "markdown",
   "metadata": {
    "id": "0in1CyEfNUcP"
   },
   "source": [
    "### Train the loaded model on a batch"
   ]
  },
  {
   "cell_type": "code",
   "execution_count": null,
   "metadata": {
    "id": "q3GJI-gsNUcP"
   },
   "outputs": [],
   "source": [
    "# Extract a batch from the training dataset\n",
    "batch = next(iter(tf_train_dataset))\n",
    "\n",
    "# Separate input data and target data from the batch\n",
    "ids = batch[0]['input_ids']\n",
    "mask = batch[0]['attention_mask']\n",
    "y = batch[1]"
   ]
  },
  {
   "cell_type": "code",
   "execution_count": null,
   "metadata": {
    "id": "54Ix4om9NUcP"
   },
   "outputs": [],
   "source": [
    "# call the model on the extracted batch\n",
    "loss_value = loaded_model.train_on_batch((ids, mask), y)\n",
    "print(f\"Loss: {loss_value}\")"
   ]
  },
  {
   "cell_type": "markdown",
   "metadata": {
    "id": "85Hp8V8PNUcP"
   },
   "source": [
    "### Check that the model has been preserved"
   ]
  },
  {
   "cell_type": "code",
   "execution_count": null,
   "metadata": {
    "id": "dkwpg0FHNUcP"
   },
   "outputs": [],
   "source": [
    "loaded_model.load_weights('my_model')"
   ]
  },
  {
   "cell_type": "code",
   "execution_count": null,
   "metadata": {
    "id": "_7OvAvd1NUcP"
   },
   "outputs": [],
   "source": [
    "val_acc_metric.reset_state()\n",
    "for step, batch in enumerate(tf_test_dataset):\n",
    "        ids = batch[0]['input_ids']\n",
    "        mask = batch[0]['attention_mask']\n",
    "        y = batch[1]\n",
    "        logits = loaded_model([ids, mask], training=False)\n",
    "        # Update val metrics\n",
    "        val_acc_metric(y, logits)\n",
    "val_acc = val_acc_metric.result()\n",
    "# print accuracy on the test set\n",
    "print(\"test acc: %.4f\" % (float(val_acc),))"
   ]
  },
  {
   "cell_type": "code",
   "execution_count": null,
   "metadata": {
    "id": "u8krcux_NUcQ"
   },
   "outputs": [],
   "source": [
    "# Check that the model state has been preserved\n",
    "new_predictions = loaded_model.predict(tf_test_dataset)\n",
    "# np.testing.assert_allclose(predictions, new_predictions, atol=1e-6)\n"
   ]
  },
  {
   "cell_type": "markdown",
   "metadata": {
    "id": "cBl_P9tZNUcQ"
   },
   "source": [
    "### Another save"
   ]
  },
  {
   "cell_type": "code",
   "execution_count": null,
   "metadata": {
    "id": "hhkY4cuLNUcQ",
    "tags": []
   },
   "outputs": [],
   "source": [
    "# save the custom model to file (not suported for custom class)\n",
    "model_bert.save('path_to_my_model',save_format='tf')"
   ]
  },
  {
   "cell_type": "code",
   "execution_count": null,
   "metadata": {
    "id": "vIutMq6bNUcQ",
    "tags": []
   },
   "outputs": [],
   "source": [
    "# load the model\n",
    "new_model = keras.models.load_model('path_to_my_model')"
   ]
  }
 ],
 "metadata": {
  "colab": {
   "provenance": []
  },
  "kernelspec": {
   "display_name": "saturn (Python 3)",
   "language": "python",
   "name": "python3"
  },
  "language_info": {
   "codemirror_mode": {
    "name": "ipython",
    "version": 3
   },
   "file_extension": ".py",
   "mimetype": "text/x-python",
   "name": "python",
   "nbconvert_exporter": "python",
   "pygments_lexer": "ipython3",
   "version": "3.11.6"
  },
  "widgets": {
   "application/vnd.jupyter.widget-state+json": {
    "102889c5a8eb41ceae24e430d57e6f2b": {
     "model_module": "@jupyter-widgets/controls",
     "model_module_version": "1.5.0",
     "model_name": "HTMLModel",
     "state": {
      "_dom_classes": [],
      "_model_module": "@jupyter-widgets/controls",
      "_model_module_version": "1.5.0",
      "_model_name": "HTMLModel",
      "_view_count": null,
      "_view_module": "@jupyter-widgets/controls",
      "_view_module_version": "1.5.0",
      "_view_name": "HTMLView",
      "description": "",
      "description_tooltip": null,
      "layout": "IPY_MODEL_d90609abb7ac4b8eb19dd509923a01fd",
      "placeholder": "​",
      "style": "IPY_MODEL_5b2f06007cba45629a2cb65f6b879ac5",
      "value": "Map: 100%"
     }
    },
    "1c309f62d60e49e3a8c31bec3d77fd68": {
     "model_module": "@jupyter-widgets/controls",
     "model_module_version": "1.5.0",
     "model_name": "ProgressStyleModel",
     "state": {
      "_model_module": "@jupyter-widgets/controls",
      "_model_module_version": "1.5.0",
      "_model_name": "ProgressStyleModel",
      "_view_count": null,
      "_view_module": "@jupyter-widgets/base",
      "_view_module_version": "1.2.0",
      "_view_name": "StyleView",
      "bar_color": null,
      "description_width": ""
     }
    },
    "1cdf31afbf4f40d285f6d13844402622": {
     "model_module": "@jupyter-widgets/controls",
     "model_module_version": "1.5.0",
     "model_name": "HTMLModel",
     "state": {
      "_dom_classes": [],
      "_model_module": "@jupyter-widgets/controls",
      "_model_module_version": "1.5.0",
      "_model_name": "HTMLModel",
      "_view_count": null,
      "_view_module": "@jupyter-widgets/controls",
      "_view_module_version": "1.5.0",
      "_view_name": "HTMLView",
      "description": "",
      "description_tooltip": null,
      "layout": "IPY_MODEL_d6c3be2aaf84428d92b13cc46401913c",
      "placeholder": "​",
      "style": "IPY_MODEL_3ef3348ed45e46719456e7fc3af64adb",
      "value": "model.safetensors: 100%"
     }
    },
    "32b772ed1abe4c44b5dc6509f33486db": {
     "model_module": "@jupyter-widgets/controls",
     "model_module_version": "1.5.0",
     "model_name": "DescriptionStyleModel",
     "state": {
      "_model_module": "@jupyter-widgets/controls",
      "_model_module_version": "1.5.0",
      "_model_name": "DescriptionStyleModel",
      "_view_count": null,
      "_view_module": "@jupyter-widgets/base",
      "_view_module_version": "1.2.0",
      "_view_name": "StyleView",
      "description_width": ""
     }
    },
    "35b1a6c843b148c7851154d90c7ffec0": {
     "model_module": "@jupyter-widgets/base",
     "model_module_version": "1.2.0",
     "model_name": "LayoutModel",
     "state": {
      "_model_module": "@jupyter-widgets/base",
      "_model_module_version": "1.2.0",
      "_model_name": "LayoutModel",
      "_view_count": null,
      "_view_module": "@jupyter-widgets/base",
      "_view_module_version": "1.2.0",
      "_view_name": "LayoutView",
      "align_content": null,
      "align_items": null,
      "align_self": null,
      "border": null,
      "bottom": null,
      "display": null,
      "flex": null,
      "flex_flow": null,
      "grid_area": null,
      "grid_auto_columns": null,
      "grid_auto_flow": null,
      "grid_auto_rows": null,
      "grid_column": null,
      "grid_gap": null,
      "grid_row": null,
      "grid_template_areas": null,
      "grid_template_columns": null,
      "grid_template_rows": null,
      "height": null,
      "justify_content": null,
      "justify_items": null,
      "left": null,
      "margin": null,
      "max_height": null,
      "max_width": null,
      "min_height": null,
      "min_width": null,
      "object_fit": null,
      "object_position": null,
      "order": null,
      "overflow": null,
      "overflow_x": null,
      "overflow_y": null,
      "padding": null,
      "right": null,
      "top": null,
      "visibility": null,
      "width": null
     }
    },
    "3cda5e03f2714258911ed6f80f5b66b9": {
     "model_module": "@jupyter-widgets/controls",
     "model_module_version": "1.5.0",
     "model_name": "DescriptionStyleModel",
     "state": {
      "_model_module": "@jupyter-widgets/controls",
      "_model_module_version": "1.5.0",
      "_model_name": "DescriptionStyleModel",
      "_view_count": null,
      "_view_module": "@jupyter-widgets/base",
      "_view_module_version": "1.2.0",
      "_view_name": "StyleView",
      "description_width": ""
     }
    },
    "3ef3348ed45e46719456e7fc3af64adb": {
     "model_module": "@jupyter-widgets/controls",
     "model_module_version": "1.5.0",
     "model_name": "DescriptionStyleModel",
     "state": {
      "_model_module": "@jupyter-widgets/controls",
      "_model_module_version": "1.5.0",
      "_model_name": "DescriptionStyleModel",
      "_view_count": null,
      "_view_module": "@jupyter-widgets/base",
      "_view_module_version": "1.2.0",
      "_view_name": "StyleView",
      "description_width": ""
     }
    },
    "3f3a04d072c7465f9aa75829833299a5": {
     "model_module": "@jupyter-widgets/controls",
     "model_module_version": "1.5.0",
     "model_name": "HTMLModel",
     "state": {
      "_dom_classes": [],
      "_model_module": "@jupyter-widgets/controls",
      "_model_module_version": "1.5.0",
      "_model_name": "HTMLModel",
      "_view_count": null,
      "_view_module": "@jupyter-widgets/controls",
      "_view_module_version": "1.5.0",
      "_view_name": "HTMLView",
      "description": "",
      "description_tooltip": null,
      "layout": "IPY_MODEL_eaa8b5de786c458399d7ec43fd5ee3fe",
      "placeholder": "​",
      "style": "IPY_MODEL_c7273e2dd30e44118fe14a3fa3730eca",
      "value": "config.json: 100%"
     }
    },
    "3fd05ad040f94ccc8bc1fd35f26bc686": {
     "model_module": "@jupyter-widgets/controls",
     "model_module_version": "1.5.0",
     "model_name": "HBoxModel",
     "state": {
      "_dom_classes": [],
      "_model_module": "@jupyter-widgets/controls",
      "_model_module_version": "1.5.0",
      "_model_name": "HBoxModel",
      "_view_count": null,
      "_view_module": "@jupyter-widgets/controls",
      "_view_module_version": "1.5.0",
      "_view_name": "HBoxView",
      "box_style": "",
      "children": [
       "IPY_MODEL_3f3a04d072c7465f9aa75829833299a5",
       "IPY_MODEL_edd59c43d560414e967191986348fe5f",
       "IPY_MODEL_ac644588966f47ff866dd7988fc02ca6"
      ],
      "layout": "IPY_MODEL_6f0b2349bbe94ef4977ecc72d6dba616"
     }
    },
    "42b08054d29741e287be449e9dbed602": {
     "model_module": "@jupyter-widgets/controls",
     "model_module_version": "1.5.0",
     "model_name": "FloatProgressModel",
     "state": {
      "_dom_classes": [],
      "_model_module": "@jupyter-widgets/controls",
      "_model_module_version": "1.5.0",
      "_model_name": "FloatProgressModel",
      "_view_count": null,
      "_view_module": "@jupyter-widgets/controls",
      "_view_module_version": "1.5.0",
      "_view_name": "ProgressView",
      "bar_style": "success",
      "description": "",
      "description_tooltip": null,
      "layout": "IPY_MODEL_a30f87aa17174f5bab6869f4738e70c0",
      "max": 100,
      "min": 0,
      "orientation": "horizontal",
      "style": "IPY_MODEL_1c309f62d60e49e3a8c31bec3d77fd68",
      "value": 100
     }
    },
    "44bad1c5c8fb48ecbf3c7b1d1ccddc38": {
     "model_module": "@jupyter-widgets/base",
     "model_module_version": "1.2.0",
     "model_name": "LayoutModel",
     "state": {
      "_model_module": "@jupyter-widgets/base",
      "_model_module_version": "1.2.0",
      "_model_name": "LayoutModel",
      "_view_count": null,
      "_view_module": "@jupyter-widgets/base",
      "_view_module_version": "1.2.0",
      "_view_name": "LayoutView",
      "align_content": null,
      "align_items": null,
      "align_self": null,
      "border": null,
      "bottom": null,
      "display": null,
      "flex": null,
      "flex_flow": null,
      "grid_area": null,
      "grid_auto_columns": null,
      "grid_auto_flow": null,
      "grid_auto_rows": null,
      "grid_column": null,
      "grid_gap": null,
      "grid_row": null,
      "grid_template_areas": null,
      "grid_template_columns": null,
      "grid_template_rows": null,
      "height": null,
      "justify_content": null,
      "justify_items": null,
      "left": null,
      "margin": null,
      "max_height": null,
      "max_width": null,
      "min_height": null,
      "min_width": null,
      "object_fit": null,
      "object_position": null,
      "order": null,
      "overflow": null,
      "overflow_x": null,
      "overflow_y": null,
      "padding": null,
      "right": null,
      "top": null,
      "visibility": null,
      "width": null
     }
    },
    "4cb2f5fd9f8644208fb88902dfaa9f75": {
     "model_module": "@jupyter-widgets/controls",
     "model_module_version": "1.5.0",
     "model_name": "HTMLModel",
     "state": {
      "_dom_classes": [],
      "_model_module": "@jupyter-widgets/controls",
      "_model_module_version": "1.5.0",
      "_model_name": "HTMLModel",
      "_view_count": null,
      "_view_module": "@jupyter-widgets/controls",
      "_view_module_version": "1.5.0",
      "_view_name": "HTMLView",
      "description": "",
      "description_tooltip": null,
      "layout": "IPY_MODEL_83c8c44247f94e629f00dda8fde84a7b",
      "placeholder": "​",
      "style": "IPY_MODEL_87c054754ef04b308a06b9d88f882029",
      "value": " 440M/440M [00:02&lt;00:00, 155MB/s]"
     }
    },
    "56513b4fde1b4e4a93e7b8ee2f3c7df5": {
     "model_module": "@jupyter-widgets/base",
     "model_module_version": "1.2.0",
     "model_name": "LayoutModel",
     "state": {
      "_model_module": "@jupyter-widgets/base",
      "_model_module_version": "1.2.0",
      "_model_name": "LayoutModel",
      "_view_count": null,
      "_view_module": "@jupyter-widgets/base",
      "_view_module_version": "1.2.0",
      "_view_name": "LayoutView",
      "align_content": null,
      "align_items": null,
      "align_self": null,
      "border": null,
      "bottom": null,
      "display": null,
      "flex": null,
      "flex_flow": null,
      "grid_area": null,
      "grid_auto_columns": null,
      "grid_auto_flow": null,
      "grid_auto_rows": null,
      "grid_column": null,
      "grid_gap": null,
      "grid_row": null,
      "grid_template_areas": null,
      "grid_template_columns": null,
      "grid_template_rows": null,
      "height": null,
      "justify_content": null,
      "justify_items": null,
      "left": null,
      "margin": null,
      "max_height": null,
      "max_width": null,
      "min_height": null,
      "min_width": null,
      "object_fit": null,
      "object_position": null,
      "order": null,
      "overflow": null,
      "overflow_x": null,
      "overflow_y": null,
      "padding": null,
      "right": null,
      "top": null,
      "visibility": null,
      "width": null
     }
    },
    "5b2f06007cba45629a2cb65f6b879ac5": {
     "model_module": "@jupyter-widgets/controls",
     "model_module_version": "1.5.0",
     "model_name": "DescriptionStyleModel",
     "state": {
      "_model_module": "@jupyter-widgets/controls",
      "_model_module_version": "1.5.0",
      "_model_name": "DescriptionStyleModel",
      "_view_count": null,
      "_view_module": "@jupyter-widgets/base",
      "_view_module_version": "1.2.0",
      "_view_name": "StyleView",
      "description_width": ""
     }
    },
    "61921e623cfe431888a5bc268a7e473a": {
     "model_module": "@jupyter-widgets/controls",
     "model_module_version": "1.5.0",
     "model_name": "ProgressStyleModel",
     "state": {
      "_model_module": "@jupyter-widgets/controls",
      "_model_module_version": "1.5.0",
      "_model_name": "ProgressStyleModel",
      "_view_count": null,
      "_view_module": "@jupyter-widgets/base",
      "_view_module_version": "1.2.0",
      "_view_name": "StyleView",
      "bar_color": null,
      "description_width": ""
     }
    },
    "64b92e75c52e46578951e7d2069b10f2": {
     "model_module": "@jupyter-widgets/base",
     "model_module_version": "1.2.0",
     "model_name": "LayoutModel",
     "state": {
      "_model_module": "@jupyter-widgets/base",
      "_model_module_version": "1.2.0",
      "_model_name": "LayoutModel",
      "_view_count": null,
      "_view_module": "@jupyter-widgets/base",
      "_view_module_version": "1.2.0",
      "_view_name": "LayoutView",
      "align_content": null,
      "align_items": null,
      "align_self": null,
      "border": null,
      "bottom": null,
      "display": null,
      "flex": null,
      "flex_flow": null,
      "grid_area": null,
      "grid_auto_columns": null,
      "grid_auto_flow": null,
      "grid_auto_rows": null,
      "grid_column": null,
      "grid_gap": null,
      "grid_row": null,
      "grid_template_areas": null,
      "grid_template_columns": null,
      "grid_template_rows": null,
      "height": null,
      "justify_content": null,
      "justify_items": null,
      "left": null,
      "margin": null,
      "max_height": null,
      "max_width": null,
      "min_height": null,
      "min_width": null,
      "object_fit": null,
      "object_position": null,
      "order": null,
      "overflow": null,
      "overflow_x": null,
      "overflow_y": null,
      "padding": null,
      "right": null,
      "top": null,
      "visibility": null,
      "width": null
     }
    },
    "6539a6dbb9ca428c8113afa8a4ef81fa": {
     "model_module": "@jupyter-widgets/controls",
     "model_module_version": "1.5.0",
     "model_name": "FloatProgressModel",
     "state": {
      "_dom_classes": [],
      "_model_module": "@jupyter-widgets/controls",
      "_model_module_version": "1.5.0",
      "_model_name": "FloatProgressModel",
      "_view_count": null,
      "_view_module": "@jupyter-widgets/controls",
      "_view_module_version": "1.5.0",
      "_view_name": "ProgressView",
      "bar_style": "success",
      "description": "",
      "description_tooltip": null,
      "layout": "IPY_MODEL_e4526f18721948d2a4be21db7580f2c3",
      "max": 100,
      "min": 0,
      "orientation": "horizontal",
      "style": "IPY_MODEL_eae1c52b1d144bd4bf302ef9b184bc9d",
      "value": 100
     }
    },
    "6b3f5012815c426f98ad208db5be9515": {
     "model_module": "@jupyter-widgets/controls",
     "model_module_version": "1.5.0",
     "model_name": "DescriptionStyleModel",
     "state": {
      "_model_module": "@jupyter-widgets/controls",
      "_model_module_version": "1.5.0",
      "_model_name": "DescriptionStyleModel",
      "_view_count": null,
      "_view_module": "@jupyter-widgets/base",
      "_view_module_version": "1.2.0",
      "_view_name": "StyleView",
      "description_width": ""
     }
    },
    "6f0b2349bbe94ef4977ecc72d6dba616": {
     "model_module": "@jupyter-widgets/base",
     "model_module_version": "1.2.0",
     "model_name": "LayoutModel",
     "state": {
      "_model_module": "@jupyter-widgets/base",
      "_model_module_version": "1.2.0",
      "_model_name": "LayoutModel",
      "_view_count": null,
      "_view_module": "@jupyter-widgets/base",
      "_view_module_version": "1.2.0",
      "_view_name": "LayoutView",
      "align_content": null,
      "align_items": null,
      "align_self": null,
      "border": null,
      "bottom": null,
      "display": null,
      "flex": null,
      "flex_flow": null,
      "grid_area": null,
      "grid_auto_columns": null,
      "grid_auto_flow": null,
      "grid_auto_rows": null,
      "grid_column": null,
      "grid_gap": null,
      "grid_row": null,
      "grid_template_areas": null,
      "grid_template_columns": null,
      "grid_template_rows": null,
      "height": null,
      "justify_content": null,
      "justify_items": null,
      "left": null,
      "margin": null,
      "max_height": null,
      "max_width": null,
      "min_height": null,
      "min_width": null,
      "object_fit": null,
      "object_position": null,
      "order": null,
      "overflow": null,
      "overflow_x": null,
      "overflow_y": null,
      "padding": null,
      "right": null,
      "top": null,
      "visibility": null,
      "width": null
     }
    },
    "83c8c44247f94e629f00dda8fde84a7b": {
     "model_module": "@jupyter-widgets/base",
     "model_module_version": "1.2.0",
     "model_name": "LayoutModel",
     "state": {
      "_model_module": "@jupyter-widgets/base",
      "_model_module_version": "1.2.0",
      "_model_name": "LayoutModel",
      "_view_count": null,
      "_view_module": "@jupyter-widgets/base",
      "_view_module_version": "1.2.0",
      "_view_name": "LayoutView",
      "align_content": null,
      "align_items": null,
      "align_self": null,
      "border": null,
      "bottom": null,
      "display": null,
      "flex": null,
      "flex_flow": null,
      "grid_area": null,
      "grid_auto_columns": null,
      "grid_auto_flow": null,
      "grid_auto_rows": null,
      "grid_column": null,
      "grid_gap": null,
      "grid_row": null,
      "grid_template_areas": null,
      "grid_template_columns": null,
      "grid_template_rows": null,
      "height": null,
      "justify_content": null,
      "justify_items": null,
      "left": null,
      "margin": null,
      "max_height": null,
      "max_width": null,
      "min_height": null,
      "min_width": null,
      "object_fit": null,
      "object_position": null,
      "order": null,
      "overflow": null,
      "overflow_x": null,
      "overflow_y": null,
      "padding": null,
      "right": null,
      "top": null,
      "visibility": null,
      "width": null
     }
    },
    "851ec8de89964cb7b56d305405ef00b2": {
     "model_module": "@jupyter-widgets/base",
     "model_module_version": "1.2.0",
     "model_name": "LayoutModel",
     "state": {
      "_model_module": "@jupyter-widgets/base",
      "_model_module_version": "1.2.0",
      "_model_name": "LayoutModel",
      "_view_count": null,
      "_view_module": "@jupyter-widgets/base",
      "_view_module_version": "1.2.0",
      "_view_name": "LayoutView",
      "align_content": null,
      "align_items": null,
      "align_self": null,
      "border": null,
      "bottom": null,
      "display": null,
      "flex": null,
      "flex_flow": null,
      "grid_area": null,
      "grid_auto_columns": null,
      "grid_auto_flow": null,
      "grid_auto_rows": null,
      "grid_column": null,
      "grid_gap": null,
      "grid_row": null,
      "grid_template_areas": null,
      "grid_template_columns": null,
      "grid_template_rows": null,
      "height": null,
      "justify_content": null,
      "justify_items": null,
      "left": null,
      "margin": null,
      "max_height": null,
      "max_width": null,
      "min_height": null,
      "min_width": null,
      "object_fit": null,
      "object_position": null,
      "order": null,
      "overflow": null,
      "overflow_x": null,
      "overflow_y": null,
      "padding": null,
      "right": null,
      "top": null,
      "visibility": null,
      "width": null
     }
    },
    "87c054754ef04b308a06b9d88f882029": {
     "model_module": "@jupyter-widgets/controls",
     "model_module_version": "1.5.0",
     "model_name": "DescriptionStyleModel",
     "state": {
      "_model_module": "@jupyter-widgets/controls",
      "_model_module_version": "1.5.0",
      "_model_name": "DescriptionStyleModel",
      "_view_count": null,
      "_view_module": "@jupyter-widgets/base",
      "_view_module_version": "1.2.0",
      "_view_name": "StyleView",
      "description_width": ""
     }
    },
    "93e24ddb5712425fb3556839429b7018": {
     "model_module": "@jupyter-widgets/controls",
     "model_module_version": "1.5.0",
     "model_name": "HTMLModel",
     "state": {
      "_dom_classes": [],
      "_model_module": "@jupyter-widgets/controls",
      "_model_module_version": "1.5.0",
      "_model_name": "HTMLModel",
      "_view_count": null,
      "_view_module": "@jupyter-widgets/controls",
      "_view_module_version": "1.5.0",
      "_view_name": "HTMLView",
      "description": "",
      "description_tooltip": null,
      "layout": "IPY_MODEL_851ec8de89964cb7b56d305405ef00b2",
      "placeholder": "​",
      "style": "IPY_MODEL_6b3f5012815c426f98ad208db5be9515",
      "value": " 100/100 [00:00&lt;00:00, 300.84 examples/s]"
     }
    },
    "966fa673180a431a8fcf37e7136accce": {
     "model_module": "@jupyter-widgets/controls",
     "model_module_version": "1.5.0",
     "model_name": "HBoxModel",
     "state": {
      "_dom_classes": [],
      "_model_module": "@jupyter-widgets/controls",
      "_model_module_version": "1.5.0",
      "_model_name": "HBoxModel",
      "_view_count": null,
      "_view_module": "@jupyter-widgets/controls",
      "_view_module_version": "1.5.0",
      "_view_name": "HBoxView",
      "box_style": "",
      "children": [
       "IPY_MODEL_102889c5a8eb41ceae24e430d57e6f2b",
       "IPY_MODEL_42b08054d29741e287be449e9dbed602",
       "IPY_MODEL_e7281a16976544859caee0cb242091ce"
      ],
      "layout": "IPY_MODEL_99581d52e2c74ad3950fa4f0f9773126"
     }
    },
    "99581d52e2c74ad3950fa4f0f9773126": {
     "model_module": "@jupyter-widgets/base",
     "model_module_version": "1.2.0",
     "model_name": "LayoutModel",
     "state": {
      "_model_module": "@jupyter-widgets/base",
      "_model_module_version": "1.2.0",
      "_model_name": "LayoutModel",
      "_view_count": null,
      "_view_module": "@jupyter-widgets/base",
      "_view_module_version": "1.2.0",
      "_view_name": "LayoutView",
      "align_content": null,
      "align_items": null,
      "align_self": null,
      "border": null,
      "bottom": null,
      "display": null,
      "flex": null,
      "flex_flow": null,
      "grid_area": null,
      "grid_auto_columns": null,
      "grid_auto_flow": null,
      "grid_auto_rows": null,
      "grid_column": null,
      "grid_gap": null,
      "grid_row": null,
      "grid_template_areas": null,
      "grid_template_columns": null,
      "grid_template_rows": null,
      "height": null,
      "justify_content": null,
      "justify_items": null,
      "left": null,
      "margin": null,
      "max_height": null,
      "max_width": null,
      "min_height": null,
      "min_width": null,
      "object_fit": null,
      "object_position": null,
      "order": null,
      "overflow": null,
      "overflow_x": null,
      "overflow_y": null,
      "padding": null,
      "right": null,
      "top": null,
      "visibility": null,
      "width": null
     }
    },
    "a01c65f67efb4251af91e63806aac77c": {
     "model_module": "@jupyter-widgets/base",
     "model_module_version": "1.2.0",
     "model_name": "LayoutModel",
     "state": {
      "_model_module": "@jupyter-widgets/base",
      "_model_module_version": "1.2.0",
      "_model_name": "LayoutModel",
      "_view_count": null,
      "_view_module": "@jupyter-widgets/base",
      "_view_module_version": "1.2.0",
      "_view_name": "LayoutView",
      "align_content": null,
      "align_items": null,
      "align_self": null,
      "border": null,
      "bottom": null,
      "display": null,
      "flex": null,
      "flex_flow": null,
      "grid_area": null,
      "grid_auto_columns": null,
      "grid_auto_flow": null,
      "grid_auto_rows": null,
      "grid_column": null,
      "grid_gap": null,
      "grid_row": null,
      "grid_template_areas": null,
      "grid_template_columns": null,
      "grid_template_rows": null,
      "height": null,
      "justify_content": null,
      "justify_items": null,
      "left": null,
      "margin": null,
      "max_height": null,
      "max_width": null,
      "min_height": null,
      "min_width": null,
      "object_fit": null,
      "object_position": null,
      "order": null,
      "overflow": null,
      "overflow_x": null,
      "overflow_y": null,
      "padding": null,
      "right": null,
      "top": null,
      "visibility": null,
      "width": null
     }
    },
    "a30f87aa17174f5bab6869f4738e70c0": {
     "model_module": "@jupyter-widgets/base",
     "model_module_version": "1.2.0",
     "model_name": "LayoutModel",
     "state": {
      "_model_module": "@jupyter-widgets/base",
      "_model_module_version": "1.2.0",
      "_model_name": "LayoutModel",
      "_view_count": null,
      "_view_module": "@jupyter-widgets/base",
      "_view_module_version": "1.2.0",
      "_view_name": "LayoutView",
      "align_content": null,
      "align_items": null,
      "align_self": null,
      "border": null,
      "bottom": null,
      "display": null,
      "flex": null,
      "flex_flow": null,
      "grid_area": null,
      "grid_auto_columns": null,
      "grid_auto_flow": null,
      "grid_auto_rows": null,
      "grid_column": null,
      "grid_gap": null,
      "grid_row": null,
      "grid_template_areas": null,
      "grid_template_columns": null,
      "grid_template_rows": null,
      "height": null,
      "justify_content": null,
      "justify_items": null,
      "left": null,
      "margin": null,
      "max_height": null,
      "max_width": null,
      "min_height": null,
      "min_width": null,
      "object_fit": null,
      "object_position": null,
      "order": null,
      "overflow": null,
      "overflow_x": null,
      "overflow_y": null,
      "padding": null,
      "right": null,
      "top": null,
      "visibility": null,
      "width": null
     }
    },
    "ac644588966f47ff866dd7988fc02ca6": {
     "model_module": "@jupyter-widgets/controls",
     "model_module_version": "1.5.0",
     "model_name": "HTMLModel",
     "state": {
      "_dom_classes": [],
      "_model_module": "@jupyter-widgets/controls",
      "_model_module_version": "1.5.0",
      "_model_name": "HTMLModel",
      "_view_count": null,
      "_view_module": "@jupyter-widgets/controls",
      "_view_module_version": "1.5.0",
      "_view_name": "HTMLView",
      "description": "",
      "description_tooltip": null,
      "layout": "IPY_MODEL_e62c7ba238a946deb5b1dad66c1dfc5b",
      "placeholder": "​",
      "style": "IPY_MODEL_fc3ae361bb444382a14f57bf5b7bd97e",
      "value": " 570/570 [00:00&lt;00:00, 19.7kB/s]"
     }
    },
    "b0dc0ff3baa94e43aa6148f9663888b0": {
     "model_module": "@jupyter-widgets/controls",
     "model_module_version": "1.5.0",
     "model_name": "HTMLModel",
     "state": {
      "_dom_classes": [],
      "_model_module": "@jupyter-widgets/controls",
      "_model_module_version": "1.5.0",
      "_model_name": "HTMLModel",
      "_view_count": null,
      "_view_module": "@jupyter-widgets/controls",
      "_view_module_version": "1.5.0",
      "_view_name": "HTMLView",
      "description": "",
      "description_tooltip": null,
      "layout": "IPY_MODEL_b82d55be450345fbb16e00691882316c",
      "placeholder": "​",
      "style": "IPY_MODEL_3cda5e03f2714258911ed6f80f5b66b9",
      "value": "Map: 100%"
     }
    },
    "b82d55be450345fbb16e00691882316c": {
     "model_module": "@jupyter-widgets/base",
     "model_module_version": "1.2.0",
     "model_name": "LayoutModel",
     "state": {
      "_model_module": "@jupyter-widgets/base",
      "_model_module_version": "1.2.0",
      "_model_name": "LayoutModel",
      "_view_count": null,
      "_view_module": "@jupyter-widgets/base",
      "_view_module_version": "1.2.0",
      "_view_name": "LayoutView",
      "align_content": null,
      "align_items": null,
      "align_self": null,
      "border": null,
      "bottom": null,
      "display": null,
      "flex": null,
      "flex_flow": null,
      "grid_area": null,
      "grid_auto_columns": null,
      "grid_auto_flow": null,
      "grid_auto_rows": null,
      "grid_column": null,
      "grid_gap": null,
      "grid_row": null,
      "grid_template_areas": null,
      "grid_template_columns": null,
      "grid_template_rows": null,
      "height": null,
      "justify_content": null,
      "justify_items": null,
      "left": null,
      "margin": null,
      "max_height": null,
      "max_width": null,
      "min_height": null,
      "min_width": null,
      "object_fit": null,
      "object_position": null,
      "order": null,
      "overflow": null,
      "overflow_x": null,
      "overflow_y": null,
      "padding": null,
      "right": null,
      "top": null,
      "visibility": null,
      "width": null
     }
    },
    "c7273e2dd30e44118fe14a3fa3730eca": {
     "model_module": "@jupyter-widgets/controls",
     "model_module_version": "1.5.0",
     "model_name": "DescriptionStyleModel",
     "state": {
      "_model_module": "@jupyter-widgets/controls",
      "_model_module_version": "1.5.0",
      "_model_name": "DescriptionStyleModel",
      "_view_count": null,
      "_view_module": "@jupyter-widgets/base",
      "_view_module_version": "1.2.0",
      "_view_name": "StyleView",
      "description_width": ""
     }
    },
    "d6c3be2aaf84428d92b13cc46401913c": {
     "model_module": "@jupyter-widgets/base",
     "model_module_version": "1.2.0",
     "model_name": "LayoutModel",
     "state": {
      "_model_module": "@jupyter-widgets/base",
      "_model_module_version": "1.2.0",
      "_model_name": "LayoutModel",
      "_view_count": null,
      "_view_module": "@jupyter-widgets/base",
      "_view_module_version": "1.2.0",
      "_view_name": "LayoutView",
      "align_content": null,
      "align_items": null,
      "align_self": null,
      "border": null,
      "bottom": null,
      "display": null,
      "flex": null,
      "flex_flow": null,
      "grid_area": null,
      "grid_auto_columns": null,
      "grid_auto_flow": null,
      "grid_auto_rows": null,
      "grid_column": null,
      "grid_gap": null,
      "grid_row": null,
      "grid_template_areas": null,
      "grid_template_columns": null,
      "grid_template_rows": null,
      "height": null,
      "justify_content": null,
      "justify_items": null,
      "left": null,
      "margin": null,
      "max_height": null,
      "max_width": null,
      "min_height": null,
      "min_width": null,
      "object_fit": null,
      "object_position": null,
      "order": null,
      "overflow": null,
      "overflow_x": null,
      "overflow_y": null,
      "padding": null,
      "right": null,
      "top": null,
      "visibility": null,
      "width": null
     }
    },
    "d90609abb7ac4b8eb19dd509923a01fd": {
     "model_module": "@jupyter-widgets/base",
     "model_module_version": "1.2.0",
     "model_name": "LayoutModel",
     "state": {
      "_model_module": "@jupyter-widgets/base",
      "_model_module_version": "1.2.0",
      "_model_name": "LayoutModel",
      "_view_count": null,
      "_view_module": "@jupyter-widgets/base",
      "_view_module_version": "1.2.0",
      "_view_name": "LayoutView",
      "align_content": null,
      "align_items": null,
      "align_self": null,
      "border": null,
      "bottom": null,
      "display": null,
      "flex": null,
      "flex_flow": null,
      "grid_area": null,
      "grid_auto_columns": null,
      "grid_auto_flow": null,
      "grid_auto_rows": null,
      "grid_column": null,
      "grid_gap": null,
      "grid_row": null,
      "grid_template_areas": null,
      "grid_template_columns": null,
      "grid_template_rows": null,
      "height": null,
      "justify_content": null,
      "justify_items": null,
      "left": null,
      "margin": null,
      "max_height": null,
      "max_width": null,
      "min_height": null,
      "min_width": null,
      "object_fit": null,
      "object_position": null,
      "order": null,
      "overflow": null,
      "overflow_x": null,
      "overflow_y": null,
      "padding": null,
      "right": null,
      "top": null,
      "visibility": null,
      "width": null
     }
    },
    "e4526f18721948d2a4be21db7580f2c3": {
     "model_module": "@jupyter-widgets/base",
     "model_module_version": "1.2.0",
     "model_name": "LayoutModel",
     "state": {
      "_model_module": "@jupyter-widgets/base",
      "_model_module_version": "1.2.0",
      "_model_name": "LayoutModel",
      "_view_count": null,
      "_view_module": "@jupyter-widgets/base",
      "_view_module_version": "1.2.0",
      "_view_name": "LayoutView",
      "align_content": null,
      "align_items": null,
      "align_self": null,
      "border": null,
      "bottom": null,
      "display": null,
      "flex": null,
      "flex_flow": null,
      "grid_area": null,
      "grid_auto_columns": null,
      "grid_auto_flow": null,
      "grid_auto_rows": null,
      "grid_column": null,
      "grid_gap": null,
      "grid_row": null,
      "grid_template_areas": null,
      "grid_template_columns": null,
      "grid_template_rows": null,
      "height": null,
      "justify_content": null,
      "justify_items": null,
      "left": null,
      "margin": null,
      "max_height": null,
      "max_width": null,
      "min_height": null,
      "min_width": null,
      "object_fit": null,
      "object_position": null,
      "order": null,
      "overflow": null,
      "overflow_x": null,
      "overflow_y": null,
      "padding": null,
      "right": null,
      "top": null,
      "visibility": null,
      "width": null
     }
    },
    "e62c7ba238a946deb5b1dad66c1dfc5b": {
     "model_module": "@jupyter-widgets/base",
     "model_module_version": "1.2.0",
     "model_name": "LayoutModel",
     "state": {
      "_model_module": "@jupyter-widgets/base",
      "_model_module_version": "1.2.0",
      "_model_name": "LayoutModel",
      "_view_count": null,
      "_view_module": "@jupyter-widgets/base",
      "_view_module_version": "1.2.0",
      "_view_name": "LayoutView",
      "align_content": null,
      "align_items": null,
      "align_self": null,
      "border": null,
      "bottom": null,
      "display": null,
      "flex": null,
      "flex_flow": null,
      "grid_area": null,
      "grid_auto_columns": null,
      "grid_auto_flow": null,
      "grid_auto_rows": null,
      "grid_column": null,
      "grid_gap": null,
      "grid_row": null,
      "grid_template_areas": null,
      "grid_template_columns": null,
      "grid_template_rows": null,
      "height": null,
      "justify_content": null,
      "justify_items": null,
      "left": null,
      "margin": null,
      "max_height": null,
      "max_width": null,
      "min_height": null,
      "min_width": null,
      "object_fit": null,
      "object_position": null,
      "order": null,
      "overflow": null,
      "overflow_x": null,
      "overflow_y": null,
      "padding": null,
      "right": null,
      "top": null,
      "visibility": null,
      "width": null
     }
    },
    "e7281a16976544859caee0cb242091ce": {
     "model_module": "@jupyter-widgets/controls",
     "model_module_version": "1.5.0",
     "model_name": "HTMLModel",
     "state": {
      "_dom_classes": [],
      "_model_module": "@jupyter-widgets/controls",
      "_model_module_version": "1.5.0",
      "_model_name": "HTMLModel",
      "_view_count": null,
      "_view_module": "@jupyter-widgets/controls",
      "_view_module_version": "1.5.0",
      "_view_name": "HTMLView",
      "description": "",
      "description_tooltip": null,
      "layout": "IPY_MODEL_64b92e75c52e46578951e7d2069b10f2",
      "placeholder": "​",
      "style": "IPY_MODEL_32b772ed1abe4c44b5dc6509f33486db",
      "value": " 100/100 [00:00&lt;00:00, 321.06 examples/s]"
     }
    },
    "eaa8b5de786c458399d7ec43fd5ee3fe": {
     "model_module": "@jupyter-widgets/base",
     "model_module_version": "1.2.0",
     "model_name": "LayoutModel",
     "state": {
      "_model_module": "@jupyter-widgets/base",
      "_model_module_version": "1.2.0",
      "_model_name": "LayoutModel",
      "_view_count": null,
      "_view_module": "@jupyter-widgets/base",
      "_view_module_version": "1.2.0",
      "_view_name": "LayoutView",
      "align_content": null,
      "align_items": null,
      "align_self": null,
      "border": null,
      "bottom": null,
      "display": null,
      "flex": null,
      "flex_flow": null,
      "grid_area": null,
      "grid_auto_columns": null,
      "grid_auto_flow": null,
      "grid_auto_rows": null,
      "grid_column": null,
      "grid_gap": null,
      "grid_row": null,
      "grid_template_areas": null,
      "grid_template_columns": null,
      "grid_template_rows": null,
      "height": null,
      "justify_content": null,
      "justify_items": null,
      "left": null,
      "margin": null,
      "max_height": null,
      "max_width": null,
      "min_height": null,
      "min_width": null,
      "object_fit": null,
      "object_position": null,
      "order": null,
      "overflow": null,
      "overflow_x": null,
      "overflow_y": null,
      "padding": null,
      "right": null,
      "top": null,
      "visibility": null,
      "width": null
     }
    },
    "eae1c52b1d144bd4bf302ef9b184bc9d": {
     "model_module": "@jupyter-widgets/controls",
     "model_module_version": "1.5.0",
     "model_name": "ProgressStyleModel",
     "state": {
      "_model_module": "@jupyter-widgets/controls",
      "_model_module_version": "1.5.0",
      "_model_name": "ProgressStyleModel",
      "_view_count": null,
      "_view_module": "@jupyter-widgets/base",
      "_view_module_version": "1.2.0",
      "_view_name": "StyleView",
      "bar_color": null,
      "description_width": ""
     }
    },
    "ebc01fd903fc45f1aaa8efcad6082762": {
     "model_module": "@jupyter-widgets/controls",
     "model_module_version": "1.5.0",
     "model_name": "HBoxModel",
     "state": {
      "_dom_classes": [],
      "_model_module": "@jupyter-widgets/controls",
      "_model_module_version": "1.5.0",
      "_model_name": "HBoxModel",
      "_view_count": null,
      "_view_module": "@jupyter-widgets/controls",
      "_view_module_version": "1.5.0",
      "_view_name": "HBoxView",
      "box_style": "",
      "children": [
       "IPY_MODEL_b0dc0ff3baa94e43aa6148f9663888b0",
       "IPY_MODEL_6539a6dbb9ca428c8113afa8a4ef81fa",
       "IPY_MODEL_93e24ddb5712425fb3556839429b7018"
      ],
      "layout": "IPY_MODEL_35b1a6c843b148c7851154d90c7ffec0"
     }
    },
    "edd59c43d560414e967191986348fe5f": {
     "model_module": "@jupyter-widgets/controls",
     "model_module_version": "1.5.0",
     "model_name": "FloatProgressModel",
     "state": {
      "_dom_classes": [],
      "_model_module": "@jupyter-widgets/controls",
      "_model_module_version": "1.5.0",
      "_model_name": "FloatProgressModel",
      "_view_count": null,
      "_view_module": "@jupyter-widgets/controls",
      "_view_module_version": "1.5.0",
      "_view_name": "ProgressView",
      "bar_style": "success",
      "description": "",
      "description_tooltip": null,
      "layout": "IPY_MODEL_56513b4fde1b4e4a93e7b8ee2f3c7df5",
      "max": 570,
      "min": 0,
      "orientation": "horizontal",
      "style": "IPY_MODEL_fa24b4ac4a0a42b9b0088ee759adaed8",
      "value": 570
     }
    },
    "f0489586684048c88e7223915c8f0020": {
     "model_module": "@jupyter-widgets/controls",
     "model_module_version": "1.5.0",
     "model_name": "FloatProgressModel",
     "state": {
      "_dom_classes": [],
      "_model_module": "@jupyter-widgets/controls",
      "_model_module_version": "1.5.0",
      "_model_name": "FloatProgressModel",
      "_view_count": null,
      "_view_module": "@jupyter-widgets/controls",
      "_view_module_version": "1.5.0",
      "_view_name": "ProgressView",
      "bar_style": "success",
      "description": "",
      "description_tooltip": null,
      "layout": "IPY_MODEL_a01c65f67efb4251af91e63806aac77c",
      "max": 440449768,
      "min": 0,
      "orientation": "horizontal",
      "style": "IPY_MODEL_61921e623cfe431888a5bc268a7e473a",
      "value": 440449768
     }
    },
    "f79660ce9da940878292a701e66c63c2": {
     "model_module": "@jupyter-widgets/controls",
     "model_module_version": "1.5.0",
     "model_name": "HBoxModel",
     "state": {
      "_dom_classes": [],
      "_model_module": "@jupyter-widgets/controls",
      "_model_module_version": "1.5.0",
      "_model_name": "HBoxModel",
      "_view_count": null,
      "_view_module": "@jupyter-widgets/controls",
      "_view_module_version": "1.5.0",
      "_view_name": "HBoxView",
      "box_style": "",
      "children": [
       "IPY_MODEL_1cdf31afbf4f40d285f6d13844402622",
       "IPY_MODEL_f0489586684048c88e7223915c8f0020",
       "IPY_MODEL_4cb2f5fd9f8644208fb88902dfaa9f75"
      ],
      "layout": "IPY_MODEL_44bad1c5c8fb48ecbf3c7b1d1ccddc38"
     }
    },
    "fa24b4ac4a0a42b9b0088ee759adaed8": {
     "model_module": "@jupyter-widgets/controls",
     "model_module_version": "1.5.0",
     "model_name": "ProgressStyleModel",
     "state": {
      "_model_module": "@jupyter-widgets/controls",
      "_model_module_version": "1.5.0",
      "_model_name": "ProgressStyleModel",
      "_view_count": null,
      "_view_module": "@jupyter-widgets/base",
      "_view_module_version": "1.2.0",
      "_view_name": "StyleView",
      "bar_color": null,
      "description_width": ""
     }
    },
    "fc3ae361bb444382a14f57bf5b7bd97e": {
     "model_module": "@jupyter-widgets/controls",
     "model_module_version": "1.5.0",
     "model_name": "DescriptionStyleModel",
     "state": {
      "_model_module": "@jupyter-widgets/controls",
      "_model_module_version": "1.5.0",
      "_model_name": "DescriptionStyleModel",
      "_view_count": null,
      "_view_module": "@jupyter-widgets/base",
      "_view_module_version": "1.2.0",
      "_view_name": "StyleView",
      "description_width": ""
     }
    }
   }
  }
 },
 "nbformat": 4,
 "nbformat_minor": 4
}
