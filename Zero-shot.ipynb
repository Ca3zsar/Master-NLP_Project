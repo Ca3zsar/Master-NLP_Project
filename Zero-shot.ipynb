{
 "cells": [
  {
   "cell_type": "markdown",
   "id": "764c34fc-9690-497f-8bba-e031c477c78e",
   "metadata": {},
   "source": [
    "# Zero-shot classification"
   ]
  },
  {
   "cell_type": "code",
   "execution_count": 1,
   "id": "0987000d-244c-487f-9bc2-227e89531534",
   "metadata": {
    "execution": {
     "iopub.execute_input": "2024-01-17T17:14:57.445868Z",
     "iopub.status.busy": "2024-01-17T17:14:57.445545Z",
     "iopub.status.idle": "2024-01-17T17:15:01.306078Z",
     "shell.execute_reply": "2024-01-17T17:15:01.305314Z",
     "shell.execute_reply.started": "2024-01-17T17:14:57.445833Z"
    },
    "tags": []
   },
   "outputs": [
    {
     "name": "stdout",
     "output_type": "stream",
     "text": [
      "Requirement already satisfied: transformers in /opt/saturncloud/envs/saturn/lib/python3.11/site-packages (4.36.2)\n",
      "Requirement already satisfied: filelock in /opt/saturncloud/envs/saturn/lib/python3.11/site-packages (from transformers) (3.13.1)\n",
      "Requirement already satisfied: huggingface-hub<1.0,>=0.19.3 in /opt/saturncloud/envs/saturn/lib/python3.11/site-packages (from transformers) (0.20.1)\n",
      "Requirement already satisfied: numpy>=1.17 in /opt/saturncloud/envs/saturn/lib/python3.11/site-packages (from transformers) (1.26.3)\n",
      "Requirement already satisfied: packaging>=20.0 in /opt/saturncloud/envs/saturn/lib/python3.11/site-packages (from transformers) (23.2)\n",
      "Requirement already satisfied: pyyaml>=5.1 in /opt/saturncloud/envs/saturn/lib/python3.11/site-packages (from transformers) (6.0.1)\n",
      "Requirement already satisfied: regex!=2019.12.17 in /opt/saturncloud/envs/saturn/lib/python3.11/site-packages (from transformers) (2023.12.25)\n",
      "Requirement already satisfied: requests in /opt/saturncloud/envs/saturn/lib/python3.11/site-packages (from transformers) (2.31.0)\n",
      "Requirement already satisfied: tokenizers<0.19,>=0.14 in /opt/saturncloud/envs/saturn/lib/python3.11/site-packages (from transformers) (0.15.0)\n",
      "Requirement already satisfied: safetensors>=0.3.1 in /opt/saturncloud/envs/saturn/lib/python3.11/site-packages (from transformers) (0.4.1)\n",
      "Requirement already satisfied: tqdm>=4.27 in /opt/saturncloud/envs/saturn/lib/python3.11/site-packages (from transformers) (4.66.1)\n",
      "Requirement already satisfied: fsspec>=2023.5.0 in /opt/saturncloud/envs/saturn/lib/python3.11/site-packages (from huggingface-hub<1.0,>=0.19.3->transformers) (2023.10.0)\n",
      "Requirement already satisfied: typing-extensions>=3.7.4.3 in /opt/saturncloud/envs/saturn/lib/python3.11/site-packages (from huggingface-hub<1.0,>=0.19.3->transformers) (4.9.0)\n",
      "Requirement already satisfied: charset-normalizer<4,>=2 in /opt/saturncloud/envs/saturn/lib/python3.11/site-packages (from requests->transformers) (3.3.2)\n",
      "Requirement already satisfied: idna<4,>=2.5 in /opt/saturncloud/envs/saturn/lib/python3.11/site-packages (from requests->transformers) (3.6)\n",
      "Requirement already satisfied: urllib3<3,>=1.21.1 in /opt/saturncloud/envs/saturn/lib/python3.11/site-packages (from requests->transformers) (2.1.0)\n",
      "Requirement already satisfied: certifi>=2017.4.17 in /opt/saturncloud/envs/saturn/lib/python3.11/site-packages (from requests->transformers) (2023.11.17)\n"
     ]
    }
   ],
   "source": [
    "!pip install transformers"
   ]
  },
  {
   "cell_type": "markdown",
   "id": "a3ff7f01-bfb3-4d02-b618-f04269084e4c",
   "metadata": {},
   "source": [
    "# imports"
   ]
  },
  {
   "cell_type": "code",
   "execution_count": 3,
   "id": "0a71463d-23b7-48c7-afbd-6dc4e651432b",
   "metadata": {
    "execution": {
     "iopub.execute_input": "2024-01-17T17:15:37.369906Z",
     "iopub.status.busy": "2024-01-17T17:15:37.369578Z",
     "iopub.status.idle": "2024-01-17T17:15:41.495308Z",
     "shell.execute_reply": "2024-01-17T17:15:41.494735Z",
     "shell.execute_reply.started": "2024-01-17T17:15:37.369881Z"
    },
    "tags": []
   },
   "outputs": [
    {
     "name": "stderr",
     "output_type": "stream",
     "text": [
      "2024-01-17 17:15:38.365012: I tensorflow/core/util/port.cc:113] oneDNN custom operations are on. You may see slightly different numerical results due to floating-point round-off errors from different computation orders. To turn them off, set the environment variable `TF_ENABLE_ONEDNN_OPTS=0`.\n",
      "2024-01-17 17:15:38.409939: E external/local_xla/xla/stream_executor/cuda/cuda_dnn.cc:9261] Unable to register cuDNN factory: Attempting to register factory for plugin cuDNN when one has already been registered\n",
      "2024-01-17 17:15:38.409975: E external/local_xla/xla/stream_executor/cuda/cuda_fft.cc:607] Unable to register cuFFT factory: Attempting to register factory for plugin cuFFT when one has already been registered\n",
      "2024-01-17 17:15:38.411103: E external/local_xla/xla/stream_executor/cuda/cuda_blas.cc:1515] Unable to register cuBLAS factory: Attempting to register factory for plugin cuBLAS when one has already been registered\n",
      "2024-01-17 17:15:38.418623: I tensorflow/core/platform/cpu_feature_guard.cc:182] This TensorFlow binary is optimized to use available CPU instructions in performance-critical operations.\n",
      "To enable the following instructions: AVX2 AVX512F AVX512_VNNI FMA, in other operations, rebuild TensorFlow with the appropriate compiler flags.\n",
      "2024-01-17 17:15:39.477480: W tensorflow/compiler/tf2tensorrt/utils/py_utils.cc:38] TF-TRT Warning: Could not find TensorRT\n"
     ]
    }
   ],
   "source": [
    "import json\n",
    "from transformers import pipeline\n",
    "\n",
    "import numpy as np\n",
    "import random\n",
    "from pprint import pprint\n",
    "from tensorflow.keras.optimizers import Adam"
   ]
  },
  {
   "cell_type": "markdown",
   "id": "28b80878-d066-4305-bb49-f85a70c24595",
   "metadata": {},
   "source": [
    "## Use transformers get a model for predicting MGT"
   ]
  },
  {
   "cell_type": "code",
   "execution_count": 4,
   "id": "a89d592e-7e9a-4e32-8cfe-db40de1dc1cd",
   "metadata": {
    "execution": {
     "iopub.execute_input": "2024-01-17T17:15:42.890371Z",
     "iopub.status.busy": "2024-01-17T17:15:42.889839Z",
     "iopub.status.idle": "2024-01-17T17:16:00.950785Z",
     "shell.execute_reply": "2024-01-17T17:16:00.950096Z",
     "shell.execute_reply.started": "2024-01-17T17:15:42.890342Z"
    },
    "tags": []
   },
   "outputs": [
    {
     "name": "stderr",
     "output_type": "stream",
     "text": [
      "2024-01-17 17:15:43.073708: I external/local_xla/xla/stream_executor/cuda/cuda_executor.cc:901] successful NUMA node read from SysFS had negative value (-1), but there must be at least one NUMA node, so returning NUMA node zero. See more at https://github.com/torvalds/linux/blob/v6.0/Documentation/ABI/testing/sysfs-bus-pci#L344-L355\n",
      "2024-01-17 17:15:43.128288: I external/local_xla/xla/stream_executor/cuda/cuda_executor.cc:901] successful NUMA node read from SysFS had negative value (-1), but there must be at least one NUMA node, so returning NUMA node zero. See more at https://github.com/torvalds/linux/blob/v6.0/Documentation/ABI/testing/sysfs-bus-pci#L344-L355\n",
      "2024-01-17 17:15:43.128594: I external/local_xla/xla/stream_executor/cuda/cuda_executor.cc:901] successful NUMA node read from SysFS had negative value (-1), but there must be at least one NUMA node, so returning NUMA node zero. See more at https://github.com/torvalds/linux/blob/v6.0/Documentation/ABI/testing/sysfs-bus-pci#L344-L355\n",
      "2024-01-17 17:15:43.129410: I external/local_xla/xla/stream_executor/cuda/cuda_executor.cc:901] successful NUMA node read from SysFS had negative value (-1), but there must be at least one NUMA node, so returning NUMA node zero. See more at https://github.com/torvalds/linux/blob/v6.0/Documentation/ABI/testing/sysfs-bus-pci#L344-L355\n",
      "2024-01-17 17:15:43.129664: I external/local_xla/xla/stream_executor/cuda/cuda_executor.cc:901] successful NUMA node read from SysFS had negative value (-1), but there must be at least one NUMA node, so returning NUMA node zero. See more at https://github.com/torvalds/linux/blob/v6.0/Documentation/ABI/testing/sysfs-bus-pci#L344-L355\n",
      "2024-01-17 17:15:43.129870: I external/local_xla/xla/stream_executor/cuda/cuda_executor.cc:901] successful NUMA node read from SysFS had negative value (-1), but there must be at least one NUMA node, so returning NUMA node zero. See more at https://github.com/torvalds/linux/blob/v6.0/Documentation/ABI/testing/sysfs-bus-pci#L344-L355\n",
      "2024-01-17 17:15:44.865913: I external/local_xla/xla/stream_executor/cuda/cuda_executor.cc:901] successful NUMA node read from SysFS had negative value (-1), but there must be at least one NUMA node, so returning NUMA node zero. See more at https://github.com/torvalds/linux/blob/v6.0/Documentation/ABI/testing/sysfs-bus-pci#L344-L355\n",
      "2024-01-17 17:15:44.866185: I external/local_xla/xla/stream_executor/cuda/cuda_executor.cc:901] successful NUMA node read from SysFS had negative value (-1), but there must be at least one NUMA node, so returning NUMA node zero. See more at https://github.com/torvalds/linux/blob/v6.0/Documentation/ABI/testing/sysfs-bus-pci#L344-L355\n",
      "2024-01-17 17:15:44.866384: I external/local_xla/xla/stream_executor/cuda/cuda_executor.cc:901] successful NUMA node read from SysFS had negative value (-1), but there must be at least one NUMA node, so returning NUMA node zero. See more at https://github.com/torvalds/linux/blob/v6.0/Documentation/ABI/testing/sysfs-bus-pci#L344-L355\n",
      "2024-01-17 17:15:44.866526: I tensorflow/core/common_runtime/gpu/gpu_device.cc:1929] Created device /job:localhost/replica:0/task:0/device:GPU:0 with 13772 MB memory:  -> device: 0, name: Tesla T4, pci bus id: 0000:00:1e.0, compute capability: 7.5\n",
      "2024-01-17 17:15:45.519013: I external/local_tsl/tsl/platform/default/subprocess.cc:304] Start cannot spawn child process: No such file or directory\n",
      "Some weights of the PyTorch model were not used when initializing the TF 2.0 model TFBartForSequenceClassification: ['model.encoder.version', 'model.decoder.version']\n",
      "- This IS expected if you are initializing TFBartForSequenceClassification from a PyTorch model trained on another task or with another architecture (e.g. initializing a TFBertForSequenceClassification model from a BertForPreTraining model).\n",
      "- This IS NOT expected if you are initializing TFBartForSequenceClassification from a PyTorch model that you expect to be exactly identical (e.g. initializing a TFBertForSequenceClassification model from a BertForSequenceClassification model).\n",
      "All the weights of TFBartForSequenceClassification were initialized from the PyTorch model.\n",
      "If your task is similar to the task the model of the checkpoint was trained on, you can already use TFBartForSequenceClassification for predictions without further training.\n"
     ]
    }
   ],
   "source": [
    "pipe = pipeline(\"zero-shot-classification\",\n",
    "                model=\"facebook/bart-large-mnli\")"
   ]
  },
  {
   "cell_type": "code",
   "execution_count": 5,
   "id": "aef7e7e4-45f5-4b28-8882-c35e82f34db7",
   "metadata": {
    "execution": {
     "iopub.execute_input": "2024-01-17T17:16:00.952292Z",
     "iopub.status.busy": "2024-01-17T17:16:00.951975Z",
     "iopub.status.idle": "2024-01-17T17:16:00.956058Z",
     "shell.execute_reply": "2024-01-17T17:16:00.955465Z",
     "shell.execute_reply.started": "2024-01-17T17:16:00.952271Z"
    }
   },
   "outputs": [],
   "source": [
    "def load_data(file_path):\n",
    "  data_list = []\n",
    "  with open(file_path, 'r') as file:\n",
    "    for line in file:\n",
    "        # load each line as a JSON object\n",
    "        data = json.loads(line.strip())\n",
    "        data_list.append(data)\n",
    "  return data_list\n"
   ]
  },
  {
   "cell_type": "code",
   "execution_count": 6,
   "id": "998943fc-d287-4bc6-bf64-11b9ff324a8c",
   "metadata": {
    "execution": {
     "iopub.execute_input": "2024-01-17T17:16:00.957189Z",
     "iopub.status.busy": "2024-01-17T17:16:00.956948Z",
     "iopub.status.idle": "2024-01-17T17:16:00.960718Z",
     "shell.execute_reply": "2024-01-17T17:16:00.959985Z",
     "shell.execute_reply.started": "2024-01-17T17:16:00.957171Z"
    }
   },
   "outputs": [],
   "source": [
    "file_path = '../data/subtaskA_dev_monolingual.jsonl'"
   ]
  },
  {
   "cell_type": "code",
   "execution_count": 7,
   "id": "553fae02-d676-41db-b271-398c7591968a",
   "metadata": {
    "execution": {
     "iopub.execute_input": "2024-01-17T17:16:03.766587Z",
     "iopub.status.busy": "2024-01-17T17:16:03.766244Z",
     "iopub.status.idle": "2024-01-17T17:16:03.838505Z",
     "shell.execute_reply": "2024-01-17T17:16:03.837946Z",
     "shell.execute_reply.started": "2024-01-17T17:16:03.766564Z"
    }
   },
   "outputs": [],
   "source": [
    "data_loaded = load_data(file_path)"
   ]
  },
  {
   "cell_type": "markdown",
   "id": "948c4992-332a-44ee-b2f4-d953b40d53b8",
   "metadata": {},
   "source": [
    "### get a random sample from data"
   ]
  },
  {
   "cell_type": "code",
   "execution_count": 8,
   "id": "46463cde-54a1-425b-8340-439aadfae369",
   "metadata": {
    "execution": {
     "iopub.execute_input": "2024-01-17T17:16:17.970098Z",
     "iopub.status.busy": "2024-01-17T17:16:17.969734Z",
     "iopub.status.idle": "2024-01-17T17:16:17.974219Z",
     "shell.execute_reply": "2024-01-17T17:16:17.973487Z",
     "shell.execute_reply.started": "2024-01-17T17:16:17.970067Z"
    }
   },
   "outputs": [
    {
     "name": "stdout",
     "output_type": "stream",
     "text": [
      "If you can't get your Samsung Galaxy S3 connected to your computer using its default connection method -- MTP or PTP -- you'll need to use an alternative way.  This guide will show you how to do that by enabling ADB debugging mode instead.   Note that this process may void... If you're still having trouble getting your S3 to work properly after following these steps, try contacting Samsung directly via their support page here. You can also visit our troubleshooting section if you'd like more help fixing other issues related to your Android smartphone. Restart both devices before continuing so they are ready to be reconnected.    The first thing we recommend doing is trying out another USB cord and/or USB port since many users have reported success simply changing cables/ports while attempting to fix problems between phones/computers.     To check which ports are currently being used,...   -  Plug one end of the new USB cord into your computer's charging port..\n",
      "-  Plug the other end of the new USB cable into your S3's charging port..\n",
      "label is:  1\n"
     ]
    }
   ],
   "source": [
    "test_data = data_loaded[100]['text']\n",
    "print(test_data)\n",
    "print(\"label is: \", data_loaded[100]['label'])"
   ]
  },
  {
   "cell_type": "code",
   "execution_count": 9,
   "id": "2032f600-da4f-4c52-a0e5-3530211ae520",
   "metadata": {
    "execution": {
     "iopub.execute_input": "2024-01-17T17:16:20.005186Z",
     "iopub.status.busy": "2024-01-17T17:16:20.004857Z",
     "iopub.status.idle": "2024-01-17T17:16:24.531544Z",
     "shell.execute_reply": "2024-01-17T17:16:24.530974Z",
     "shell.execute_reply.started": "2024-01-17T17:16:20.005163Z"
    }
   },
   "outputs": [],
   "source": [
    "# test this using the pipeline\n",
    "result = pipe(test_data,\n",
    "              candidate_labels=[\"Written by humans\", \"Written by AI\"],)"
   ]
  },
  {
   "cell_type": "code",
   "execution_count": null,
   "id": "b5a8456e-f5b4-48db-b646-f6984237755e",
   "metadata": {},
   "outputs": [],
   "source": [
    "print(type(test_data))"
   ]
  },
  {
   "cell_type": "code",
   "execution_count": 10,
   "id": "0b61ee68-ec19-4aed-819a-edb20589a16a",
   "metadata": {
    "execution": {
     "iopub.execute_input": "2024-01-17T17:16:28.221039Z",
     "iopub.status.busy": "2024-01-17T17:16:28.220720Z",
     "iopub.status.idle": "2024-01-17T17:16:28.225279Z",
     "shell.execute_reply": "2024-01-17T17:16:28.224548Z",
     "shell.execute_reply.started": "2024-01-17T17:16:28.221020Z"
    }
   },
   "outputs": [
    {
     "name": "stdout",
     "output_type": "stream",
     "text": [
      "{'labels': ['Written by humans', 'Written by AI'],\n",
      " 'scores': [0.5420020818710327, 0.4579979479312897],\n",
      " 'sequence': \"If you can't get your Samsung Galaxy S3 connected to your \"\n",
      "             'computer using its default connection method -- MTP or PTP -- '\n",
      "             \"you'll need to use an alternative way.  This guide will show you \"\n",
      "             'how to do that by enabling ADB debugging mode instead.   Note '\n",
      "             \"that this process may void... If you're still having trouble \"\n",
      "             'getting your S3 to work properly after following these steps, '\n",
      "             'try contacting Samsung directly via their support page here. You '\n",
      "             \"can also visit our troubleshooting section if you'd like more \"\n",
      "             'help fixing other issues related to your Android smartphone. '\n",
      "             'Restart both devices before continuing so they are ready to be '\n",
      "             'reconnected.    The first thing we recommend doing is trying out '\n",
      "             'another USB cord and/or USB port since many users have reported '\n",
      "             'success simply changing cables/ports while attempting to fix '\n",
      "             'problems between phones/computers.     To check which ports are '\n",
      "             'currently being used,...   -  Plug one end of the new USB cord '\n",
      "             \"into your computer's charging port..\\n\"\n",
      "             \"-  Plug the other end of the new USB cable into your S3's \"\n",
      "             'charging port..'}\n"
     ]
    }
   ],
   "source": [
    "pprint(result)"
   ]
  },
  {
   "cell_type": "code",
   "execution_count": 12,
   "id": "406b3639-fc23-4f25-b607-699fe52b2b89",
   "metadata": {
    "execution": {
     "iopub.execute_input": "2024-01-17T17:16:47.266760Z",
     "iopub.status.busy": "2024-01-17T17:16:47.266414Z",
     "iopub.status.idle": "2024-01-17T17:16:47.270414Z",
     "shell.execute_reply": "2024-01-17T17:16:47.269654Z",
     "shell.execute_reply.started": "2024-01-17T17:16:47.266739Z"
    },
    "tags": []
   },
   "outputs": [],
   "source": [
    "def prepare_test_data():\n",
    "  texts = []\n",
    "  labels = []\n",
    "  for data in data_loaded:\n",
    "    texts.append(data['text'])\n",
    "    labels.append(data['label'])\n",
    "  return texts,labels\n"
   ]
  },
  {
   "cell_type": "code",
   "execution_count": 13,
   "id": "9fe7fc66-4796-45b8-801c-8b0464f66843",
   "metadata": {
    "execution": {
     "iopub.execute_input": "2024-01-17T17:16:49.377261Z",
     "iopub.status.busy": "2024-01-17T17:16:49.376927Z",
     "iopub.status.idle": "2024-01-17T17:16:49.381599Z",
     "shell.execute_reply": "2024-01-17T17:16:49.380926Z",
     "shell.execute_reply.started": "2024-01-17T17:16:49.377238Z"
    }
   },
   "outputs": [],
   "source": [
    "x_test, y_test = prepare_test_data()"
   ]
  },
  {
   "cell_type": "code",
   "execution_count": 14,
   "id": "a3c9f8e1-59ac-45be-9893-afa1ffdd4ca1",
   "metadata": {
    "execution": {
     "iopub.execute_input": "2024-01-17T17:16:50.976262Z",
     "iopub.status.busy": "2024-01-17T17:16:50.975885Z",
     "iopub.status.idle": "2024-01-17T17:16:50.982588Z",
     "shell.execute_reply": "2024-01-17T17:16:50.981922Z",
     "shell.execute_reply.started": "2024-01-17T17:16:50.976239Z"
    }
   },
   "outputs": [],
   "source": [
    "random.seed(4)\n",
    "random.shuffle(x_test)\n",
    "random.seed(4)\n",
    "random.shuffle(y_test)"
   ]
  },
  {
   "cell_type": "code",
   "execution_count": null,
   "id": "0e6a22fd-dbf0-4cd9-975f-855eba7bd01d",
   "metadata": {},
   "outputs": [],
   "source": [
    "print(len(x_test))"
   ]
  },
  {
   "cell_type": "code",
   "execution_count": 15,
   "id": "8989ae23-9ced-4c51-abf0-7639a6b24e3b",
   "metadata": {
    "execution": {
     "iopub.execute_input": "2024-01-17T17:17:19.510323Z",
     "iopub.status.busy": "2024-01-17T17:17:19.509990Z",
     "iopub.status.idle": "2024-01-17T17:17:19.513590Z",
     "shell.execute_reply": "2024-01-17T17:17:19.512908Z",
     "shell.execute_reply.started": "2024-01-17T17:17:19.510302Z"
    }
   },
   "outputs": [],
   "source": [
    "x_test_sample = x_test[:1000]\n",
    "y_test_sample = y_test[:1000]"
   ]
  },
  {
   "cell_type": "code",
   "execution_count": 16,
   "id": "b9775cfc-e4e9-412e-9187-19653ef581f0",
   "metadata": {
    "execution": {
     "iopub.execute_input": "2024-01-17T17:17:25.757778Z",
     "iopub.status.busy": "2024-01-17T17:17:25.757381Z",
     "iopub.status.idle": "2024-01-17T18:50:14.961744Z",
     "shell.execute_reply": "2024-01-17T18:50:14.961200Z",
     "shell.execute_reply.started": "2024-01-17T17:17:25.757752Z"
    }
   },
   "outputs": [],
   "source": [
    "results = pipe(x_test_sample,\n",
    "              candidate_labels=[\"Written by humans\", \"Written by AI\"],)"
   ]
  },
  {
   "cell_type": "code",
   "execution_count": null,
   "id": "ecf9b376-2e06-417c-8f85-069d5d3151f8",
   "metadata": {},
   "outputs": [],
   "source": [
    "pprint(results)"
   ]
  },
  {
   "cell_type": "code",
   "execution_count": 17,
   "id": "9901f998-1c24-498f-ad7a-cc122455b624",
   "metadata": {
    "execution": {
     "iopub.execute_input": "2024-01-17T18:57:07.681429Z",
     "iopub.status.busy": "2024-01-17T18:57:07.681102Z",
     "iopub.status.idle": "2024-01-17T18:57:07.686492Z",
     "shell.execute_reply": "2024-01-17T18:57:07.685736Z",
     "shell.execute_reply.started": "2024-01-17T18:57:07.681406Z"
    }
   },
   "outputs": [
    {
     "name": "stdout",
     "output_type": "stream",
     "text": [
      "Accuracy is :  0.501\n"
     ]
    }
   ],
   "source": [
    "# verify results\n",
    "correct = 0\n",
    "for i in range(len(results)):\n",
    "    # take the index of the label with the highet score from scores\n",
    "    if results[i]['scores'].index(max(results[i]['scores'])) == y_test_sample[i]:\n",
    "      correct +=1\n",
    "print(\"Accuracy is : \", correct / len(results))"
   ]
  },
  {
   "cell_type": "code",
   "execution_count": null,
   "id": "633bf8aa-63c0-4fd7-8956-8f531a26a312",
   "metadata": {},
   "outputs": [],
   "source": []
  }
 ],
 "metadata": {
  "kernelspec": {
   "display_name": "saturn (Python 3)",
   "language": "python",
   "name": "python3"
  },
  "language_info": {
   "codemirror_mode": {
    "name": "ipython",
    "version": 3
   },
   "file_extension": ".py",
   "mimetype": "text/x-python",
   "name": "python",
   "nbconvert_exporter": "python",
   "pygments_lexer": "ipython3",
   "version": "3.11.6"
  }
 },
 "nbformat": 4,
 "nbformat_minor": 5
}
