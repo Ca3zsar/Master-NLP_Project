{
 "cells": [
  {
   "cell_type": "markdown",
   "metadata": {
    "id": "kKAIj1DqNUcC"
   },
   "source": [
    "https://stackoverflow.com/questions/64156202/add-dense-layer-on-top-of-huggingface-bert-model"
   ]
  },
  {
   "cell_type": "code",
   "execution_count": 1,
   "metadata": {
    "colab": {
     "base_uri": "https://localhost:8080/"
    },
    "execution": {
     "iopub.execute_input": "2024-01-07T14:22:00.800897Z",
     "iopub.status.busy": "2024-01-07T14:22:00.800723Z",
     "iopub.status.idle": "2024-01-07T14:22:00.804127Z",
     "shell.execute_reply": "2024-01-07T14:22:00.803445Z",
     "shell.execute_reply.started": "2024-01-07T14:22:00.800878Z"
    },
    "id": "2K2-FcbVNaId",
    "outputId": "fd37a389-1311-4196-bd20-ad8ae6798838"
   },
   "outputs": [],
   "source": [
    "# from google.colab import drive\n",
    "# drive.mount('/content/drive')"
   ]
  },
  {
   "cell_type": "markdown",
   "metadata": {
    "id": "5s4payUiNUcG"
   },
   "source": [
    "# Install requirements"
   ]
  },
  {
   "cell_type": "code",
   "execution_count": 2,
   "metadata": {
    "colab": {
     "base_uri": "https://localhost:8080/"
    },
    "execution": {
     "iopub.execute_input": "2024-01-07T14:22:00.806454Z",
     "iopub.status.busy": "2024-01-07T14:22:00.805857Z",
     "iopub.status.idle": "2024-01-07T14:22:00.809463Z",
     "shell.execute_reply": "2024-01-07T14:22:00.808819Z",
     "shell.execute_reply.started": "2024-01-07T14:22:00.806423Z"
    },
    "id": "o38JKfMlNUcH",
    "outputId": "a50fcf99-16b6-4a6f-9c97-6c3fd3c96a5b",
    "tags": []
   },
   "outputs": [],
   "source": [
    "# !pip install Datasets\n",
    "# !pip install transformers\n",
    "# !pip install scikit-learn"
   ]
  },
  {
   "cell_type": "code",
   "execution_count": 3,
   "metadata": {
    "execution": {
     "iopub.execute_input": "2024-01-07T14:22:00.810967Z",
     "iopub.status.busy": "2024-01-07T14:22:00.810473Z",
     "iopub.status.idle": "2024-01-07T14:22:04.286303Z",
     "shell.execute_reply": "2024-01-07T14:22:04.285667Z",
     "shell.execute_reply.started": "2024-01-07T14:22:00.810947Z"
    },
    "id": "TnR07Mf4NUcJ",
    "tags": []
   },
   "outputs": [
    {
     "name": "stderr",
     "output_type": "stream",
     "text": [
      "2024-01-07 14:22:02.150927: I tensorflow/core/util/port.cc:113] oneDNN custom operations are on. You may see slightly different numerical results due to floating-point round-off errors from different computation orders. To turn them off, set the environment variable `TF_ENABLE_ONEDNN_OPTS=0`.\n",
      "2024-01-07 14:22:02.198622: E external/local_xla/xla/stream_executor/cuda/cuda_dnn.cc:9261] Unable to register cuDNN factory: Attempting to register factory for plugin cuDNN when one has already been registered\n",
      "2024-01-07 14:22:02.198664: E external/local_xla/xla/stream_executor/cuda/cuda_fft.cc:607] Unable to register cuFFT factory: Attempting to register factory for plugin cuFFT when one has already been registered\n",
      "2024-01-07 14:22:02.199896: E external/local_xla/xla/stream_executor/cuda/cuda_blas.cc:1515] Unable to register cuBLAS factory: Attempting to register factory for plugin cuBLAS when one has already been registered\n",
      "2024-01-07 14:22:02.207672: I tensorflow/core/platform/cpu_feature_guard.cc:182] This TensorFlow binary is optimized to use available CPU instructions in performance-critical operations.\n",
      "To enable the following instructions: AVX2 AVX512F AVX512_VNNI FMA, in other operations, rebuild TensorFlow with the appropriate compiler flags.\n",
      "2024-01-07 14:22:03.238746: W tensorflow/compiler/tf2tensorrt/utils/py_utils.cc:38] TF-TRT Warning: Could not find TensorRT\n"
     ]
    }
   ],
   "source": [
    "import pandas as pd\n",
    "import numpy as np\n",
    "from datasets import Dataset\n",
    "from transformers import AutoTokenizer, TFAutoModel, TFAutoModelForSequenceClassification\n",
    "import tensorflow as tf\n",
    "from keras.layers import Dense, Dropout\n",
    "from sklearn.model_selection import train_test_split\n",
    "from tensorflow.keras.losses import SparseCategoricalCrossentropy,BinaryCrossentropy\n",
    "from tensorflow.keras.optimizers import Adam\n",
    "import datasets\n",
    "import keras"
   ]
  },
  {
   "cell_type": "markdown",
   "metadata": {
    "id": "ZSi0fFQdNUcK"
   },
   "source": [
    "## Define custom model"
   ]
  },
  {
   "cell_type": "markdown",
   "metadata": {
    "id": "vlTKaH9AXHoy"
   },
   "source": [
    "Using a cased version of BERT will mean a bigger vocabulary, which in our case will slow down the training and use up more memory.\n",
    "Some tricks that may (or may not) improve training time: **Mixed precision** and **jit_compile**."
   ]
  },
  {
   "cell_type": "code",
   "execution_count": 4,
   "metadata": {
    "execution": {
     "iopub.execute_input": "2024-01-07T14:22:04.287755Z",
     "iopub.status.busy": "2024-01-07T14:22:04.287240Z",
     "iopub.status.idle": "2024-01-07T14:22:04.380957Z",
     "shell.execute_reply": "2024-01-07T14:22:04.380215Z",
     "shell.execute_reply.started": "2024-01-07T14:22:04.287732Z"
    },
    "id": "6rAQsfxBeZqu",
    "tags": []
   },
   "outputs": [
    {
     "name": "stdout",
     "output_type": "stream",
     "text": [
      "INFO:tensorflow:Mixed precision compatibility check (mixed_float16): OK\n",
      "Your GPU will likely run quickly with dtype policy mixed_float16 as it has compute capability of at least 7.0. Your GPU: Tesla T4, compute capability 7.5\n"
     ]
    },
    {
     "name": "stderr",
     "output_type": "stream",
     "text": [
      "2024-01-07 14:22:04.326550: I external/local_xla/xla/stream_executor/cuda/cuda_executor.cc:901] successful NUMA node read from SysFS had negative value (-1), but there must be at least one NUMA node, so returning NUMA node zero. See more at https://github.com/torvalds/linux/blob/v6.0/Documentation/ABI/testing/sysfs-bus-pci#L344-L355\n",
      "2024-01-07 14:22:04.374863: I external/local_xla/xla/stream_executor/cuda/cuda_executor.cc:901] successful NUMA node read from SysFS had negative value (-1), but there must be at least one NUMA node, so returning NUMA node zero. See more at https://github.com/torvalds/linux/blob/v6.0/Documentation/ABI/testing/sysfs-bus-pci#L344-L355\n",
      "2024-01-07 14:22:04.375168: I external/local_xla/xla/stream_executor/cuda/cuda_executor.cc:901] successful NUMA node read from SysFS had negative value (-1), but there must be at least one NUMA node, so returning NUMA node zero. See more at https://github.com/torvalds/linux/blob/v6.0/Documentation/ABI/testing/sysfs-bus-pci#L344-L355\n",
      "2024-01-07 14:22:04.375906: I external/local_xla/xla/stream_executor/cuda/cuda_executor.cc:901] successful NUMA node read from SysFS had negative value (-1), but there must be at least one NUMA node, so returning NUMA node zero. See more at https://github.com/torvalds/linux/blob/v6.0/Documentation/ABI/testing/sysfs-bus-pci#L344-L355\n"
     ]
    }
   ],
   "source": [
    "# try to improve the learning time\n",
    "from tensorflow.keras import mixed_precision\n",
    "policy = mixed_precision.Policy('mixed_float16')\n",
    "mixed_precision.set_global_policy(policy)"
   ]
  },
  {
   "cell_type": "code",
   "execution_count": 5,
   "metadata": {
    "execution": {
     "iopub.execute_input": "2024-01-07T14:22:04.382466Z",
     "iopub.status.busy": "2024-01-07T14:22:04.382021Z",
     "iopub.status.idle": "2024-01-07T14:22:04.385841Z",
     "shell.execute_reply": "2024-01-07T14:22:04.385145Z",
     "shell.execute_reply.started": "2024-01-07T14:22:04.382433Z"
    },
    "id": "ZjtxZ5WicVTa",
    "tags": []
   },
   "outputs": [],
   "source": [
    "MODEL_ID = \"bert-base-uncased\" # define here the model to use"
   ]
  },
  {
   "cell_type": "code",
   "execution_count": 6,
   "metadata": {
    "execution": {
     "iopub.execute_input": "2024-01-07T14:22:04.387407Z",
     "iopub.status.busy": "2024-01-07T14:22:04.386818Z",
     "iopub.status.idle": "2024-01-07T14:22:04.393241Z",
     "shell.execute_reply": "2024-01-07T14:22:04.392554Z",
     "shell.execute_reply.started": "2024-01-07T14:22:04.387332Z"
    },
    "id": "fNSYSxAlXMv3",
    "tags": []
   },
   "outputs": [],
   "source": [
    "class CustomBert(keras.Model):\n",
    "    \"\"\"Appending additional layers to the BERT model, so that it can be used\n",
    "    for multi-label classification.\n",
    "    \"\"\"\n",
    "\n",
    "    def __init__(self, base_model_id: str, num_labels: int):\n",
    "        super().__init__()\n",
    "        self._base = TFAutoModel.from_pretrained(base_model_id)\n",
    "        self._base.trainable = False\n",
    "\n",
    "        self._additional_layers = keras.Sequential([\n",
    "            Dropout(0.1),\n",
    "            Dense(512, activation=\"relu\"),\n",
    "            Dense(256, activation=\"relu\"),\n",
    "            Dense(num_labels, activation=\"softmax\"),\n",
    "        ])\n",
    "\n",
    "    def call(self, inputs):\n",
    "        out = self._base(inputs)\n",
    "        out = out[\"last_hidden_state\"][:, 0, :]\n",
    "\n",
    "        return self._additional_layers(out)"
   ]
  },
  {
   "cell_type": "markdown",
   "metadata": {
    "id": "HwYfTeFiNUcK"
   },
   "source": [
    "### Use for debug only"
   ]
  },
  {
   "cell_type": "code",
   "execution_count": 7,
   "metadata": {
    "execution": {
     "iopub.execute_input": "2024-01-07T14:22:04.395351Z",
     "iopub.status.busy": "2024-01-07T14:22:04.395124Z",
     "iopub.status.idle": "2024-01-07T14:22:04.399109Z",
     "shell.execute_reply": "2024-01-07T14:22:04.398596Z",
     "shell.execute_reply.started": "2024-01-07T14:22:04.395332Z"
    },
    "id": "A_KUwSmYNUcK",
    "tags": []
   },
   "outputs": [],
   "source": [
    "# tf.config.run_functions_eagerly(True)\n",
    "# tf.data.experimental.enable_debug_mode()"
   ]
  },
  {
   "cell_type": "code",
   "execution_count": 8,
   "metadata": {
    "execution": {
     "iopub.execute_input": "2024-01-07T14:22:04.400262Z",
     "iopub.status.busy": "2024-01-07T14:22:04.399781Z",
     "iopub.status.idle": "2024-01-07T14:22:04.403821Z",
     "shell.execute_reply": "2024-01-07T14:22:04.403163Z",
     "shell.execute_reply.started": "2024-01-07T14:22:04.400231Z"
    },
    "id": "XeSHatGCNUcK",
    "tags": []
   },
   "outputs": [],
   "source": [
    "def preprocess_function(examples, tokenizer, max_length=128):\n",
    "    return tokenizer(examples[\"text\"],\n",
    "                     truncation=True,\n",
    "                     padding='max_length',\n",
    "                     max_length=max_length,\n",
    "                     return_tensors=\"np\")"
   ]
  },
  {
   "cell_type": "code",
   "execution_count": 9,
   "metadata": {
    "execution": {
     "iopub.execute_input": "2024-01-07T14:22:04.405219Z",
     "iopub.status.busy": "2024-01-07T14:22:04.404771Z",
     "iopub.status.idle": "2024-01-07T14:22:04.408613Z",
     "shell.execute_reply": "2024-01-07T14:22:04.408084Z",
     "shell.execute_reply.started": "2024-01-07T14:22:04.405189Z"
    },
    "tags": []
   },
   "outputs": [],
   "source": [
    "def get_test_data(test_path):\n",
    "    test_df = pd.read_json(test_path, lines=True)\n",
    "    test_df = test_df[['text', 'label']]\n",
    "    return test_df"
   ]
  },
  {
   "cell_type": "code",
   "execution_count": 10,
   "metadata": {
    "execution": {
     "iopub.execute_input": "2024-01-07T14:22:04.409646Z",
     "iopub.status.busy": "2024-01-07T14:22:04.409425Z",
     "iopub.status.idle": "2024-01-07T14:22:04.413198Z",
     "shell.execute_reply": "2024-01-07T14:22:04.412589Z",
     "shell.execute_reply.started": "2024-01-07T14:22:04.409629Z"
    },
    "id": "oTvy_3pBNUcL",
    "tags": []
   },
   "outputs": [],
   "source": [
    "def get_data(train_path):\n",
    "   train_df = pd.read_json(train_path, lines=True)\n",
    "   train_df = train_df[['text', 'label']]\n",
    "   train_df, validation_df = train_test_split(train_df, test_size=0.1, stratify=train_df['label'])\n",
    "   return train_df, validation_df\n"
   ]
  },
  {
   "cell_type": "code",
   "execution_count": 11,
   "metadata": {
    "execution": {
     "iopub.execute_input": "2024-01-07T14:22:04.414346Z",
     "iopub.status.busy": "2024-01-07T14:22:04.414039Z",
     "iopub.status.idle": "2024-01-07T14:22:04.417375Z",
     "shell.execute_reply": "2024-01-07T14:22:04.416866Z",
     "shell.execute_reply.started": "2024-01-07T14:22:04.414319Z"
    },
    "id": "8xcgExLLNUcL",
    "tags": []
   },
   "outputs": [],
   "source": [
    "file_train_path = 'data/subtaskA_train_monolingual.jsonl'"
   ]
  },
  {
   "cell_type": "code",
   "execution_count": 12,
   "metadata": {
    "execution": {
     "iopub.execute_input": "2024-01-07T14:22:04.418242Z",
     "iopub.status.busy": "2024-01-07T14:22:04.418075Z",
     "iopub.status.idle": "2024-01-07T14:22:07.597369Z",
     "shell.execute_reply": "2024-01-07T14:22:07.596788Z",
     "shell.execute_reply.started": "2024-01-07T14:22:04.418226Z"
    },
    "id": "z2NPDsVSNUcL",
    "tags": []
   },
   "outputs": [],
   "source": [
    "train_df, validation_df = get_data(file_train_path)"
   ]
  },
  {
   "cell_type": "code",
   "execution_count": 13,
   "metadata": {
    "execution": {
     "iopub.execute_input": "2024-01-07T14:22:07.598321Z",
     "iopub.status.busy": "2024-01-07T14:22:07.598132Z",
     "iopub.status.idle": "2024-01-07T14:22:07.601409Z",
     "shell.execute_reply": "2024-01-07T14:22:07.600724Z",
     "shell.execute_reply.started": "2024-01-07T14:22:07.598305Z"
    },
    "tags": []
   },
   "outputs": [],
   "source": [
    "file_test_path = 'data/subtaskA_dev_monolingual.jsonl'"
   ]
  },
  {
   "cell_type": "code",
   "execution_count": 14,
   "metadata": {
    "execution": {
     "iopub.execute_input": "2024-01-07T14:22:07.602815Z",
     "iopub.status.busy": "2024-01-07T14:22:07.602394Z",
     "iopub.status.idle": "2024-01-07T14:22:07.668605Z",
     "shell.execute_reply": "2024-01-07T14:22:07.668040Z",
     "shell.execute_reply.started": "2024-01-07T14:22:07.602786Z"
    },
    "tags": []
   },
   "outputs": [],
   "source": [
    "test_df = get_test_data(file_test_path)"
   ]
  },
  {
   "cell_type": "code",
   "execution_count": 15,
   "metadata": {
    "colab": {
     "base_uri": "https://localhost:8080/"
    },
    "execution": {
     "iopub.execute_input": "2024-01-07T14:22:07.670063Z",
     "iopub.status.busy": "2024-01-07T14:22:07.669497Z",
     "iopub.status.idle": "2024-01-07T14:22:07.673975Z",
     "shell.execute_reply": "2024-01-07T14:22:07.673274Z",
     "shell.execute_reply.started": "2024-01-07T14:22:07.670030Z"
    },
    "id": "EEv2c4JlNUcL",
    "outputId": "8f429669-e91f-47d2-dd2c-cdb5c18ae026",
    "tags": []
   },
   "outputs": [
    {
     "name": "stdout",
     "output_type": "stream",
     "text": [
      "Train shape: (107781, 2)\n",
      "Validation shape: (11976, 2)\n",
      "Test shape: (5000, 2)\n"
     ]
    }
   ],
   "source": [
    "print(f\"Train shape: {train_df.shape}\")\n",
    "print(f\"Validation shape: {validation_df.shape}\")\n",
    "print(f\"Test shape: {test_df.shape}\")"
   ]
  },
  {
   "cell_type": "code",
   "execution_count": 16,
   "metadata": {
    "execution": {
     "iopub.execute_input": "2024-01-07T14:22:07.675348Z",
     "iopub.status.busy": "2024-01-07T14:22:07.674964Z",
     "iopub.status.idle": "2024-01-07T14:22:07.678589Z",
     "shell.execute_reply": "2024-01-07T14:22:07.677945Z",
     "shell.execute_reply.started": "2024-01-07T14:22:07.675319Z"
    },
    "id": "WUc3MOzPNUcL",
    "tags": []
   },
   "outputs": [],
   "source": [
    "# take only 100 sample from training data (test purposes)\n",
    "# train_df = train_df[:100]\n",
    "# validation_df = validation_df[:100]"
   ]
  },
  {
   "cell_type": "code",
   "execution_count": 17,
   "metadata": {
    "execution": {
     "iopub.execute_input": "2024-01-07T14:22:07.680039Z",
     "iopub.status.busy": "2024-01-07T14:22:07.679586Z",
     "iopub.status.idle": "2024-01-07T14:22:07.683588Z",
     "shell.execute_reply": "2024-01-07T14:22:07.682909Z",
     "shell.execute_reply.started": "2024-01-07T14:22:07.680009Z"
    },
    "id": "F9k5yliYNUcM",
    "tags": []
   },
   "outputs": [],
   "source": [
    "id2label = {0: \"human\", 1: \"machine\"}\n",
    "label2id = {\"human\": 0, \"machine\": 1 }"
   ]
  },
  {
   "cell_type": "code",
   "execution_count": 18,
   "metadata": {
    "execution": {
     "iopub.execute_input": "2024-01-07T14:22:07.685049Z",
     "iopub.status.busy": "2024-01-07T14:22:07.684598Z",
     "iopub.status.idle": "2024-01-07T14:22:10.360132Z",
     "shell.execute_reply": "2024-01-07T14:22:10.359578Z",
     "shell.execute_reply.started": "2024-01-07T14:22:07.685019Z"
    },
    "id": "9ojTyxBDNUcM",
    "tags": []
   },
   "outputs": [],
   "source": [
    "# pandas dataframe to huggingface Dataset\n",
    "train_dataset= Dataset.from_pandas(train_df)\n",
    "validation_dataset = Dataset.from_pandas(validation_df)\n",
    "test_dataset = Dataset.from_pandas(test_df)"
   ]
  },
  {
   "cell_type": "code",
   "execution_count": 19,
   "metadata": {
    "colab": {
     "base_uri": "https://localhost:8080/"
    },
    "execution": {
     "iopub.execute_input": "2024-01-07T14:22:10.361173Z",
     "iopub.status.busy": "2024-01-07T14:22:10.360914Z",
     "iopub.status.idle": "2024-01-07T14:22:10.364837Z",
     "shell.execute_reply": "2024-01-07T14:22:10.364140Z",
     "shell.execute_reply.started": "2024-01-07T14:22:10.361153Z"
    },
    "id": "k1Jf2GGSNUcM",
    "outputId": "32a0850f-1117-4747-ce01-a8a42ed73c65",
    "tags": []
   },
   "outputs": [
    {
     "name": "stdout",
     "output_type": "stream",
     "text": [
      "Dataset({\n",
      "    features: ['text', 'label', '__index_level_0__'],\n",
      "    num_rows: 107781\n",
      "})\n"
     ]
    }
   ],
   "source": [
    "print(train_dataset)"
   ]
  },
  {
   "cell_type": "code",
   "execution_count": 20,
   "metadata": {
    "execution": {
     "iopub.execute_input": "2024-01-07T14:22:10.365790Z",
     "iopub.status.busy": "2024-01-07T14:22:10.365576Z",
     "iopub.status.idle": "2024-01-07T14:22:10.369210Z",
     "shell.execute_reply": "2024-01-07T14:22:10.368585Z",
     "shell.execute_reply.started": "2024-01-07T14:22:10.365772Z"
    },
    "id": "T3Xy4qvvNUcM",
    "tags": []
   },
   "outputs": [],
   "source": [
    "dataset = datasets.DatasetDict({'train': train_dataset, 'validation': validation_dataset, 'test' : test_dataset})"
   ]
  },
  {
   "cell_type": "code",
   "execution_count": 21,
   "metadata": {
    "colab": {
     "base_uri": "https://localhost:8080/"
    },
    "execution": {
     "iopub.execute_input": "2024-01-07T14:22:10.370625Z",
     "iopub.status.busy": "2024-01-07T14:22:10.370157Z",
     "iopub.status.idle": "2024-01-07T14:22:10.374314Z",
     "shell.execute_reply": "2024-01-07T14:22:10.373639Z",
     "shell.execute_reply.started": "2024-01-07T14:22:10.370597Z"
    },
    "id": "IEHbYZfKNUcM",
    "outputId": "18753af5-5b96-4a77-b944-672b72e42258",
    "tags": []
   },
   "outputs": [
    {
     "name": "stdout",
     "output_type": "stream",
     "text": [
      "DatasetDict({\n",
      "    train: Dataset({\n",
      "        features: ['text', 'label', '__index_level_0__'],\n",
      "        num_rows: 107781\n",
      "    })\n",
      "    validation: Dataset({\n",
      "        features: ['text', 'label', '__index_level_0__'],\n",
      "        num_rows: 11976\n",
      "    })\n",
      "    test: Dataset({\n",
      "        features: ['text', 'label'],\n",
      "        num_rows: 5000\n",
      "    })\n",
      "})\n"
     ]
    }
   ],
   "source": [
    "print(dataset)"
   ]
  },
  {
   "cell_type": "code",
   "execution_count": 22,
   "metadata": {
    "execution": {
     "iopub.execute_input": "2024-01-07T14:22:10.380234Z",
     "iopub.status.busy": "2024-01-07T14:22:10.379898Z",
     "iopub.status.idle": "2024-01-07T14:22:10.386725Z",
     "shell.execute_reply": "2024-01-07T14:22:10.386039Z",
     "shell.execute_reply.started": "2024-01-07T14:22:10.380203Z"
    },
    "id": "TmnynMHONUcM",
    "tags": []
   },
   "outputs": [
    {
     "data": {
      "text/plain": [
       "{'text': \" The best thing you can do for inspiration is... think of things you like. It might be a movie you love, your favourite animal, one of your typical hobbies, or anything that can possibly relate to you.;\\n, Listen to songs or watch music videos. Do anything to give you a good idea of maybe what you want your character's personality to be like, events you want to see happen, etc.\\n\\n, If you want to write about ghosts, search them up. You don't want to go into a story with no information to back up the things you're putting down on paper.\\n\\n, You don't want the story to be boring, and you want to catch the reader's attention. Start with a bold, interesting first statement, something to really catch the attention.\\n\\n, You want a good flow throughout your story so that it looks and sounds good, and will make sense to readers.\\n\\n, Remember, writing is fun if you make it so. Do you want this story to be interesting and hold a reader's attention? Then have fun with it! Add your own spice and flavour to it.\\n\\n\",\n",
       " 'label': 0,\n",
       " '__index_level_0__': 63302}"
      ]
     },
     "execution_count": 22,
     "metadata": {},
     "output_type": "execute_result"
    }
   ],
   "source": [
    "dataset[\"train\"][0]"
   ]
  },
  {
   "cell_type": "code",
   "execution_count": 23,
   "metadata": {
    "colab": {
     "base_uri": "https://localhost:8080/"
    },
    "execution": {
     "iopub.execute_input": "2024-01-07T14:22:10.387789Z",
     "iopub.status.busy": "2024-01-07T14:22:10.387541Z",
     "iopub.status.idle": "2024-01-07T14:22:10.482766Z",
     "shell.execute_reply": "2024-01-07T14:22:10.482185Z",
     "shell.execute_reply.started": "2024-01-07T14:22:10.387771Z"
    },
    "id": "g1749W85NUcM",
    "outputId": "2a234c4a-109e-46c1-b7ed-d8c5df353c35",
    "tags": []
   },
   "outputs": [],
   "source": [
    "tokenizer = AutoTokenizer.from_pretrained(MODEL_ID)"
   ]
  },
  {
   "cell_type": "code",
   "execution_count": 24,
   "metadata": {
    "colab": {
     "base_uri": "https://localhost:8080/",
     "height": 81,
     "referenced_widgets": [
      "966fa673180a431a8fcf37e7136accce",
      "102889c5a8eb41ceae24e430d57e6f2b",
      "42b08054d29741e287be449e9dbed602",
      "e7281a16976544859caee0cb242091ce",
      "99581d52e2c74ad3950fa4f0f9773126",
      "d90609abb7ac4b8eb19dd509923a01fd",
      "5b2f06007cba45629a2cb65f6b879ac5",
      "a30f87aa17174f5bab6869f4738e70c0",
      "1c309f62d60e49e3a8c31bec3d77fd68",
      "64b92e75c52e46578951e7d2069b10f2",
      "32b772ed1abe4c44b5dc6509f33486db",
      "ebc01fd903fc45f1aaa8efcad6082762",
      "b0dc0ff3baa94e43aa6148f9663888b0",
      "6539a6dbb9ca428c8113afa8a4ef81fa",
      "93e24ddb5712425fb3556839429b7018",
      "35b1a6c843b148c7851154d90c7ffec0",
      "b82d55be450345fbb16e00691882316c",
      "3cda5e03f2714258911ed6f80f5b66b9",
      "e4526f18721948d2a4be21db7580f2c3",
      "eae1c52b1d144bd4bf302ef9b184bc9d",
      "851ec8de89964cb7b56d305405ef00b2",
      "6b3f5012815c426f98ad208db5be9515"
     ]
    },
    "execution": {
     "iopub.execute_input": "2024-01-07T14:22:10.483981Z",
     "iopub.status.busy": "2024-01-07T14:22:10.483695Z",
     "iopub.status.idle": "2024-01-07T14:24:00.742548Z",
     "shell.execute_reply": "2024-01-07T14:24:00.741812Z",
     "shell.execute_reply.started": "2024-01-07T14:22:10.483955Z"
    },
    "id": "9ZJzRBuTNUcN",
    "outputId": "021d823a-aa33-4f85-a7e4-e28cecd1a49c",
    "tags": []
   },
   "outputs": [
    {
     "data": {
      "application/vnd.jupyter.widget-view+json": {
       "model_id": "4883fb8b0df5410ca2b242db7f6bb7bd",
       "version_major": 2,
       "version_minor": 0
      },
      "text/plain": [
       "Map:   0%|          | 0/107781 [00:00<?, ? examples/s]"
      ]
     },
     "metadata": {},
     "output_type": "display_data"
    },
    {
     "data": {
      "application/vnd.jupyter.widget-view+json": {
       "model_id": "a1e5a1c612734d92869d8bef89ed5c7a",
       "version_major": 2,
       "version_minor": 0
      },
      "text/plain": [
       "Map:   0%|          | 0/11976 [00:00<?, ? examples/s]"
      ]
     },
     "metadata": {},
     "output_type": "display_data"
    },
    {
     "data": {
      "application/vnd.jupyter.widget-view+json": {
       "model_id": "c918b8635ca1411091bdaa84182abf5b",
       "version_major": 2,
       "version_minor": 0
      },
      "text/plain": [
       "Map:   0%|          | 0/5000 [00:00<?, ? examples/s]"
      ]
     },
     "metadata": {},
     "output_type": "display_data"
    }
   ],
   "source": [
    "# pre_tokenizer_columns = set(dataset[\"train\"].features)\n",
    "encoded_dataset = dataset.map(preprocess_function, batched=True, fn_kwargs={'tokenizer': tokenizer})\n",
    "# tokenizer_columns = list(set(encoded_dataset[\"train\"].features) - pre_tokenizer_columns)\n",
    "# print(\"Columns added by tokenizer:\", tokenizer_columns)"
   ]
  },
  {
   "cell_type": "code",
   "execution_count": 25,
   "metadata": {
    "colab": {
     "base_uri": "https://localhost:8080/"
    },
    "execution": {
     "iopub.execute_input": "2024-01-07T14:24:00.743643Z",
     "iopub.status.busy": "2024-01-07T14:24:00.743437Z",
     "iopub.status.idle": "2024-01-07T14:24:06.369496Z",
     "shell.execute_reply": "2024-01-07T14:24:06.368924Z",
     "shell.execute_reply.started": "2024-01-07T14:24:00.743625Z"
    },
    "id": "Xu5LUX0fYClY",
    "outputId": "55fe33ce-86c6-425b-e79d-647be72a7e55",
    "tags": []
   },
   "outputs": [
    {
     "name": "stderr",
     "output_type": "stream",
     "text": [
      "2024-01-07 14:24:00.750310: I external/local_xla/xla/stream_executor/cuda/cuda_executor.cc:901] successful NUMA node read from SysFS had negative value (-1), but there must be at least one NUMA node, so returning NUMA node zero. See more at https://github.com/torvalds/linux/blob/v6.0/Documentation/ABI/testing/sysfs-bus-pci#L344-L355\n",
      "2024-01-07 14:24:00.750676: I external/local_xla/xla/stream_executor/cuda/cuda_executor.cc:901] successful NUMA node read from SysFS had negative value (-1), but there must be at least one NUMA node, so returning NUMA node zero. See more at https://github.com/torvalds/linux/blob/v6.0/Documentation/ABI/testing/sysfs-bus-pci#L344-L355\n",
      "2024-01-07 14:24:00.750900: I external/local_xla/xla/stream_executor/cuda/cuda_executor.cc:901] successful NUMA node read from SysFS had negative value (-1), but there must be at least one NUMA node, so returning NUMA node zero. See more at https://github.com/torvalds/linux/blob/v6.0/Documentation/ABI/testing/sysfs-bus-pci#L344-L355\n",
      "2024-01-07 14:24:02.325961: I external/local_xla/xla/stream_executor/cuda/cuda_executor.cc:901] successful NUMA node read from SysFS had negative value (-1), but there must be at least one NUMA node, so returning NUMA node zero. See more at https://github.com/torvalds/linux/blob/v6.0/Documentation/ABI/testing/sysfs-bus-pci#L344-L355\n",
      "2024-01-07 14:24:02.326242: I external/local_xla/xla/stream_executor/cuda/cuda_executor.cc:901] successful NUMA node read from SysFS had negative value (-1), but there must be at least one NUMA node, so returning NUMA node zero. See more at https://github.com/torvalds/linux/blob/v6.0/Documentation/ABI/testing/sysfs-bus-pci#L344-L355\n",
      "2024-01-07 14:24:02.326468: I external/local_xla/xla/stream_executor/cuda/cuda_executor.cc:901] successful NUMA node read from SysFS had negative value (-1), but there must be at least one NUMA node, so returning NUMA node zero. See more at https://github.com/torvalds/linux/blob/v6.0/Documentation/ABI/testing/sysfs-bus-pci#L344-L355\n",
      "2024-01-07 14:24:02.326622: I tensorflow/core/common_runtime/gpu/gpu_device.cc:1929] Created device /job:localhost/replica:0/task:0/device:GPU:0 with 13772 MB memory:  -> device: 0, name: Tesla T4, pci bus id: 0000:00:1e.0, compute capability: 7.5\n",
      "2024-01-07 14:24:02.939231: I external/local_tsl/tsl/platform/default/subprocess.cc:304] Start cannot spawn child process: No such file or directory\n",
      "Some weights of the PyTorch model were not used when initializing the TF 2.0 model TFBertModel: ['cls.seq_relationship.weight', 'cls.predictions.transform.dense.weight', 'cls.seq_relationship.bias', 'cls.predictions.transform.LayerNorm.bias', 'cls.predictions.bias', 'cls.predictions.transform.dense.bias', 'cls.predictions.transform.LayerNorm.weight']\n",
      "- This IS expected if you are initializing TFBertModel from a PyTorch model trained on another task or with another architecture (e.g. initializing a TFBertForSequenceClassification model from a BertForPreTraining model).\n",
      "- This IS NOT expected if you are initializing TFBertModel from a PyTorch model that you expect to be exactly identical (e.g. initializing a TFBertForSequenceClassification model from a BertForSequenceClassification model).\n",
      "All the weights of TFBertModel were initialized from the PyTorch model.\n",
      "If your task is similar to the task the model of the checkpoint was trained on, you can already use TFBertModel for predictions without further training.\n"
     ]
    }
   ],
   "source": [
    "model_bert = CustomBert(MODEL_ID, 2)"
   ]
  },
  {
   "cell_type": "code",
   "execution_count": 26,
   "metadata": {
    "colab": {
     "base_uri": "https://localhost:8080/"
    },
    "execution": {
     "iopub.execute_input": "2024-01-07T14:24:06.370882Z",
     "iopub.status.busy": "2024-01-07T14:24:06.370517Z",
     "iopub.status.idle": "2024-01-07T14:24:08.244739Z",
     "shell.execute_reply": "2024-01-07T14:24:08.244050Z",
     "shell.execute_reply.started": "2024-01-07T14:24:06.370853Z"
    },
    "id": "ghwzLBx6NUcN",
    "outputId": "2e987a92-2e67-43b8-f685-937fafcae771",
    "tags": []
   },
   "outputs": [
    {
     "name": "stderr",
     "output_type": "stream",
     "text": [
      "All PyTorch model weights were used when initializing TFBertForSequenceClassification.\n",
      "\n",
      "Some weights or buffers of the TF 2.0 model TFBertForSequenceClassification were not initialized from the PyTorch model and are newly initialized: ['classifier.weight', 'classifier.bias']\n",
      "You should probably TRAIN this model on a down-stream task to be able to use it for predictions and inference.\n"
     ]
    }
   ],
   "source": [
    "prepare_model = TFAutoModelForSequenceClassification.from_pretrained(MODEL_ID, num_labels=len(label2id), id2label=id2label, label2id=label2id)"
   ]
  },
  {
   "cell_type": "code",
   "execution_count": 27,
   "metadata": {
    "colab": {
     "base_uri": "https://localhost:8080/"
    },
    "execution": {
     "iopub.execute_input": "2024-01-07T14:24:08.245893Z",
     "iopub.status.busy": "2024-01-07T14:24:08.245610Z",
     "iopub.status.idle": "2024-01-07T14:24:08.504753Z",
     "shell.execute_reply": "2024-01-07T14:24:08.504169Z",
     "shell.execute_reply.started": "2024-01-07T14:24:08.245871Z"
    },
    "id": "npDxuybLNUcN",
    "outputId": "4b5b116a-2a03-4a35-8bf0-bf3aff31d372",
    "tags": []
   },
   "outputs": [
    {
     "name": "stderr",
     "output_type": "stream",
     "text": [
      "You're using a BertTokenizerFast tokenizer. Please note that with a fast tokenizer, using the `__call__` method is faster than using a method to encode the text followed by a call to the `pad` method to get a padded encoding.\n"
     ]
    }
   ],
   "source": [
    "tf_train_dataset = prepare_model.prepare_tf_dataset(encoded_dataset[\"train\"],\n",
    "                                      batch_size=32,\n",
    "                                      shuffle=True,\n",
    "                                      tokenizer=tokenizer)"
   ]
  },
  {
   "cell_type": "code",
   "execution_count": 28,
   "metadata": {
    "execution": {
     "iopub.execute_input": "2024-01-07T14:24:08.506779Z",
     "iopub.status.busy": "2024-01-07T14:24:08.506407Z",
     "iopub.status.idle": "2024-01-07T14:24:08.580728Z",
     "shell.execute_reply": "2024-01-07T14:24:08.580156Z",
     "shell.execute_reply.started": "2024-01-07T14:24:08.506743Z"
    },
    "id": "f0r78n2WNUcN",
    "tags": []
   },
   "outputs": [],
   "source": [
    "tf_validation_dataset = prepare_model.prepare_tf_dataset(encoded_dataset[\"validation\"],\n",
    "                                          batch_size=32,\n",
    "                                          shuffle=True,\n",
    "                                          tokenizer=tokenizer)"
   ]
  },
  {
   "cell_type": "code",
   "execution_count": 29,
   "metadata": {
    "execution": {
     "iopub.execute_input": "2024-01-07T14:24:08.581810Z",
     "iopub.status.busy": "2024-01-07T14:24:08.581511Z",
     "iopub.status.idle": "2024-01-07T14:24:08.654505Z",
     "shell.execute_reply": "2024-01-07T14:24:08.653904Z",
     "shell.execute_reply.started": "2024-01-07T14:24:08.581790Z"
    }
   },
   "outputs": [],
   "source": [
    "tf_test_dataset = prepare_model.prepare_tf_dataset(encoded_dataset[\"test\"],\n",
    "                                          batch_size=32,\n",
    "                                          shuffle=True,\n",
    "                                          tokenizer=tokenizer)"
   ]
  },
  {
   "cell_type": "code",
   "execution_count": 30,
   "metadata": {
    "execution": {
     "iopub.execute_input": "2024-01-07T14:24:08.655969Z",
     "iopub.status.busy": "2024-01-07T14:24:08.655422Z",
     "iopub.status.idle": "2024-01-07T14:24:08.661772Z",
     "shell.execute_reply": "2024-01-07T14:24:08.661183Z",
     "shell.execute_reply.started": "2024-01-07T14:24:08.655937Z"
    },
    "id": "cEgYmTBSNUcN",
    "tags": []
   },
   "outputs": [],
   "source": [
    "del prepare_model"
   ]
  },
  {
   "cell_type": "code",
   "execution_count": 31,
   "metadata": {
    "execution": {
     "iopub.execute_input": "2024-01-07T14:24:08.664692Z",
     "iopub.status.busy": "2024-01-07T14:24:08.664444Z",
     "iopub.status.idle": "2024-01-07T14:24:08.679549Z",
     "shell.execute_reply": "2024-01-07T14:24:08.678915Z",
     "shell.execute_reply.started": "2024-01-07T14:24:08.664673Z"
    },
    "id": "CSBjIYBGNUcN",
    "tags": []
   },
   "outputs": [],
   "source": [
    "optimizer = keras.optimizers.Adam(learning_rate=5e-5)\n",
    "loss_fn = SparseCategoricalCrossentropy(from_logits=False)\n",
    "# loss_fn = BinaryCrossentropy(from_logits=False) # use with activation = sigmoid for last layer\n",
    "train_acc_metric = tf.keras.metrics.SparseCategoricalAccuracy()\n",
    "val_acc_metric = tf.keras.metrics.SparseCategoricalAccuracy()"
   ]
  },
  {
   "cell_type": "code",
   "execution_count": 32,
   "metadata": {
    "execution": {
     "iopub.execute_input": "2024-01-07T14:24:08.681147Z",
     "iopub.status.busy": "2024-01-07T14:24:08.680537Z",
     "iopub.status.idle": "2024-01-07T14:24:08.695586Z",
     "shell.execute_reply": "2024-01-07T14:24:08.694983Z",
     "shell.execute_reply.started": "2024-01-07T14:24:08.681114Z"
    },
    "id": "zFqS3-nYNUcO",
    "tags": []
   },
   "outputs": [],
   "source": [
    "# model.compile(optimizer=optimizer, loss=loss_fn, metrics=[train_acc_metric])\n",
    "model_bert.compile(optimizer=optimizer, loss=loss_fn, metrics=[train_acc_metric])"
   ]
  },
  {
   "cell_type": "code",
   "execution_count": 33,
   "metadata": {
    "execution": {
     "iopub.execute_input": "2024-01-07T14:24:08.696764Z",
     "iopub.status.busy": "2024-01-07T14:24:08.696483Z",
     "iopub.status.idle": "2024-01-07T14:24:08.704656Z",
     "shell.execute_reply": "2024-01-07T14:24:08.703989Z",
     "shell.execute_reply.started": "2024-01-07T14:24:08.696743Z"
    },
    "id": "kVD82L1XNUcO",
    "jupyter": {
     "source_hidden": true
    },
    "tags": []
   },
   "outputs": [],
   "source": [
    "def train_step(model, tf_train_dataset, tf_test_dataset, epochs=2):\n",
    "  # train the model by using GradientTape\n",
    "  optimizer = keras.optimizers.Adam(learning_rate=5e-5)\n",
    "\n",
    "  for epoch in range(epochs):\n",
    "      print(f\"\\nStart of Training Epoch {epoch}\")\n",
    "      for step, batch in enumerate(tf_train_dataset):\n",
    "          ids = batch[0]['input_ids']\n",
    "          mask = batch[0]['attention_mask']\n",
    "          y = batch[1]\n",
    "\n",
    "          with tf.GradientTape() as tape:\n",
    "              logits = model((ids, mask), training=True)\n",
    "              loss_value = loss_fn(y, logits)\n",
    "\n",
    "          grads = tape.gradient(loss_value, model.trainable_weights)\n",
    "\n",
    "          optimizer.apply_gradients(\n",
    "                        (grad, var)\n",
    "                        for (grad, var) in zip(grads, model.trainable_variables)\n",
    "                        if grad is not None\n",
    "                      )\n",
    "          # Update training metric.\n",
    "          train_acc_metric(y, logits)\n",
    "\n",
    "          # Log every 200 batches.\n",
    "          if step % 10 == 0:\n",
    "              print(\n",
    "                  \"Training loss at step %d: %.4f\"\n",
    "                  % (step, float(loss_value))\n",
    "              )\n",
    "              #print accuracy on the training set\n",
    "              train_acc = train_acc_metric.result()\n",
    "              print(\"Training acc over epoch: %.4f\" % (float(train_acc),))\n",
    "          # Display metrics at the end of each epoch.\n",
    "\n",
    "      train_acc_metric.reset_states()\n",
    "\n",
    "      # perform validation on test data\n",
    "      for step, batch in enumerate(tf_test_dataset):\n",
    "          ids = batch[0]['input_ids']\n",
    "          mask = batch[0]['attention_mask']\n",
    "          y = batch[1]\n",
    "          logits = model([ids, mask], training=False)\n",
    "          # Update val metrics\n",
    "          val_acc_metric(y, logits)\n",
    "\n",
    "      val_acc = val_acc_metric.result()\n",
    "\n",
    "      # print accuracy on the test set\n",
    "      print(\"Test acc: %.4f\" % (float(val_acc),))\n",
    "\n",
    "      # Reset val metrics at the end of each epoch\n",
    "      val_acc_metric.reset_states()\n",
    "\n",
    "  model.save_weights('my_model', save_format='tf')"
   ]
  },
  {
   "cell_type": "code",
   "execution_count": null,
   "metadata": {
    "colab": {
     "base_uri": "https://localhost:8080/"
    },
    "execution": {
     "iopub.execute_input": "2024-01-07T14:24:08.705998Z",
     "iopub.status.busy": "2024-01-07T14:24:08.705627Z"
    },
    "id": "L_kvqylJZvkk",
    "outputId": "0cbf3cac-fc5d-4062-c6d1-2ef648033142",
    "tags": []
   },
   "outputs": [
    {
     "name": "stdout",
     "output_type": "stream",
     "text": [
      "Epoch 1/20\n"
     ]
    },
    {
     "name": "stderr",
     "output_type": "stream",
     "text": [
      "2024-01-07 14:24:21.141276: I external/local_xla/xla/service/service.cc:168] XLA service 0x559e190a3970 initialized for platform CUDA (this does not guarantee that XLA will be used). Devices:\n",
      "2024-01-07 14:24:21.141314: I external/local_xla/xla/service/service.cc:176]   StreamExecutor device (0): Tesla T4, Compute Capability 7.5\n",
      "2024-01-07 14:24:21.151038: I tensorflow/compiler/mlir/tensorflow/utils/dump_mlir_util.cc:269] disabling MLIR crash reproducer, set env var `MLIR_CRASH_REPRODUCER_DIRECTORY` to enable.\n",
      "2024-01-07 14:24:21.629924: I external/local_xla/xla/stream_executor/cuda/cuda_dnn.cc:454] Loaded cuDNN version 8904\n",
      "WARNING: All log messages before absl::InitializeLog() is called are written to STDERR\n",
      "I0000 00:00:1704637461.753150   17520 device_compiler.h:186] Compiled cluster using XLA!  This line is logged at most once for the lifetime of the process.\n"
     ]
    },
    {
     "name": "stdout",
     "output_type": "stream",
     "text": [
      " 894/3368 [======>.......................] - ETA: 4:21 - loss: 0.4984 - sparse_categorical_accuracy: 0.7508"
     ]
    }
   ],
   "source": [
    "model_bert.fit(tf_train_dataset,\n",
    "               validation_data= tf_test_dataset,\n",
    "               epochs=20)"
   ]
  },
  {
   "cell_type": "code",
   "execution_count": null,
   "metadata": {
    "colab": {
     "base_uri": "https://localhost:8080/"
    },
    "id": "gYsuEqJQgQkB",
    "outputId": "bbf6a01c-7d10-43b0-f0d8-29b62bbc99dc",
    "tags": []
   },
   "outputs": [],
   "source": [
    "# predict on test data\n",
    "predictions = model_bert.predict(tf_validation_dataset)"
   ]
  },
  {
   "cell_type": "code",
   "execution_count": null,
   "metadata": {
    "tags": []
   },
   "outputs": [],
   "source": [
    "model_bert.evaluate(tf_validation_dataset)"
   ]
  },
  {
   "cell_type": "code",
   "execution_count": null,
   "metadata": {
    "colab": {
     "base_uri": "https://localhost:8080/"
    },
    "id": "plLCaI8SgoMW",
    "outputId": "aea4d095-cc9a-47e3-af6d-3a5ef5382c5a"
   },
   "outputs": [],
   "source": [
    "print(predictions[0])"
   ]
  },
  {
   "cell_type": "markdown",
   "metadata": {
    "id": "Sy3nlgv5NUcO"
   },
   "source": [
    "### Save Model"
   ]
  },
  {
   "cell_type": "code",
   "execution_count": null,
   "metadata": {
    "id": "LDXJmTldNUcO"
   },
   "outputs": [],
   "source": [
    "# The recommended way to save a subclassed model is to use save_weights to create a TensorFlow SavedModel checkpoint\n",
    "model.save_weights('my_model', save_format='tf')"
   ]
  },
  {
   "cell_type": "markdown",
   "metadata": {
    "id": "Ghnerbj-NUcO"
   },
   "source": [
    "### Load Model"
   ]
  },
  {
   "cell_type": "code",
   "execution_count": null,
   "metadata": {
    "id": "L45NLLTWNUcP"
   },
   "outputs": [],
   "source": [
    "loaded_model = CustomBERTModel(MODEL_ID)\n",
    "loaded_model.load_weights('my_model')"
   ]
  },
  {
   "cell_type": "markdown",
   "metadata": {
    "id": "0in1CyEfNUcP"
   },
   "source": [
    "### Train the loaded model on a batch"
   ]
  },
  {
   "cell_type": "code",
   "execution_count": null,
   "metadata": {
    "id": "q3GJI-gsNUcP"
   },
   "outputs": [],
   "source": [
    "# Extract a batch from the training dataset\n",
    "batch = next(iter(tf_train_dataset))\n",
    "\n",
    "# Separate input data and target data from the batch\n",
    "ids = batch[0]['input_ids']\n",
    "mask = batch[0]['attention_mask']\n",
    "y = batch[1]"
   ]
  },
  {
   "cell_type": "code",
   "execution_count": null,
   "metadata": {
    "id": "54Ix4om9NUcP"
   },
   "outputs": [],
   "source": [
    "# call the model on the extracted batch\n",
    "loss_value = loaded_model.train_on_batch((ids, mask), y)\n",
    "print(f\"Loss: {loss_value}\")"
   ]
  },
  {
   "cell_type": "markdown",
   "metadata": {
    "id": "85Hp8V8PNUcP"
   },
   "source": [
    "### Check that the model has been preserved"
   ]
  },
  {
   "cell_type": "code",
   "execution_count": null,
   "metadata": {
    "id": "dkwpg0FHNUcP"
   },
   "outputs": [],
   "source": [
    "loaded_model.load_weights('my_model')"
   ]
  },
  {
   "cell_type": "code",
   "execution_count": null,
   "metadata": {
    "id": "_7OvAvd1NUcP"
   },
   "outputs": [],
   "source": [
    "val_acc_metric.reset_state()\n",
    "for step, batch in enumerate(tf_test_dataset):\n",
    "        ids = batch[0]['input_ids']\n",
    "        mask = batch[0]['attention_mask']\n",
    "        y = batch[1]\n",
    "        logits = loaded_model([ids, mask], training=False)\n",
    "        # Update val metrics\n",
    "        val_acc_metric(y, logits)\n",
    "val_acc = val_acc_metric.result()\n",
    "# print accuracy on the test set\n",
    "print(\"test acc: %.4f\" % (float(val_acc),))"
   ]
  },
  {
   "cell_type": "code",
   "execution_count": null,
   "metadata": {
    "id": "u8krcux_NUcQ"
   },
   "outputs": [],
   "source": [
    "# Check that the model state has been preserved\n",
    "new_predictions = loaded_model.predict(tf_test_dataset)\n",
    "# np.testing.assert_allclose(predictions, new_predictions, atol=1e-6)\n"
   ]
  },
  {
   "cell_type": "markdown",
   "metadata": {
    "id": "cBl_P9tZNUcQ"
   },
   "source": [
    "### Another save"
   ]
  },
  {
   "cell_type": "code",
   "execution_count": null,
   "metadata": {
    "id": "hhkY4cuLNUcQ",
    "tags": []
   },
   "outputs": [],
   "source": [
    "# save the custom model to file (not suported for custom class)\n",
    "model.save('path_to_my_model',save_format='tf')"
   ]
  },
  {
   "cell_type": "code",
   "execution_count": null,
   "metadata": {
    "id": "vIutMq6bNUcQ",
    "tags": []
   },
   "outputs": [],
   "source": [
    "# load the model\n",
    "new_model = keras.models.load_model('path_to_my_model')"
   ]
  }
 ],
 "metadata": {
  "colab": {
   "provenance": []
  },
  "kernelspec": {
   "display_name": "saturn (Python 3)",
   "language": "python",
   "name": "python3"
  },
  "language_info": {
   "codemirror_mode": {
    "name": "ipython",
    "version": 3
   },
   "file_extension": ".py",
   "mimetype": "text/x-python",
   "name": "python",
   "nbconvert_exporter": "python",
   "pygments_lexer": "ipython3",
   "version": "3.11.6"
  },
  "widgets": {
   "application/vnd.jupyter.widget-state+json": {
    "102889c5a8eb41ceae24e430d57e6f2b": {
     "model_module": "@jupyter-widgets/controls",
     "model_module_version": "1.5.0",
     "model_name": "HTMLModel",
     "state": {
      "_dom_classes": [],
      "_model_module": "@jupyter-widgets/controls",
      "_model_module_version": "1.5.0",
      "_model_name": "HTMLModel",
      "_view_count": null,
      "_view_module": "@jupyter-widgets/controls",
      "_view_module_version": "1.5.0",
      "_view_name": "HTMLView",
      "description": "",
      "description_tooltip": null,
      "layout": "IPY_MODEL_d90609abb7ac4b8eb19dd509923a01fd",
      "placeholder": "​",
      "style": "IPY_MODEL_5b2f06007cba45629a2cb65f6b879ac5",
      "value": "Map: 100%"
     }
    },
    "1c309f62d60e49e3a8c31bec3d77fd68": {
     "model_module": "@jupyter-widgets/controls",
     "model_module_version": "1.5.0",
     "model_name": "ProgressStyleModel",
     "state": {
      "_model_module": "@jupyter-widgets/controls",
      "_model_module_version": "1.5.0",
      "_model_name": "ProgressStyleModel",
      "_view_count": null,
      "_view_module": "@jupyter-widgets/base",
      "_view_module_version": "1.2.0",
      "_view_name": "StyleView",
      "bar_color": null,
      "description_width": ""
     }
    },
    "1cdf31afbf4f40d285f6d13844402622": {
     "model_module": "@jupyter-widgets/controls",
     "model_module_version": "1.5.0",
     "model_name": "HTMLModel",
     "state": {
      "_dom_classes": [],
      "_model_module": "@jupyter-widgets/controls",
      "_model_module_version": "1.5.0",
      "_model_name": "HTMLModel",
      "_view_count": null,
      "_view_module": "@jupyter-widgets/controls",
      "_view_module_version": "1.5.0",
      "_view_name": "HTMLView",
      "description": "",
      "description_tooltip": null,
      "layout": "IPY_MODEL_d6c3be2aaf84428d92b13cc46401913c",
      "placeholder": "​",
      "style": "IPY_MODEL_3ef3348ed45e46719456e7fc3af64adb",
      "value": "model.safetensors: 100%"
     }
    },
    "32b772ed1abe4c44b5dc6509f33486db": {
     "model_module": "@jupyter-widgets/controls",
     "model_module_version": "1.5.0",
     "model_name": "DescriptionStyleModel",
     "state": {
      "_model_module": "@jupyter-widgets/controls",
      "_model_module_version": "1.5.0",
      "_model_name": "DescriptionStyleModel",
      "_view_count": null,
      "_view_module": "@jupyter-widgets/base",
      "_view_module_version": "1.2.0",
      "_view_name": "StyleView",
      "description_width": ""
     }
    },
    "35b1a6c843b148c7851154d90c7ffec0": {
     "model_module": "@jupyter-widgets/base",
     "model_module_version": "1.2.0",
     "model_name": "LayoutModel",
     "state": {
      "_model_module": "@jupyter-widgets/base",
      "_model_module_version": "1.2.0",
      "_model_name": "LayoutModel",
      "_view_count": null,
      "_view_module": "@jupyter-widgets/base",
      "_view_module_version": "1.2.0",
      "_view_name": "LayoutView",
      "align_content": null,
      "align_items": null,
      "align_self": null,
      "border": null,
      "bottom": null,
      "display": null,
      "flex": null,
      "flex_flow": null,
      "grid_area": null,
      "grid_auto_columns": null,
      "grid_auto_flow": null,
      "grid_auto_rows": null,
      "grid_column": null,
      "grid_gap": null,
      "grid_row": null,
      "grid_template_areas": null,
      "grid_template_columns": null,
      "grid_template_rows": null,
      "height": null,
      "justify_content": null,
      "justify_items": null,
      "left": null,
      "margin": null,
      "max_height": null,
      "max_width": null,
      "min_height": null,
      "min_width": null,
      "object_fit": null,
      "object_position": null,
      "order": null,
      "overflow": null,
      "overflow_x": null,
      "overflow_y": null,
      "padding": null,
      "right": null,
      "top": null,
      "visibility": null,
      "width": null
     }
    },
    "3cda5e03f2714258911ed6f80f5b66b9": {
     "model_module": "@jupyter-widgets/controls",
     "model_module_version": "1.5.0",
     "model_name": "DescriptionStyleModel",
     "state": {
      "_model_module": "@jupyter-widgets/controls",
      "_model_module_version": "1.5.0",
      "_model_name": "DescriptionStyleModel",
      "_view_count": null,
      "_view_module": "@jupyter-widgets/base",
      "_view_module_version": "1.2.0",
      "_view_name": "StyleView",
      "description_width": ""
     }
    },
    "3ef3348ed45e46719456e7fc3af64adb": {
     "model_module": "@jupyter-widgets/controls",
     "model_module_version": "1.5.0",
     "model_name": "DescriptionStyleModel",
     "state": {
      "_model_module": "@jupyter-widgets/controls",
      "_model_module_version": "1.5.0",
      "_model_name": "DescriptionStyleModel",
      "_view_count": null,
      "_view_module": "@jupyter-widgets/base",
      "_view_module_version": "1.2.0",
      "_view_name": "StyleView",
      "description_width": ""
     }
    },
    "3f3a04d072c7465f9aa75829833299a5": {
     "model_module": "@jupyter-widgets/controls",
     "model_module_version": "1.5.0",
     "model_name": "HTMLModel",
     "state": {
      "_dom_classes": [],
      "_model_module": "@jupyter-widgets/controls",
      "_model_module_version": "1.5.0",
      "_model_name": "HTMLModel",
      "_view_count": null,
      "_view_module": "@jupyter-widgets/controls",
      "_view_module_version": "1.5.0",
      "_view_name": "HTMLView",
      "description": "",
      "description_tooltip": null,
      "layout": "IPY_MODEL_eaa8b5de786c458399d7ec43fd5ee3fe",
      "placeholder": "​",
      "style": "IPY_MODEL_c7273e2dd30e44118fe14a3fa3730eca",
      "value": "config.json: 100%"
     }
    },
    "3fd05ad040f94ccc8bc1fd35f26bc686": {
     "model_module": "@jupyter-widgets/controls",
     "model_module_version": "1.5.0",
     "model_name": "HBoxModel",
     "state": {
      "_dom_classes": [],
      "_model_module": "@jupyter-widgets/controls",
      "_model_module_version": "1.5.0",
      "_model_name": "HBoxModel",
      "_view_count": null,
      "_view_module": "@jupyter-widgets/controls",
      "_view_module_version": "1.5.0",
      "_view_name": "HBoxView",
      "box_style": "",
      "children": [
       "IPY_MODEL_3f3a04d072c7465f9aa75829833299a5",
       "IPY_MODEL_edd59c43d560414e967191986348fe5f",
       "IPY_MODEL_ac644588966f47ff866dd7988fc02ca6"
      ],
      "layout": "IPY_MODEL_6f0b2349bbe94ef4977ecc72d6dba616"
     }
    },
    "42b08054d29741e287be449e9dbed602": {
     "model_module": "@jupyter-widgets/controls",
     "model_module_version": "1.5.0",
     "model_name": "FloatProgressModel",
     "state": {
      "_dom_classes": [],
      "_model_module": "@jupyter-widgets/controls",
      "_model_module_version": "1.5.0",
      "_model_name": "FloatProgressModel",
      "_view_count": null,
      "_view_module": "@jupyter-widgets/controls",
      "_view_module_version": "1.5.0",
      "_view_name": "ProgressView",
      "bar_style": "success",
      "description": "",
      "description_tooltip": null,
      "layout": "IPY_MODEL_a30f87aa17174f5bab6869f4738e70c0",
      "max": 100,
      "min": 0,
      "orientation": "horizontal",
      "style": "IPY_MODEL_1c309f62d60e49e3a8c31bec3d77fd68",
      "value": 100
     }
    },
    "44bad1c5c8fb48ecbf3c7b1d1ccddc38": {
     "model_module": "@jupyter-widgets/base",
     "model_module_version": "1.2.0",
     "model_name": "LayoutModel",
     "state": {
      "_model_module": "@jupyter-widgets/base",
      "_model_module_version": "1.2.0",
      "_model_name": "LayoutModel",
      "_view_count": null,
      "_view_module": "@jupyter-widgets/base",
      "_view_module_version": "1.2.0",
      "_view_name": "LayoutView",
      "align_content": null,
      "align_items": null,
      "align_self": null,
      "border": null,
      "bottom": null,
      "display": null,
      "flex": null,
      "flex_flow": null,
      "grid_area": null,
      "grid_auto_columns": null,
      "grid_auto_flow": null,
      "grid_auto_rows": null,
      "grid_column": null,
      "grid_gap": null,
      "grid_row": null,
      "grid_template_areas": null,
      "grid_template_columns": null,
      "grid_template_rows": null,
      "height": null,
      "justify_content": null,
      "justify_items": null,
      "left": null,
      "margin": null,
      "max_height": null,
      "max_width": null,
      "min_height": null,
      "min_width": null,
      "object_fit": null,
      "object_position": null,
      "order": null,
      "overflow": null,
      "overflow_x": null,
      "overflow_y": null,
      "padding": null,
      "right": null,
      "top": null,
      "visibility": null,
      "width": null
     }
    },
    "4cb2f5fd9f8644208fb88902dfaa9f75": {
     "model_module": "@jupyter-widgets/controls",
     "model_module_version": "1.5.0",
     "model_name": "HTMLModel",
     "state": {
      "_dom_classes": [],
      "_model_module": "@jupyter-widgets/controls",
      "_model_module_version": "1.5.0",
      "_model_name": "HTMLModel",
      "_view_count": null,
      "_view_module": "@jupyter-widgets/controls",
      "_view_module_version": "1.5.0",
      "_view_name": "HTMLView",
      "description": "",
      "description_tooltip": null,
      "layout": "IPY_MODEL_83c8c44247f94e629f00dda8fde84a7b",
      "placeholder": "​",
      "style": "IPY_MODEL_87c054754ef04b308a06b9d88f882029",
      "value": " 440M/440M [00:02&lt;00:00, 155MB/s]"
     }
    },
    "56513b4fde1b4e4a93e7b8ee2f3c7df5": {
     "model_module": "@jupyter-widgets/base",
     "model_module_version": "1.2.0",
     "model_name": "LayoutModel",
     "state": {
      "_model_module": "@jupyter-widgets/base",
      "_model_module_version": "1.2.0",
      "_model_name": "LayoutModel",
      "_view_count": null,
      "_view_module": "@jupyter-widgets/base",
      "_view_module_version": "1.2.0",
      "_view_name": "LayoutView",
      "align_content": null,
      "align_items": null,
      "align_self": null,
      "border": null,
      "bottom": null,
      "display": null,
      "flex": null,
      "flex_flow": null,
      "grid_area": null,
      "grid_auto_columns": null,
      "grid_auto_flow": null,
      "grid_auto_rows": null,
      "grid_column": null,
      "grid_gap": null,
      "grid_row": null,
      "grid_template_areas": null,
      "grid_template_columns": null,
      "grid_template_rows": null,
      "height": null,
      "justify_content": null,
      "justify_items": null,
      "left": null,
      "margin": null,
      "max_height": null,
      "max_width": null,
      "min_height": null,
      "min_width": null,
      "object_fit": null,
      "object_position": null,
      "order": null,
      "overflow": null,
      "overflow_x": null,
      "overflow_y": null,
      "padding": null,
      "right": null,
      "top": null,
      "visibility": null,
      "width": null
     }
    },
    "5b2f06007cba45629a2cb65f6b879ac5": {
     "model_module": "@jupyter-widgets/controls",
     "model_module_version": "1.5.0",
     "model_name": "DescriptionStyleModel",
     "state": {
      "_model_module": "@jupyter-widgets/controls",
      "_model_module_version": "1.5.0",
      "_model_name": "DescriptionStyleModel",
      "_view_count": null,
      "_view_module": "@jupyter-widgets/base",
      "_view_module_version": "1.2.0",
      "_view_name": "StyleView",
      "description_width": ""
     }
    },
    "61921e623cfe431888a5bc268a7e473a": {
     "model_module": "@jupyter-widgets/controls",
     "model_module_version": "1.5.0",
     "model_name": "ProgressStyleModel",
     "state": {
      "_model_module": "@jupyter-widgets/controls",
      "_model_module_version": "1.5.0",
      "_model_name": "ProgressStyleModel",
      "_view_count": null,
      "_view_module": "@jupyter-widgets/base",
      "_view_module_version": "1.2.0",
      "_view_name": "StyleView",
      "bar_color": null,
      "description_width": ""
     }
    },
    "64b92e75c52e46578951e7d2069b10f2": {
     "model_module": "@jupyter-widgets/base",
     "model_module_version": "1.2.0",
     "model_name": "LayoutModel",
     "state": {
      "_model_module": "@jupyter-widgets/base",
      "_model_module_version": "1.2.0",
      "_model_name": "LayoutModel",
      "_view_count": null,
      "_view_module": "@jupyter-widgets/base",
      "_view_module_version": "1.2.0",
      "_view_name": "LayoutView",
      "align_content": null,
      "align_items": null,
      "align_self": null,
      "border": null,
      "bottom": null,
      "display": null,
      "flex": null,
      "flex_flow": null,
      "grid_area": null,
      "grid_auto_columns": null,
      "grid_auto_flow": null,
      "grid_auto_rows": null,
      "grid_column": null,
      "grid_gap": null,
      "grid_row": null,
      "grid_template_areas": null,
      "grid_template_columns": null,
      "grid_template_rows": null,
      "height": null,
      "justify_content": null,
      "justify_items": null,
      "left": null,
      "margin": null,
      "max_height": null,
      "max_width": null,
      "min_height": null,
      "min_width": null,
      "object_fit": null,
      "object_position": null,
      "order": null,
      "overflow": null,
      "overflow_x": null,
      "overflow_y": null,
      "padding": null,
      "right": null,
      "top": null,
      "visibility": null,
      "width": null
     }
    },
    "6539a6dbb9ca428c8113afa8a4ef81fa": {
     "model_module": "@jupyter-widgets/controls",
     "model_module_version": "1.5.0",
     "model_name": "FloatProgressModel",
     "state": {
      "_dom_classes": [],
      "_model_module": "@jupyter-widgets/controls",
      "_model_module_version": "1.5.0",
      "_model_name": "FloatProgressModel",
      "_view_count": null,
      "_view_module": "@jupyter-widgets/controls",
      "_view_module_version": "1.5.0",
      "_view_name": "ProgressView",
      "bar_style": "success",
      "description": "",
      "description_tooltip": null,
      "layout": "IPY_MODEL_e4526f18721948d2a4be21db7580f2c3",
      "max": 100,
      "min": 0,
      "orientation": "horizontal",
      "style": "IPY_MODEL_eae1c52b1d144bd4bf302ef9b184bc9d",
      "value": 100
     }
    },
    "6b3f5012815c426f98ad208db5be9515": {
     "model_module": "@jupyter-widgets/controls",
     "model_module_version": "1.5.0",
     "model_name": "DescriptionStyleModel",
     "state": {
      "_model_module": "@jupyter-widgets/controls",
      "_model_module_version": "1.5.0",
      "_model_name": "DescriptionStyleModel",
      "_view_count": null,
      "_view_module": "@jupyter-widgets/base",
      "_view_module_version": "1.2.0",
      "_view_name": "StyleView",
      "description_width": ""
     }
    },
    "6f0b2349bbe94ef4977ecc72d6dba616": {
     "model_module": "@jupyter-widgets/base",
     "model_module_version": "1.2.0",
     "model_name": "LayoutModel",
     "state": {
      "_model_module": "@jupyter-widgets/base",
      "_model_module_version": "1.2.0",
      "_model_name": "LayoutModel",
      "_view_count": null,
      "_view_module": "@jupyter-widgets/base",
      "_view_module_version": "1.2.0",
      "_view_name": "LayoutView",
      "align_content": null,
      "align_items": null,
      "align_self": null,
      "border": null,
      "bottom": null,
      "display": null,
      "flex": null,
      "flex_flow": null,
      "grid_area": null,
      "grid_auto_columns": null,
      "grid_auto_flow": null,
      "grid_auto_rows": null,
      "grid_column": null,
      "grid_gap": null,
      "grid_row": null,
      "grid_template_areas": null,
      "grid_template_columns": null,
      "grid_template_rows": null,
      "height": null,
      "justify_content": null,
      "justify_items": null,
      "left": null,
      "margin": null,
      "max_height": null,
      "max_width": null,
      "min_height": null,
      "min_width": null,
      "object_fit": null,
      "object_position": null,
      "order": null,
      "overflow": null,
      "overflow_x": null,
      "overflow_y": null,
      "padding": null,
      "right": null,
      "top": null,
      "visibility": null,
      "width": null
     }
    },
    "83c8c44247f94e629f00dda8fde84a7b": {
     "model_module": "@jupyter-widgets/base",
     "model_module_version": "1.2.0",
     "model_name": "LayoutModel",
     "state": {
      "_model_module": "@jupyter-widgets/base",
      "_model_module_version": "1.2.0",
      "_model_name": "LayoutModel",
      "_view_count": null,
      "_view_module": "@jupyter-widgets/base",
      "_view_module_version": "1.2.0",
      "_view_name": "LayoutView",
      "align_content": null,
      "align_items": null,
      "align_self": null,
      "border": null,
      "bottom": null,
      "display": null,
      "flex": null,
      "flex_flow": null,
      "grid_area": null,
      "grid_auto_columns": null,
      "grid_auto_flow": null,
      "grid_auto_rows": null,
      "grid_column": null,
      "grid_gap": null,
      "grid_row": null,
      "grid_template_areas": null,
      "grid_template_columns": null,
      "grid_template_rows": null,
      "height": null,
      "justify_content": null,
      "justify_items": null,
      "left": null,
      "margin": null,
      "max_height": null,
      "max_width": null,
      "min_height": null,
      "min_width": null,
      "object_fit": null,
      "object_position": null,
      "order": null,
      "overflow": null,
      "overflow_x": null,
      "overflow_y": null,
      "padding": null,
      "right": null,
      "top": null,
      "visibility": null,
      "width": null
     }
    },
    "851ec8de89964cb7b56d305405ef00b2": {
     "model_module": "@jupyter-widgets/base",
     "model_module_version": "1.2.0",
     "model_name": "LayoutModel",
     "state": {
      "_model_module": "@jupyter-widgets/base",
      "_model_module_version": "1.2.0",
      "_model_name": "LayoutModel",
      "_view_count": null,
      "_view_module": "@jupyter-widgets/base",
      "_view_module_version": "1.2.0",
      "_view_name": "LayoutView",
      "align_content": null,
      "align_items": null,
      "align_self": null,
      "border": null,
      "bottom": null,
      "display": null,
      "flex": null,
      "flex_flow": null,
      "grid_area": null,
      "grid_auto_columns": null,
      "grid_auto_flow": null,
      "grid_auto_rows": null,
      "grid_column": null,
      "grid_gap": null,
      "grid_row": null,
      "grid_template_areas": null,
      "grid_template_columns": null,
      "grid_template_rows": null,
      "height": null,
      "justify_content": null,
      "justify_items": null,
      "left": null,
      "margin": null,
      "max_height": null,
      "max_width": null,
      "min_height": null,
      "min_width": null,
      "object_fit": null,
      "object_position": null,
      "order": null,
      "overflow": null,
      "overflow_x": null,
      "overflow_y": null,
      "padding": null,
      "right": null,
      "top": null,
      "visibility": null,
      "width": null
     }
    },
    "87c054754ef04b308a06b9d88f882029": {
     "model_module": "@jupyter-widgets/controls",
     "model_module_version": "1.5.0",
     "model_name": "DescriptionStyleModel",
     "state": {
      "_model_module": "@jupyter-widgets/controls",
      "_model_module_version": "1.5.0",
      "_model_name": "DescriptionStyleModel",
      "_view_count": null,
      "_view_module": "@jupyter-widgets/base",
      "_view_module_version": "1.2.0",
      "_view_name": "StyleView",
      "description_width": ""
     }
    },
    "93e24ddb5712425fb3556839429b7018": {
     "model_module": "@jupyter-widgets/controls",
     "model_module_version": "1.5.0",
     "model_name": "HTMLModel",
     "state": {
      "_dom_classes": [],
      "_model_module": "@jupyter-widgets/controls",
      "_model_module_version": "1.5.0",
      "_model_name": "HTMLModel",
      "_view_count": null,
      "_view_module": "@jupyter-widgets/controls",
      "_view_module_version": "1.5.0",
      "_view_name": "HTMLView",
      "description": "",
      "description_tooltip": null,
      "layout": "IPY_MODEL_851ec8de89964cb7b56d305405ef00b2",
      "placeholder": "​",
      "style": "IPY_MODEL_6b3f5012815c426f98ad208db5be9515",
      "value": " 100/100 [00:00&lt;00:00, 300.84 examples/s]"
     }
    },
    "966fa673180a431a8fcf37e7136accce": {
     "model_module": "@jupyter-widgets/controls",
     "model_module_version": "1.5.0",
     "model_name": "HBoxModel",
     "state": {
      "_dom_classes": [],
      "_model_module": "@jupyter-widgets/controls",
      "_model_module_version": "1.5.0",
      "_model_name": "HBoxModel",
      "_view_count": null,
      "_view_module": "@jupyter-widgets/controls",
      "_view_module_version": "1.5.0",
      "_view_name": "HBoxView",
      "box_style": "",
      "children": [
       "IPY_MODEL_102889c5a8eb41ceae24e430d57e6f2b",
       "IPY_MODEL_42b08054d29741e287be449e9dbed602",
       "IPY_MODEL_e7281a16976544859caee0cb242091ce"
      ],
      "layout": "IPY_MODEL_99581d52e2c74ad3950fa4f0f9773126"
     }
    },
    "99581d52e2c74ad3950fa4f0f9773126": {
     "model_module": "@jupyter-widgets/base",
     "model_module_version": "1.2.0",
     "model_name": "LayoutModel",
     "state": {
      "_model_module": "@jupyter-widgets/base",
      "_model_module_version": "1.2.0",
      "_model_name": "LayoutModel",
      "_view_count": null,
      "_view_module": "@jupyter-widgets/base",
      "_view_module_version": "1.2.0",
      "_view_name": "LayoutView",
      "align_content": null,
      "align_items": null,
      "align_self": null,
      "border": null,
      "bottom": null,
      "display": null,
      "flex": null,
      "flex_flow": null,
      "grid_area": null,
      "grid_auto_columns": null,
      "grid_auto_flow": null,
      "grid_auto_rows": null,
      "grid_column": null,
      "grid_gap": null,
      "grid_row": null,
      "grid_template_areas": null,
      "grid_template_columns": null,
      "grid_template_rows": null,
      "height": null,
      "justify_content": null,
      "justify_items": null,
      "left": null,
      "margin": null,
      "max_height": null,
      "max_width": null,
      "min_height": null,
      "min_width": null,
      "object_fit": null,
      "object_position": null,
      "order": null,
      "overflow": null,
      "overflow_x": null,
      "overflow_y": null,
      "padding": null,
      "right": null,
      "top": null,
      "visibility": null,
      "width": null
     }
    },
    "a01c65f67efb4251af91e63806aac77c": {
     "model_module": "@jupyter-widgets/base",
     "model_module_version": "1.2.0",
     "model_name": "LayoutModel",
     "state": {
      "_model_module": "@jupyter-widgets/base",
      "_model_module_version": "1.2.0",
      "_model_name": "LayoutModel",
      "_view_count": null,
      "_view_module": "@jupyter-widgets/base",
      "_view_module_version": "1.2.0",
      "_view_name": "LayoutView",
      "align_content": null,
      "align_items": null,
      "align_self": null,
      "border": null,
      "bottom": null,
      "display": null,
      "flex": null,
      "flex_flow": null,
      "grid_area": null,
      "grid_auto_columns": null,
      "grid_auto_flow": null,
      "grid_auto_rows": null,
      "grid_column": null,
      "grid_gap": null,
      "grid_row": null,
      "grid_template_areas": null,
      "grid_template_columns": null,
      "grid_template_rows": null,
      "height": null,
      "justify_content": null,
      "justify_items": null,
      "left": null,
      "margin": null,
      "max_height": null,
      "max_width": null,
      "min_height": null,
      "min_width": null,
      "object_fit": null,
      "object_position": null,
      "order": null,
      "overflow": null,
      "overflow_x": null,
      "overflow_y": null,
      "padding": null,
      "right": null,
      "top": null,
      "visibility": null,
      "width": null
     }
    },
    "a30f87aa17174f5bab6869f4738e70c0": {
     "model_module": "@jupyter-widgets/base",
     "model_module_version": "1.2.0",
     "model_name": "LayoutModel",
     "state": {
      "_model_module": "@jupyter-widgets/base",
      "_model_module_version": "1.2.0",
      "_model_name": "LayoutModel",
      "_view_count": null,
      "_view_module": "@jupyter-widgets/base",
      "_view_module_version": "1.2.0",
      "_view_name": "LayoutView",
      "align_content": null,
      "align_items": null,
      "align_self": null,
      "border": null,
      "bottom": null,
      "display": null,
      "flex": null,
      "flex_flow": null,
      "grid_area": null,
      "grid_auto_columns": null,
      "grid_auto_flow": null,
      "grid_auto_rows": null,
      "grid_column": null,
      "grid_gap": null,
      "grid_row": null,
      "grid_template_areas": null,
      "grid_template_columns": null,
      "grid_template_rows": null,
      "height": null,
      "justify_content": null,
      "justify_items": null,
      "left": null,
      "margin": null,
      "max_height": null,
      "max_width": null,
      "min_height": null,
      "min_width": null,
      "object_fit": null,
      "object_position": null,
      "order": null,
      "overflow": null,
      "overflow_x": null,
      "overflow_y": null,
      "padding": null,
      "right": null,
      "top": null,
      "visibility": null,
      "width": null
     }
    },
    "ac644588966f47ff866dd7988fc02ca6": {
     "model_module": "@jupyter-widgets/controls",
     "model_module_version": "1.5.0",
     "model_name": "HTMLModel",
     "state": {
      "_dom_classes": [],
      "_model_module": "@jupyter-widgets/controls",
      "_model_module_version": "1.5.0",
      "_model_name": "HTMLModel",
      "_view_count": null,
      "_view_module": "@jupyter-widgets/controls",
      "_view_module_version": "1.5.0",
      "_view_name": "HTMLView",
      "description": "",
      "description_tooltip": null,
      "layout": "IPY_MODEL_e62c7ba238a946deb5b1dad66c1dfc5b",
      "placeholder": "​",
      "style": "IPY_MODEL_fc3ae361bb444382a14f57bf5b7bd97e",
      "value": " 570/570 [00:00&lt;00:00, 19.7kB/s]"
     }
    },
    "b0dc0ff3baa94e43aa6148f9663888b0": {
     "model_module": "@jupyter-widgets/controls",
     "model_module_version": "1.5.0",
     "model_name": "HTMLModel",
     "state": {
      "_dom_classes": [],
      "_model_module": "@jupyter-widgets/controls",
      "_model_module_version": "1.5.0",
      "_model_name": "HTMLModel",
      "_view_count": null,
      "_view_module": "@jupyter-widgets/controls",
      "_view_module_version": "1.5.0",
      "_view_name": "HTMLView",
      "description": "",
      "description_tooltip": null,
      "layout": "IPY_MODEL_b82d55be450345fbb16e00691882316c",
      "placeholder": "​",
      "style": "IPY_MODEL_3cda5e03f2714258911ed6f80f5b66b9",
      "value": "Map: 100%"
     }
    },
    "b82d55be450345fbb16e00691882316c": {
     "model_module": "@jupyter-widgets/base",
     "model_module_version": "1.2.0",
     "model_name": "LayoutModel",
     "state": {
      "_model_module": "@jupyter-widgets/base",
      "_model_module_version": "1.2.0",
      "_model_name": "LayoutModel",
      "_view_count": null,
      "_view_module": "@jupyter-widgets/base",
      "_view_module_version": "1.2.0",
      "_view_name": "LayoutView",
      "align_content": null,
      "align_items": null,
      "align_self": null,
      "border": null,
      "bottom": null,
      "display": null,
      "flex": null,
      "flex_flow": null,
      "grid_area": null,
      "grid_auto_columns": null,
      "grid_auto_flow": null,
      "grid_auto_rows": null,
      "grid_column": null,
      "grid_gap": null,
      "grid_row": null,
      "grid_template_areas": null,
      "grid_template_columns": null,
      "grid_template_rows": null,
      "height": null,
      "justify_content": null,
      "justify_items": null,
      "left": null,
      "margin": null,
      "max_height": null,
      "max_width": null,
      "min_height": null,
      "min_width": null,
      "object_fit": null,
      "object_position": null,
      "order": null,
      "overflow": null,
      "overflow_x": null,
      "overflow_y": null,
      "padding": null,
      "right": null,
      "top": null,
      "visibility": null,
      "width": null
     }
    },
    "c7273e2dd30e44118fe14a3fa3730eca": {
     "model_module": "@jupyter-widgets/controls",
     "model_module_version": "1.5.0",
     "model_name": "DescriptionStyleModel",
     "state": {
      "_model_module": "@jupyter-widgets/controls",
      "_model_module_version": "1.5.0",
      "_model_name": "DescriptionStyleModel",
      "_view_count": null,
      "_view_module": "@jupyter-widgets/base",
      "_view_module_version": "1.2.0",
      "_view_name": "StyleView",
      "description_width": ""
     }
    },
    "d6c3be2aaf84428d92b13cc46401913c": {
     "model_module": "@jupyter-widgets/base",
     "model_module_version": "1.2.0",
     "model_name": "LayoutModel",
     "state": {
      "_model_module": "@jupyter-widgets/base",
      "_model_module_version": "1.2.0",
      "_model_name": "LayoutModel",
      "_view_count": null,
      "_view_module": "@jupyter-widgets/base",
      "_view_module_version": "1.2.0",
      "_view_name": "LayoutView",
      "align_content": null,
      "align_items": null,
      "align_self": null,
      "border": null,
      "bottom": null,
      "display": null,
      "flex": null,
      "flex_flow": null,
      "grid_area": null,
      "grid_auto_columns": null,
      "grid_auto_flow": null,
      "grid_auto_rows": null,
      "grid_column": null,
      "grid_gap": null,
      "grid_row": null,
      "grid_template_areas": null,
      "grid_template_columns": null,
      "grid_template_rows": null,
      "height": null,
      "justify_content": null,
      "justify_items": null,
      "left": null,
      "margin": null,
      "max_height": null,
      "max_width": null,
      "min_height": null,
      "min_width": null,
      "object_fit": null,
      "object_position": null,
      "order": null,
      "overflow": null,
      "overflow_x": null,
      "overflow_y": null,
      "padding": null,
      "right": null,
      "top": null,
      "visibility": null,
      "width": null
     }
    },
    "d90609abb7ac4b8eb19dd509923a01fd": {
     "model_module": "@jupyter-widgets/base",
     "model_module_version": "1.2.0",
     "model_name": "LayoutModel",
     "state": {
      "_model_module": "@jupyter-widgets/base",
      "_model_module_version": "1.2.0",
      "_model_name": "LayoutModel",
      "_view_count": null,
      "_view_module": "@jupyter-widgets/base",
      "_view_module_version": "1.2.0",
      "_view_name": "LayoutView",
      "align_content": null,
      "align_items": null,
      "align_self": null,
      "border": null,
      "bottom": null,
      "display": null,
      "flex": null,
      "flex_flow": null,
      "grid_area": null,
      "grid_auto_columns": null,
      "grid_auto_flow": null,
      "grid_auto_rows": null,
      "grid_column": null,
      "grid_gap": null,
      "grid_row": null,
      "grid_template_areas": null,
      "grid_template_columns": null,
      "grid_template_rows": null,
      "height": null,
      "justify_content": null,
      "justify_items": null,
      "left": null,
      "margin": null,
      "max_height": null,
      "max_width": null,
      "min_height": null,
      "min_width": null,
      "object_fit": null,
      "object_position": null,
      "order": null,
      "overflow": null,
      "overflow_x": null,
      "overflow_y": null,
      "padding": null,
      "right": null,
      "top": null,
      "visibility": null,
      "width": null
     }
    },
    "e4526f18721948d2a4be21db7580f2c3": {
     "model_module": "@jupyter-widgets/base",
     "model_module_version": "1.2.0",
     "model_name": "LayoutModel",
     "state": {
      "_model_module": "@jupyter-widgets/base",
      "_model_module_version": "1.2.0",
      "_model_name": "LayoutModel",
      "_view_count": null,
      "_view_module": "@jupyter-widgets/base",
      "_view_module_version": "1.2.0",
      "_view_name": "LayoutView",
      "align_content": null,
      "align_items": null,
      "align_self": null,
      "border": null,
      "bottom": null,
      "display": null,
      "flex": null,
      "flex_flow": null,
      "grid_area": null,
      "grid_auto_columns": null,
      "grid_auto_flow": null,
      "grid_auto_rows": null,
      "grid_column": null,
      "grid_gap": null,
      "grid_row": null,
      "grid_template_areas": null,
      "grid_template_columns": null,
      "grid_template_rows": null,
      "height": null,
      "justify_content": null,
      "justify_items": null,
      "left": null,
      "margin": null,
      "max_height": null,
      "max_width": null,
      "min_height": null,
      "min_width": null,
      "object_fit": null,
      "object_position": null,
      "order": null,
      "overflow": null,
      "overflow_x": null,
      "overflow_y": null,
      "padding": null,
      "right": null,
      "top": null,
      "visibility": null,
      "width": null
     }
    },
    "e62c7ba238a946deb5b1dad66c1dfc5b": {
     "model_module": "@jupyter-widgets/base",
     "model_module_version": "1.2.0",
     "model_name": "LayoutModel",
     "state": {
      "_model_module": "@jupyter-widgets/base",
      "_model_module_version": "1.2.0",
      "_model_name": "LayoutModel",
      "_view_count": null,
      "_view_module": "@jupyter-widgets/base",
      "_view_module_version": "1.2.0",
      "_view_name": "LayoutView",
      "align_content": null,
      "align_items": null,
      "align_self": null,
      "border": null,
      "bottom": null,
      "display": null,
      "flex": null,
      "flex_flow": null,
      "grid_area": null,
      "grid_auto_columns": null,
      "grid_auto_flow": null,
      "grid_auto_rows": null,
      "grid_column": null,
      "grid_gap": null,
      "grid_row": null,
      "grid_template_areas": null,
      "grid_template_columns": null,
      "grid_template_rows": null,
      "height": null,
      "justify_content": null,
      "justify_items": null,
      "left": null,
      "margin": null,
      "max_height": null,
      "max_width": null,
      "min_height": null,
      "min_width": null,
      "object_fit": null,
      "object_position": null,
      "order": null,
      "overflow": null,
      "overflow_x": null,
      "overflow_y": null,
      "padding": null,
      "right": null,
      "top": null,
      "visibility": null,
      "width": null
     }
    },
    "e7281a16976544859caee0cb242091ce": {
     "model_module": "@jupyter-widgets/controls",
     "model_module_version": "1.5.0",
     "model_name": "HTMLModel",
     "state": {
      "_dom_classes": [],
      "_model_module": "@jupyter-widgets/controls",
      "_model_module_version": "1.5.0",
      "_model_name": "HTMLModel",
      "_view_count": null,
      "_view_module": "@jupyter-widgets/controls",
      "_view_module_version": "1.5.0",
      "_view_name": "HTMLView",
      "description": "",
      "description_tooltip": null,
      "layout": "IPY_MODEL_64b92e75c52e46578951e7d2069b10f2",
      "placeholder": "​",
      "style": "IPY_MODEL_32b772ed1abe4c44b5dc6509f33486db",
      "value": " 100/100 [00:00&lt;00:00, 321.06 examples/s]"
     }
    },
    "eaa8b5de786c458399d7ec43fd5ee3fe": {
     "model_module": "@jupyter-widgets/base",
     "model_module_version": "1.2.0",
     "model_name": "LayoutModel",
     "state": {
      "_model_module": "@jupyter-widgets/base",
      "_model_module_version": "1.2.0",
      "_model_name": "LayoutModel",
      "_view_count": null,
      "_view_module": "@jupyter-widgets/base",
      "_view_module_version": "1.2.0",
      "_view_name": "LayoutView",
      "align_content": null,
      "align_items": null,
      "align_self": null,
      "border": null,
      "bottom": null,
      "display": null,
      "flex": null,
      "flex_flow": null,
      "grid_area": null,
      "grid_auto_columns": null,
      "grid_auto_flow": null,
      "grid_auto_rows": null,
      "grid_column": null,
      "grid_gap": null,
      "grid_row": null,
      "grid_template_areas": null,
      "grid_template_columns": null,
      "grid_template_rows": null,
      "height": null,
      "justify_content": null,
      "justify_items": null,
      "left": null,
      "margin": null,
      "max_height": null,
      "max_width": null,
      "min_height": null,
      "min_width": null,
      "object_fit": null,
      "object_position": null,
      "order": null,
      "overflow": null,
      "overflow_x": null,
      "overflow_y": null,
      "padding": null,
      "right": null,
      "top": null,
      "visibility": null,
      "width": null
     }
    },
    "eae1c52b1d144bd4bf302ef9b184bc9d": {
     "model_module": "@jupyter-widgets/controls",
     "model_module_version": "1.5.0",
     "model_name": "ProgressStyleModel",
     "state": {
      "_model_module": "@jupyter-widgets/controls",
      "_model_module_version": "1.5.0",
      "_model_name": "ProgressStyleModel",
      "_view_count": null,
      "_view_module": "@jupyter-widgets/base",
      "_view_module_version": "1.2.0",
      "_view_name": "StyleView",
      "bar_color": null,
      "description_width": ""
     }
    },
    "ebc01fd903fc45f1aaa8efcad6082762": {
     "model_module": "@jupyter-widgets/controls",
     "model_module_version": "1.5.0",
     "model_name": "HBoxModel",
     "state": {
      "_dom_classes": [],
      "_model_module": "@jupyter-widgets/controls",
      "_model_module_version": "1.5.0",
      "_model_name": "HBoxModel",
      "_view_count": null,
      "_view_module": "@jupyter-widgets/controls",
      "_view_module_version": "1.5.0",
      "_view_name": "HBoxView",
      "box_style": "",
      "children": [
       "IPY_MODEL_b0dc0ff3baa94e43aa6148f9663888b0",
       "IPY_MODEL_6539a6dbb9ca428c8113afa8a4ef81fa",
       "IPY_MODEL_93e24ddb5712425fb3556839429b7018"
      ],
      "layout": "IPY_MODEL_35b1a6c843b148c7851154d90c7ffec0"
     }
    },
    "edd59c43d560414e967191986348fe5f": {
     "model_module": "@jupyter-widgets/controls",
     "model_module_version": "1.5.0",
     "model_name": "FloatProgressModel",
     "state": {
      "_dom_classes": [],
      "_model_module": "@jupyter-widgets/controls",
      "_model_module_version": "1.5.0",
      "_model_name": "FloatProgressModel",
      "_view_count": null,
      "_view_module": "@jupyter-widgets/controls",
      "_view_module_version": "1.5.0",
      "_view_name": "ProgressView",
      "bar_style": "success",
      "description": "",
      "description_tooltip": null,
      "layout": "IPY_MODEL_56513b4fde1b4e4a93e7b8ee2f3c7df5",
      "max": 570,
      "min": 0,
      "orientation": "horizontal",
      "style": "IPY_MODEL_fa24b4ac4a0a42b9b0088ee759adaed8",
      "value": 570
     }
    },
    "f0489586684048c88e7223915c8f0020": {
     "model_module": "@jupyter-widgets/controls",
     "model_module_version": "1.5.0",
     "model_name": "FloatProgressModel",
     "state": {
      "_dom_classes": [],
      "_model_module": "@jupyter-widgets/controls",
      "_model_module_version": "1.5.0",
      "_model_name": "FloatProgressModel",
      "_view_count": null,
      "_view_module": "@jupyter-widgets/controls",
      "_view_module_version": "1.5.0",
      "_view_name": "ProgressView",
      "bar_style": "success",
      "description": "",
      "description_tooltip": null,
      "layout": "IPY_MODEL_a01c65f67efb4251af91e63806aac77c",
      "max": 440449768,
      "min": 0,
      "orientation": "horizontal",
      "style": "IPY_MODEL_61921e623cfe431888a5bc268a7e473a",
      "value": 440449768
     }
    },
    "f79660ce9da940878292a701e66c63c2": {
     "model_module": "@jupyter-widgets/controls",
     "model_module_version": "1.5.0",
     "model_name": "HBoxModel",
     "state": {
      "_dom_classes": [],
      "_model_module": "@jupyter-widgets/controls",
      "_model_module_version": "1.5.0",
      "_model_name": "HBoxModel",
      "_view_count": null,
      "_view_module": "@jupyter-widgets/controls",
      "_view_module_version": "1.5.0",
      "_view_name": "HBoxView",
      "box_style": "",
      "children": [
       "IPY_MODEL_1cdf31afbf4f40d285f6d13844402622",
       "IPY_MODEL_f0489586684048c88e7223915c8f0020",
       "IPY_MODEL_4cb2f5fd9f8644208fb88902dfaa9f75"
      ],
      "layout": "IPY_MODEL_44bad1c5c8fb48ecbf3c7b1d1ccddc38"
     }
    },
    "fa24b4ac4a0a42b9b0088ee759adaed8": {
     "model_module": "@jupyter-widgets/controls",
     "model_module_version": "1.5.0",
     "model_name": "ProgressStyleModel",
     "state": {
      "_model_module": "@jupyter-widgets/controls",
      "_model_module_version": "1.5.0",
      "_model_name": "ProgressStyleModel",
      "_view_count": null,
      "_view_module": "@jupyter-widgets/base",
      "_view_module_version": "1.2.0",
      "_view_name": "StyleView",
      "bar_color": null,
      "description_width": ""
     }
    },
    "fc3ae361bb444382a14f57bf5b7bd97e": {
     "model_module": "@jupyter-widgets/controls",
     "model_module_version": "1.5.0",
     "model_name": "DescriptionStyleModel",
     "state": {
      "_model_module": "@jupyter-widgets/controls",
      "_model_module_version": "1.5.0",
      "_model_name": "DescriptionStyleModel",
      "_view_count": null,
      "_view_module": "@jupyter-widgets/base",
      "_view_module_version": "1.2.0",
      "_view_name": "StyleView",
      "description_width": ""
     }
    }
   }
  }
 },
 "nbformat": 4,
 "nbformat_minor": 4
}
