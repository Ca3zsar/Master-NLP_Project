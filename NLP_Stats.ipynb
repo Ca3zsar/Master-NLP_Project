{
 "cells": [
  {
   "cell_type": "code",
   "execution_count": 1,
   "metadata": {},
   "outputs": [],
   "source": [
    "import numpy as np\n",
    "import pandas as pd\n",
    "from sklearn.model_selection import train_test_split"
   ]
  },
  {
   "cell_type": "code",
   "execution_count": 2,
   "metadata": {},
   "outputs": [],
   "source": [
    "def get_test_data(test_path):\n",
    "    test_df = pd.read_json(test_path, lines=True)\n",
    "    test_df = test_df[['text', 'label']]\n",
    "    return test_df\n",
    "\n",
    "def get_data(train_path):\n",
    "   train_df = pd.read_json(train_path, lines=True)\n",
    "   train_df = train_df[['text', 'label']]\n",
    "   train_df, validation_df = train_test_split(train_df, test_size=0.1, stratify=train_df['label'])\n",
    "   return train_df, validation_df"
   ]
  },
  {
   "cell_type": "code",
   "execution_count": 3,
   "metadata": {},
   "outputs": [],
   "source": [
    "file_train_path = 'data/subtaskA_train_monolingual.jsonl'\n",
    "train_df, validation_df = get_data(file_train_path)"
   ]
  },
  {
   "cell_type": "code",
   "execution_count": 4,
   "metadata": {},
   "outputs": [],
   "source": [
    "file_test_path = 'data/subtaskA_dev_monolingual.jsonl'\n",
    "test_df = get_test_data(file_test_path)"
   ]
  },
  {
   "cell_type": "code",
   "execution_count": 5,
   "metadata": {},
   "outputs": [
    {
     "name": "stdout",
     "output_type": "stream",
     "text": [
      "460.8968463829432\n"
     ]
    }
   ],
   "source": [
    "mean = 0\n",
    "for i in range(len(train_df)):\n",
    "    mean += len(train_df.iloc[i]['text'].split())\n",
    "mean /= len(train_df)\n",
    "print(mean)"
   ]
  },
  {
   "cell_type": "code",
   "execution_count": 6,
   "metadata": {},
   "outputs": [
    {
     "name": "stdout",
     "output_type": "stream",
     "text": [
      "279\n"
     ]
    }
   ],
   "source": [
    "median = 0\n",
    "lengths = []\n",
    "for i in range(len(train_df)):\n",
    "    lengths.append(len(train_df.iloc[i]['text'].split()))\n",
    "lengths.sort()\n",
    "median = lengths[len(lengths)//2]\n",
    "print(median)\n"
   ]
  },
  {
   "cell_type": "code",
   "execution_count": 7,
   "metadata": {},
   "outputs": [
    {
     "name": "stdout",
     "output_type": "stream",
     "text": [
      "1279634\n"
     ]
    }
   ],
   "source": [
    "# check number of different words\n",
    "words = {}\n",
    "for i in range(len(train_df)):\n",
    "    for word in train_df.iloc[i]['text'].split():\n",
    "        words[word.lower()] = words.get(word.lower(), 0) + 1\n",
    "print(len(words))\n"
   ]
  },
  {
   "cell_type": "code",
   "execution_count": 8,
   "metadata": {},
   "outputs": [
    {
     "name": "stdout",
     "output_type": "stream",
     "text": [
      "34792\n"
     ]
    }
   ],
   "source": [
    "# check how many words from test_df do not appear in words\n",
    "test_words = set()\n",
    "for i in range(len(test_df)):\n",
    "    for word in test_df.iloc[i]['text'].split():\n",
    "        if word.lower() not in words:\n",
    "            test_words.add(word)\n",
    "\n",
    "print(len(test_words))"
   ]
  }
 ],
 "metadata": {
  "kernelspec": {
   "display_name": "Python 3",
   "language": "python",
   "name": "python3"
  },
  "language_info": {
   "codemirror_mode": {
    "name": "ipython",
    "version": 3
   },
   "file_extension": ".py",
   "mimetype": "text/x-python",
   "name": "python",
   "nbconvert_exporter": "python",
   "pygments_lexer": "ipython3",
   "version": "3.11.7"
  }
 },
 "nbformat": 4,
 "nbformat_minor": 2
}
