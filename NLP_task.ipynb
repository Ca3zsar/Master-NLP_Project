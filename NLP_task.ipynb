{
 "cells": [
  {
   "cell_type": "code",
   "execution_count": null,
   "metadata": {
    "colab": {
     "base_uri": "https://localhost:8080/"
    },
    "id": "5ZZWBsqEh_rO",
    "outputId": "f6d057b5-0d6d-4fa1-ab5f-a9d250271090"
   },
   "outputs": [],
   "source": [
    "!pip install transformers"
   ]
  },
  {
   "cell_type": "markdown",
   "metadata": {
    "id": "N_FPLzGE6xxd"
   },
   "source": [
    "### imports"
   ]
  },
  {
   "cell_type": "code",
   "execution_count": null,
   "metadata": {
    "id": "ilttJlToiHgh",
    "tags": []
   },
   "outputs": [],
   "source": [
    "import json\n",
    "from transformers import pipeline\n",
    "\n",
    "import numpy as np\n",
    "\n",
    "from pprint import pprint\n",
    "from tensorflow.keras.optimizers import Adam"
   ]
  },
  {
   "cell_type": "markdown",
   "metadata": {
    "id": "pnw2OwjnjUlU"
   },
   "source": [
    "### Use transformers get a model for predicting MGT"
   ]
  },
  {
   "cell_type": "code",
   "execution_count": null,
   "metadata": {
    "colab": {
     "base_uri": "https://localhost:8080/",
     "height": 209,
     "referenced_widgets": [
      "949b08cae8da4366bdda4a34c1765f44",
      "1e4a42f7a3d34fb1bb8f132be9af194b",
      "95d1cc4269c647a4a0491b571f95c9df",
      "ab733d87a8074db581233f489bdc7b84",
      "8cc208db65c044edb5e51a949794aa4c",
      "cac232e1f8a148aa87ca9a8ab6427073",
      "2b0d47adb7d8408b8bd19c27eafb84a7",
      "ffcc60d3d5654bba9b6241cb2a0d8561",
      "0016e8aab0f64388a649f6ad02314c33",
      "64a05f7c61534c3fbf3dccaa233b1321",
      "a668745ef6aa47739e7de32a336724a3",
      "3f241ac54891470886e9e67e5660f9cd",
      "a20493769a6f47eca1a1f24965363134",
      "4f74e90ff9bd433390fa5f85ea28dbd3",
      "54bebbbfbaff445895b5a152c3e4e98d",
      "7bc0b4708f0f4e9ab1eff7192f867eaa",
      "abd9763093f54fe79ea38076af17f10c",
      "2df2b68b29894706b725212e1550527c",
      "bf7ab6283e324208b1cdd30a0d17fb9a",
      "0b32dd6ccd494bb993ca00d3ff34f8bb",
      "6e9891369cb4450780e967c932002cb4",
      "708763cb306b48d087c827d446f396f9",
      "61c8ee83d70f472ca627b2cf98cebcd9",
      "37b3c5fae1f24afa9059210ec9e89db6",
      "99ace6240bd84ff5b213b771053e3cbe",
      "dacce6491d754ccaa0d8cc6516ee291f",
      "5460ac55e024490d9034fdeb5046e369",
      "d06b9855e4fc44e5a8eb7fa4dd4946e5",
      "37e3b1b11cb94a2ab901b348b0c07a22",
      "7a14b0b44f3f480e9f1e9bd4ee7ff8ea",
      "0934d1a6fb3e4f44b44c5785426699f5",
      "b0332f1040f644b7affdf0ad06eef900",
      "63f95a383486470f9c1a6724a685e918",
      "f1711e929fda4f458240f99be814fa3b",
      "055c940c039d4ced849195bd4ae2aad0",
      "0dfe7239ab244130b82f8521e3ee41a9",
      "e5a8b6fad0364ead9a80bedb8a8e15bb",
      "76e7ea0ba6e64afe871bb424e0f321c1",
      "c1262054fd3e45f38637ca0538b61491",
      "7ef053264991482fb45217d9dcb3fe1d",
      "d85c0e822efe45648b0e2435f8a4f79a",
      "138a1d1c7dd24869a3633388e985d7b1",
      "ee4bffd216de43a9a5204fe303c91005",
      "bb7fe23a41f643379427ef8026c5bd83",
      "1224445f508247d7ab69f7035cf35a04",
      "36912b8305c4489a9144ef93ccde4a61",
      "f7e59b99758b418198b9f821a561148b",
      "c12f0ec2d3bc48cfbbc19a540a1a0f43",
      "117f1db9cd0d432d8a12abc9a95652c9",
      "05eac7711ede44d0a2053feb46f91950",
      "4978d077cf004fd68c1e9dbfdf49930e",
      "3cec74edf2af4e68ab59323ae55f7305",
      "1c8746121d234eeeb70a08129493ef93",
      "b4378e32437c4d6ebb2a715daf8732d5",
      "c6975959becc4d5c88bb27fed3e25c3f",
      "63e36e40f02343fba590e16444a9b8ce",
      "969f4f3ceae344408f3a28443e454602",
      "1263f81ada424f34be74c7609aed97d9",
      "0521838301b74ff3ad1cda74717339a1",
      "fbb8cf8cf7614be3bea6d7e02f1e41db",
      "1a84e4afc009456aaf0353dedef3f525",
      "d5c72d6742a645fa8f3626d6e54730f8",
      "eec9d71dc1164034a0b6f52b02d4e167",
      "c3efea31956a4c5f85104d40ddae4c58",
      "cede916c97f24088a029e623d5e3a099",
      "663e431c0c9c46bb828a71fc3f832d55"
     ]
    },
    "id": "jXnShGusiKnj",
    "outputId": "f85f37b7-32fc-451a-88b6-7e757c7b5dbc"
   },
   "outputs": [],
   "source": [
    "pipe = pipeline(model=\"facebook/bart-large-mnli\")"
   ]
  },
  {
   "cell_type": "markdown",
   "metadata": {
    "id": "FbAfsivFjaxv"
   },
   "source": [
    "### load data from jsonl"
   ]
  },
  {
   "cell_type": "code",
   "execution_count": null,
   "metadata": {
    "id": "62G1A8iqje3w",
    "tags": []
   },
   "outputs": [],
   "source": [
    "def load_data(file_path):\n",
    "  data_list = []\n",
    "  with open(file_path, 'r') as file:\n",
    "    for line in file:\n",
    "        # load each line as a JSON object\n",
    "        data = json.loads(line.strip())\n",
    "        data_list.append(data)\n",
    "  return data_list\n"
   ]
  },
  {
   "cell_type": "code",
   "execution_count": 5,
   "metadata": {
    "execution": {
     "iopub.execute_input": "2024-01-17T16:36:07.948335Z",
     "iopub.status.busy": "2024-01-17T16:36:07.947994Z",
     "iopub.status.idle": "2024-01-17T16:36:07.951600Z",
     "shell.execute_reply": "2024-01-17T16:36:07.950867Z",
     "shell.execute_reply.started": "2024-01-17T16:36:07.948313Z"
    },
    "id": "9NK92Cu2jO-c",
    "tags": []
   },
   "outputs": [],
   "source": [
    "file_path = 'data/subtaskA_train_monolingual.jsonl'"
   ]
  },
  {
   "cell_type": "code",
   "execution_count": 6,
   "metadata": {
    "execution": {
     "iopub.execute_input": "2024-01-17T16:36:08.203815Z",
     "iopub.status.busy": "2024-01-17T16:36:08.203481Z",
     "iopub.status.idle": "2024-01-17T16:36:08.207008Z",
     "shell.execute_reply": "2024-01-17T16:36:08.206252Z",
     "shell.execute_reply.started": "2024-01-17T16:36:08.203795Z"
    },
    "tags": []
   },
   "outputs": [],
   "source": [
    "test_path = 'data/subtaskA_dev_monolingual.jsonl'"
   ]
  },
  {
   "cell_type": "code",
   "execution_count": null,
   "metadata": {
    "id": "uQK77IOOjvSH",
    "tags": []
   },
   "outputs": [],
   "source": [
    "data_loaded = load_data(file_path)"
   ]
  },
  {
   "cell_type": "markdown",
   "metadata": {
    "id": "YAld2v5EjzIu"
   },
   "source": [
    "### get a random sample from data"
   ]
  },
  {
   "cell_type": "code",
   "execution_count": null,
   "metadata": {
    "colab": {
     "base_uri": "https://localhost:8080/"
    },
    "id": "2wUHSMVpjyrn",
    "outputId": "4bcc6dfa-2576-42d1-e31b-24d041359a37"
   },
   "outputs": [],
   "source": [
    "test_data = data_loaded[100]['text']\n",
    "print(test_data)\n",
    "print(\"label is: \", data_loaded[100]['label'])"
   ]
  },
  {
   "cell_type": "markdown",
   "metadata": {
    "id": "Wb1_INWkkYUO"
   },
   "source": [
    "### Test using pipeline"
   ]
  },
  {
   "cell_type": "code",
   "execution_count": null,
   "metadata": {
    "id": "QdnzLlTukYJI"
   },
   "outputs": [],
   "source": [
    "# test this using the pipeline\n",
    "result = pipe(test_data,\n",
    "              candidate_labels=[\"Written by humans\", \"Written by AI\"],)"
   ]
  },
  {
   "cell_type": "code",
   "execution_count": null,
   "metadata": {
    "colab": {
     "base_uri": "https://localhost:8080/"
    },
    "id": "MCbPr_yOnDFw",
    "outputId": "67ba30e3-1e61-484b-a477-430c82c4d2a4"
   },
   "outputs": [],
   "source": [
    "print(type(test_data))"
   ]
  },
  {
   "cell_type": "code",
   "execution_count": null,
   "metadata": {
    "colab": {
     "base_uri": "https://localhost:8080/"
    },
    "id": "HDdM2n2XkwlV",
    "outputId": "4fa70f4b-c02d-4adf-b652-f4703110f7b4"
   },
   "outputs": [],
   "source": [
    "pprint(result)"
   ]
  },
  {
   "cell_type": "code",
   "execution_count": null,
   "metadata": {
    "id": "5KB1TJxMlzlG"
   },
   "outputs": [],
   "source": [
    "def prepare_test_data():\n",
    "  texts = []\n",
    "  labels = []\n",
    "  for data in data_loaded:\n",
    "    texts.append(data['text'])\n",
    "    labels.append(data['label'])\n",
    "  return texts,labels\n"
   ]
  },
  {
   "cell_type": "code",
   "execution_count": null,
   "metadata": {
    "id": "PG-AcWVKmEZT"
   },
   "outputs": [],
   "source": [
    "x_test, y_test = prepare_test_data()"
   ]
  },
  {
   "cell_type": "code",
   "execution_count": null,
   "metadata": {
    "colab": {
     "base_uri": "https://localhost:8080/"
    },
    "id": "O4dqKrbcm9kF",
    "outputId": "c85b8907-aac2-43f3-db0e-07d5007f28ef"
   },
   "outputs": [],
   "source": [
    "print(len(x_test))"
   ]
  },
  {
   "cell_type": "code",
   "execution_count": null,
   "metadata": {
    "id": "5v08kXBmvCsJ"
   },
   "outputs": [],
   "source": [
    "x_test_sample = x_test[:3]\n",
    "y_test_sample = y_test[:3]"
   ]
  },
  {
   "cell_type": "code",
   "execution_count": null,
   "metadata": {
    "id": "X6AnKtyqvJ26"
   },
   "outputs": [],
   "source": [
    "results = pipe(x_test_sample,\n",
    "              candidate_labels=[\"Written by humans\", \"Written by AI\"],)"
   ]
  },
  {
   "cell_type": "code",
   "execution_count": null,
   "metadata": {
    "id": "1TQGoshKwckV"
   },
   "outputs": [],
   "source": [
    "pprint(results)"
   ]
  },
  {
   "cell_type": "code",
   "execution_count": null,
   "metadata": {
    "colab": {
     "base_uri": "https://localhost:8080/"
    },
    "id": "jyZmKGaxvaBu",
    "outputId": "b0970cf8-78be-4a51-d6fe-1aa5ef94de7c"
   },
   "outputs": [],
   "source": [
    "# verify results\n",
    "correct = 0\n",
    "for i in range(len(results)):\n",
    "    # take the index of the label with the highet score from scores\n",
    "    if results[i]['scores'].index(max(results[i]['scores'])) == y_test[i]:\n",
    "      correct +=1\n",
    "print(\"Accuracy is : \", correct / len(results))"
   ]
  },
  {
   "cell_type": "markdown",
   "metadata": {
    "id": "h5D5gD6BxXk8"
   },
   "source": [
    "# Zero-shot classification\n"
   ]
  },
  {
   "cell_type": "code",
   "execution_count": null,
   "metadata": {
    "colab": {
     "base_uri": "https://localhost:8080/"
    },
    "id": "74SEvC98xZZU",
    "outputId": "26929e91-3784-4ebb-8b3b-bdf468991386"
   },
   "outputs": [],
   "source": [
    "classifier = pipeline(\"zero-shot-classification\")\n",
    "classifier(\n",
    "    x_test_sample,\n",
    "    candidate_labels=[\"human\", \"AI\"],\n",
    ")"
   ]
  },
  {
   "cell_type": "markdown",
   "metadata": {
    "id": "XJv8txlXzfHS"
   },
   "source": [
    "# Fine-tuning: using BERT pre-trained model!"
   ]
  },
  {
   "cell_type": "code",
   "execution_count": null,
   "metadata": {
    "id": "a5KlUduY2kDt"
   },
   "outputs": [],
   "source": [
    "x_test, y_test = prepare_test_data()"
   ]
  },
  {
   "cell_type": "code",
   "execution_count": null,
   "metadata": {
    "colab": {
     "base_uri": "https://localhost:8080/"
    },
    "id": "JLL5kggY2r4a",
    "outputId": "60b41fa8-579f-40b9-dcab-62b25ede5bf3"
   },
   "outputs": [],
   "source": [
    "print(len(x_test))"
   ]
  },
  {
   "cell_type": "markdown",
   "metadata": {
    "id": "XEaRsq_o20Wk"
   },
   "source": [
    "### Split data into train and test"
   ]
  },
  {
   "cell_type": "code",
   "execution_count": null,
   "metadata": {
    "id": "rd1_LAfk2wBd"
   },
   "outputs": [],
   "source": [
    "# split the data into train and test set\n",
    "X_train, X_test, y_train, y_test = train_test_split(x_test, y_test, test_size=0.2, random_state=42)"
   ]
  },
  {
   "cell_type": "code",
   "execution_count": null,
   "metadata": {
    "colab": {
     "base_uri": "https://localhost:8080/"
    },
    "id": "gdUcbVj26h74",
    "outputId": "de3f1b5c-046c-4606-8576-70b3a16d3b5e"
   },
   "outputs": [],
   "source": [
    "# print the shapes of the train and test set\n",
    "print(len(X_train), len(y_train), len(X_test), len(y_test))"
   ]
  },
  {
   "cell_type": "code",
   "execution_count": null,
   "metadata": {
    "colab": {
     "base_uri": "https://localhost:8080/"
    },
    "id": "_GGmmO3r6ob2",
    "outputId": "08d2a27d-ee9d-4aa9-fcfc-7aa7a40982e6"
   },
   "outputs": [],
   "source": [
    "# load the pre-trained BERt tokenizer and model\n",
    "tokenizer = BertTokenizer.from_pretrained('bert-base-uncased')\n",
    "model = TFBertForSequenceClassification.from_pretrained('bert-base-uncased')"
   ]
  },
  {
   "cell_type": "code",
   "execution_count": null,
   "metadata": {
    "id": "pfNCqqML6tS3"
   },
   "outputs": [],
   "source": [
    "# convert labels to numpy array\n",
    "# the labels are already a list of 0 and 1s, so we can just convert that directly to a NumPy array without tokenization!\n",
    "y_train = np.array(y_train)\n",
    "y_test = np.array(y_test)"
   ]
  },
  {
   "cell_type": "code",
   "execution_count": null,
   "metadata": {
    "id": "l2ddTsHr640X"
   },
   "outputs": [],
   "source": [
    "# Tokenize and pad the input sequences\n",
    "X_train_tokens = tokenizer(X_train, padding=True, truncation=True, max_length=128, return_tensors=\"tf\")\n",
    "X_test_tokens = tokenizer(X_test, padding=True, truncation=True, max_length=128, return_tensors=\"tf\")\n"
   ]
  },
  {
   "cell_type": "code",
   "execution_count": null,
   "metadata": {
    "id": "JzslfgPaD7tF"
   },
   "outputs": [],
   "source": [
    "print(X_train_tokens[0])"
   ]
  },
  {
   "cell_type": "code",
   "execution_count": null,
   "metadata": {
    "id": "H0Xil_sk7JRd"
   },
   "outputs": [],
   "source": [
    "# prepare the model for training\n",
    "model.compile(optimizer='adam', loss='binary_crossentropy', metrics=['accuracy'])"
   ]
  },
  {
   "cell_type": "code",
   "execution_count": null,
   "metadata": {
    "colab": {
     "base_uri": "https://localhost:8080/"
    },
    "id": "sYWgaWdP7RAb",
    "outputId": "baed3102-6089-4357-fda8-f4810fa0777f"
   },
   "outputs": [],
   "source": [
    "model.fit(X_train_tokens['input_ids'], y_train, epochs=2, batch_size=32, validation_data=(X_test_tokens['input_ids'], y_test))"
   ]
  },
  {
   "cell_type": "code",
   "execution_count": null,
   "metadata": {
    "id": "IlonZM6f72i6"
   },
   "outputs": [],
   "source": [
    "# evaluate the model on the test set:\n",
    "scores = model.evaluate(X_test_tokens['input_ids'], y_test)\n",
    "print(\"Accuracy:\", scores[1])"
   ]
  },
  {
   "cell_type": "markdown",
   "metadata": {
    "id": "WGVoxFlYEeKr"
   },
   "source": [
    "### version 2"
   ]
  },
  {
   "cell_type": "code",
   "execution_count": null,
   "metadata": {
    "id": "b9MJDEzdEjad"
   },
   "outputs": [],
   "source": [
    "tokenizer = AutoTokenizer.from_pretrained(\"bert-base-cased\")"
   ]
  },
  {
   "cell_type": "code",
   "execution_count": null,
   "metadata": {
    "colab": {
     "base_uri": "https://localhost:8080/",
     "height": 127
    },
    "id": "gQoVnK4eE32d",
    "outputId": "1695780d-49dd-4400-8e70-f0b9ce6d6128"
   },
   "outputs": [],
   "source": [
    "data_loaded[0]['text']"
   ]
  },
  {
   "cell_type": "code",
   "execution_count": null,
   "metadata": {
    "id": "EFRih3HiEkzI"
   },
   "outputs": [],
   "source": [
    "tokenizer = AutoTokenizer.from_pretrained(\"bert-base-cased\")\n",
    "tokenized_data = tokenizer(X_train, return_tensors=\"np\", padding=True, truncation=True, max_length=128)"
   ]
  },
  {
   "cell_type": "code",
   "execution_count": null,
   "metadata": {
    "id": "AAP0a3itFi59"
   },
   "outputs": [],
   "source": [
    "tokenized_data = dict(tokenized_data)"
   ]
  },
  {
   "cell_type": "code",
   "execution_count": null,
   "metadata": {
    "colab": {
     "base_uri": "https://localhost:8080/"
    },
    "id": "0lYnwo6gFTOp",
    "outputId": "489d2614-d787-424e-c348-ba0ad947a1f3"
   },
   "outputs": [],
   "source": [
    "# Load and compile our model\n",
    "# for subtask A\n",
    "id2label = {0 : \"human\" , 1: \"machine\"}\n",
    "label2id = {\"human\": 0, \"machine\": 1}\n",
    "model = TFAutoModelForSequenceClassification.from_pretrained(\"bert-base-cased\")"
   ]
  },
  {
   "cell_type": "code",
   "execution_count": null,
   "metadata": {
    "id": "ogJkky1hFetv"
   },
   "outputs": [],
   "source": [
    "model.compile(Adam(3e-5))  # No loss argument!\n",
    "# Hugging Face models automatically choose a loss that is appropriate for their task"
   ]
  },
  {
   "cell_type": "code",
   "execution_count": null,
   "metadata": {
    "colab": {
     "base_uri": "https://localhost:8080/"
    },
    "id": "jxjM8wr1FxRF",
    "outputId": "42bcd76a-29ad-4f82-d582-69904976678d"
   },
   "outputs": [],
   "source": [
    "model.fit(tokenized_data, y_train)"
   ]
  },
  {
   "cell_type": "markdown",
   "metadata": {
    "id": "DZ0PfTsOOERy"
   },
   "source": [
    "## Version 3"
   ]
  },
  {
   "cell_type": "code",
   "execution_count": 1,
   "metadata": {
    "execution": {
     "iopub.execute_input": "2024-01-17T16:35:54.642581Z",
     "iopub.status.busy": "2024-01-17T16:35:54.642257Z",
     "iopub.status.idle": "2024-01-17T16:35:58.930585Z",
     "shell.execute_reply": "2024-01-17T16:35:58.929905Z",
     "shell.execute_reply.started": "2024-01-17T16:35:54.642557Z"
    },
    "id": "Ihz7acmfOVuX",
    "tags": []
   },
   "outputs": [
    {
     "name": "stderr",
     "output_type": "stream",
     "text": [
      "2024-01-17 16:35:57.186879: I tensorflow/core/util/port.cc:113] oneDNN custom operations are on. You may see slightly different numerical results due to floating-point round-off errors from different computation orders. To turn them off, set the environment variable `TF_ENABLE_ONEDNN_OPTS=0`.\n",
      "2024-01-17 16:35:57.231963: E external/local_xla/xla/stream_executor/cuda/cuda_dnn.cc:9261] Unable to register cuDNN factory: Attempting to register factory for plugin cuDNN when one has already been registered\n",
      "2024-01-17 16:35:57.231992: E external/local_xla/xla/stream_executor/cuda/cuda_fft.cc:607] Unable to register cuFFT factory: Attempting to register factory for plugin cuFFT when one has already been registered\n",
      "2024-01-17 16:35:57.233151: E external/local_xla/xla/stream_executor/cuda/cuda_blas.cc:1515] Unable to register cuBLAS factory: Attempting to register factory for plugin cuBLAS when one has already been registered\n",
      "2024-01-17 16:35:57.240491: I tensorflow/core/platform/cpu_feature_guard.cc:182] This TensorFlow binary is optimized to use available CPU instructions in performance-critical operations.\n",
      "To enable the following instructions: AVX2 AVX512F AVX512_VNNI FMA, in other operations, rebuild TensorFlow with the appropriate compiler flags.\n",
      "2024-01-17 16:35:58.328581: W tensorflow/compiler/tf2tensorrt/utils/py_utils.cc:38] TF-TRT Warning: Could not find TensorRT\n"
     ]
    }
   ],
   "source": [
    "import pandas as pd\n",
    "import numpy as np\n",
    "from datasets import Dataset\n",
    "from transformers import DataCollatorWithPadding\n",
    "from tensorflow.keras.losses import SparseCategoricalCrossentropy\n",
    "from tensorflow.keras.metrics import SparseCategoricalAccuracy\n",
    "from transformers import AutoTokenizer\n",
    "from transformers import AutoModelForSequenceClassification\n",
    "import tensorflow as tf\n",
    "from sklearn.model_selection import train_test_split\n",
    "from transformers import BertModel, BertTokenizer, TFBertForSequenceClassification, TFAutoModelForSequenceClassification\n",
    "from tensorflow.keras.optimizers import Adam\n",
    "import datasets"
   ]
  },
  {
   "cell_type": "code",
   "execution_count": null,
   "metadata": {
    "id": "_rEL7F4U4Zr0"
   },
   "outputs": [],
   "source": [
    "tf.config.run_functions_eagerly(True)\n",
    "tf.data.experimental.enable_debug_mode()"
   ]
  },
  {
   "cell_type": "code",
   "execution_count": 2,
   "metadata": {
    "execution": {
     "iopub.execute_input": "2024-01-17T16:35:58.932479Z",
     "iopub.status.busy": "2024-01-17T16:35:58.931855Z",
     "iopub.status.idle": "2024-01-17T16:35:58.936523Z",
     "shell.execute_reply": "2024-01-17T16:35:58.935785Z",
     "shell.execute_reply.started": "2024-01-17T16:35:58.932448Z"
    },
    "id": "LBpyBr8fNWkj",
    "tags": []
   },
   "outputs": [],
   "source": [
    "def preprocess_function(examples, tokenizer, max_length=128):\n",
    "    return tokenizer(examples[\"text\"],\n",
    "                     truncation=True,\n",
    "                     padding='max_length',\n",
    "                     max_length=max_length,\n",
    "                     return_tensors=\"np\")"
   ]
  },
  {
   "cell_type": "code",
   "execution_count": 3,
   "metadata": {
    "execution": {
     "iopub.execute_input": "2024-01-17T16:36:01.402618Z",
     "iopub.status.busy": "2024-01-17T16:36:01.402272Z",
     "iopub.status.idle": "2024-01-17T16:36:01.406645Z",
     "shell.execute_reply": "2024-01-17T16:36:01.405934Z",
     "shell.execute_reply.started": "2024-01-17T16:36:01.402594Z"
    },
    "id": "9BlFnT36OF10",
    "tags": []
   },
   "outputs": [],
   "source": [
    "def get_data(train_path, split=True):\n",
    "    train_df = pd.read_json(train_path, lines=True)\n",
    "    if split:\n",
    "       train_df, test_df = train_test_split(train_df, test_size=0.2, stratify=train_df['label'], random_state=42)\n",
    "       return train_df, test_df\n",
    "    else:\n",
    "        return train_df\n"
   ]
  },
  {
   "cell_type": "code",
   "execution_count": 7,
   "metadata": {
    "execution": {
     "iopub.execute_input": "2024-01-17T16:36:12.763648Z",
     "iopub.status.busy": "2024-01-17T16:36:12.763315Z",
     "iopub.status.idle": "2024-01-17T16:36:17.291188Z",
     "shell.execute_reply": "2024-01-17T16:36:17.290425Z",
     "shell.execute_reply.started": "2024-01-17T16:36:12.763627Z"
    },
    "id": "WwyPr0CgOXb7",
    "tags": []
   },
   "outputs": [],
   "source": [
    "train_df, val_df = get_data(file_path)"
   ]
  },
  {
   "cell_type": "code",
   "execution_count": 8,
   "metadata": {
    "execution": {
     "iopub.execute_input": "2024-01-17T16:36:17.293339Z",
     "iopub.status.busy": "2024-01-17T16:36:17.292594Z",
     "iopub.status.idle": "2024-01-17T16:36:17.391356Z",
     "shell.execute_reply": "2024-01-17T16:36:17.390781Z",
     "shell.execute_reply.started": "2024-01-17T16:36:17.293305Z"
    },
    "tags": []
   },
   "outputs": [],
   "source": [
    "test_df = get_data(test_path, False)"
   ]
  },
  {
   "cell_type": "code",
   "execution_count": 9,
   "metadata": {
    "colab": {
     "base_uri": "https://localhost:8080/"
    },
    "execution": {
     "iopub.execute_input": "2024-01-17T16:36:17.392918Z",
     "iopub.status.busy": "2024-01-17T16:36:17.392299Z",
     "iopub.status.idle": "2024-01-17T16:36:17.396854Z",
     "shell.execute_reply": "2024-01-17T16:36:17.396094Z",
     "shell.execute_reply.started": "2024-01-17T16:36:17.392886Z"
    },
    "id": "382nHFY-8dji",
    "outputId": "300a15bc-8392-4f33-abfa-a85d65463127",
    "tags": []
   },
   "outputs": [
    {
     "name": "stdout",
     "output_type": "stream",
     "text": [
      "(5000, 5)\n"
     ]
    }
   ],
   "source": [
    "print(test_df.shape)"
   ]
  },
  {
   "cell_type": "code",
   "execution_count": 10,
   "metadata": {
    "execution": {
     "iopub.execute_input": "2024-01-17T16:36:17.398439Z",
     "iopub.status.busy": "2024-01-17T16:36:17.398144Z",
     "iopub.status.idle": "2024-01-17T16:36:17.401724Z",
     "shell.execute_reply": "2024-01-17T16:36:17.401042Z",
     "shell.execute_reply.started": "2024-01-17T16:36:17.398420Z"
    },
    "id": "BYNzIUKVDOfz",
    "tags": []
   },
   "outputs": [],
   "source": [
    "labels = np.asarray(train_df['label'])"
   ]
  },
  {
   "cell_type": "code",
   "execution_count": 11,
   "metadata": {
    "execution": {
     "iopub.execute_input": "2024-01-17T16:36:17.403214Z",
     "iopub.status.busy": "2024-01-17T16:36:17.402753Z",
     "iopub.status.idle": "2024-01-17T16:36:17.406775Z",
     "shell.execute_reply": "2024-01-17T16:36:17.406112Z",
     "shell.execute_reply.started": "2024-01-17T16:36:17.403184Z"
    },
    "id": "ulxV6tO6Nzsv",
    "tags": []
   },
   "outputs": [],
   "source": [
    "id2label = {0: \"human\", 1: \"machine\"}\n",
    "label2id = {\"human\": 0, \"machine\": 1 }"
   ]
  },
  {
   "cell_type": "code",
   "execution_count": 12,
   "metadata": {
    "execution": {
     "iopub.execute_input": "2024-01-17T16:36:17.408396Z",
     "iopub.status.busy": "2024-01-17T16:36:17.407795Z",
     "iopub.status.idle": "2024-01-17T16:36:19.545819Z",
     "shell.execute_reply": "2024-01-17T16:36:19.545251Z",
     "shell.execute_reply.started": "2024-01-17T16:36:17.408366Z"
    },
    "id": "iw7sofQBQvg1",
    "tags": []
   },
   "outputs": [],
   "source": [
    " # pandas dataframe to huggingface Dataset\n",
    "train_dataset_ours = Dataset.from_pandas(train_df)\n",
    "test_dataset = Dataset.from_pandas(test_df)"
   ]
  },
  {
   "cell_type": "code",
   "execution_count": 13,
   "metadata": {
    "colab": {
     "base_uri": "https://localhost:8080/"
    },
    "execution": {
     "iopub.execute_input": "2024-01-17T16:36:19.547314Z",
     "iopub.status.busy": "2024-01-17T16:36:19.546711Z",
     "iopub.status.idle": "2024-01-17T16:36:19.550988Z",
     "shell.execute_reply": "2024-01-17T16:36:19.550394Z",
     "shell.execute_reply.started": "2024-01-17T16:36:19.547281Z"
    },
    "id": "bEwKrYYhk0f8",
    "outputId": "64b39e32-5b18-4b8b-e754-b07818421123",
    "tags": []
   },
   "outputs": [
    {
     "name": "stdout",
     "output_type": "stream",
     "text": [
      "Dataset({\n",
      "    features: ['text', 'label', 'model', 'source', 'id', '__index_level_0__'],\n",
      "    num_rows: 95805\n",
      "})\n"
     ]
    }
   ],
   "source": [
    "print(train_dataset_ours)"
   ]
  },
  {
   "cell_type": "code",
   "execution_count": 14,
   "metadata": {
    "execution": {
     "iopub.execute_input": "2024-01-17T16:36:19.552509Z",
     "iopub.status.busy": "2024-01-17T16:36:19.552241Z",
     "iopub.status.idle": "2024-01-17T16:36:19.555604Z",
     "shell.execute_reply": "2024-01-17T16:36:19.555016Z",
     "shell.execute_reply.started": "2024-01-17T16:36:19.552490Z"
    },
    "id": "8dn6izTVi4Nw",
    "tags": []
   },
   "outputs": [],
   "source": [
    "# convert to train_dataset_ours to <class 'datasets.dataset_dict.DatasetDict'>\n",
    "new_dataset = datasets.DatasetDict({'train': train_dataset_ours, 'test': test_dataset})"
   ]
  },
  {
   "cell_type": "code",
   "execution_count": 15,
   "metadata": {
    "colab": {
     "base_uri": "https://localhost:8080/"
    },
    "execution": {
     "iopub.execute_input": "2024-01-17T16:36:19.556620Z",
     "iopub.status.busy": "2024-01-17T16:36:19.556351Z",
     "iopub.status.idle": "2024-01-17T16:36:19.562238Z",
     "shell.execute_reply": "2024-01-17T16:36:19.561651Z",
     "shell.execute_reply.started": "2024-01-17T16:36:19.556601Z"
    },
    "id": "Vai_Quz9k5Je",
    "outputId": "b39674f0-2e15-42c8-f221-5ba94b01254e",
    "tags": []
   },
   "outputs": [
    {
     "name": "stdout",
     "output_type": "stream",
     "text": [
      "DatasetDict({\n",
      "    train: Dataset({\n",
      "        features: ['text', 'label', 'model', 'source', 'id', '__index_level_0__'],\n",
      "        num_rows: 95805\n",
      "    })\n",
      "    test: Dataset({\n",
      "        features: ['text', 'label', 'model', 'source', 'id'],\n",
      "        num_rows: 5000\n",
      "    })\n",
      "})\n"
     ]
    }
   ],
   "source": [
    "print(new_dataset)"
   ]
  },
  {
   "cell_type": "code",
   "execution_count": 29,
   "metadata": {
    "colab": {
     "base_uri": "https://localhost:8080/"
    },
    "execution": {
     "iopub.execute_input": "2024-01-17T11:51:05.767033Z",
     "iopub.status.busy": "2024-01-17T11:51:05.766692Z",
     "iopub.status.idle": "2024-01-17T11:51:05.774061Z",
     "shell.execute_reply": "2024-01-17T11:51:05.773453Z",
     "shell.execute_reply.started": "2024-01-17T11:51:05.767012Z"
    },
    "id": "qcBKFqo4obLK",
    "outputId": "07043f93-3c41-41a1-e358-1dad2ba467b7",
    "tags": []
   },
   "outputs": [
    {
     "data": {
      "text/plain": [
       "{'text': \"When it comes to the 'why' we want to drink milk or water when we consume something 'rich' like chocolate, there are a few reasons to consider. To begin, both milk and water serve important roles in the process of digestion.\\n\\nFirst off, milk provides important nutritional benefits to the body. It can be a source of Omega-3 fatty acids, calcium, and proteins which all help contribute to a healthy lifestyle. Milk is also an excellent source of hydration, and it aids in the proper digestion of chocolate by coating the stomach and aiding in the absorption of fat. Milk is also believed to play a role in the control of blood sugar, as it helps to slow the release of sugar into the bloodstream when consumed.\\n\\nWater is also an important part of digestion, most notably for its calming effect on the stomach and intestines. It helps to reduce bloating, cramping, and stomach pains, while simultaneously boosting the digestion of one's food. By drinking a glass of water before or after consuming something particularly 'rich' like chocolate, it can also help to reduce the feeling of heaviness associated with eating large amounts of food. \\n\\nWater also makes it easier for the body to absorb essential vitamins and minerals in the chocolate, while also helping to flush away toxins that might be released as part of the digestion process. Moreover, water helps to keep all the enzymes in the body, which are responsible for breaking down fats, proteins, and carbohydrates, to work in an optimal way. \\n\\nFinally, water and milk both help to neutralize the acidity level of something like chocolate. The acidity level of chocolate is high, and neutralizing it with milk or water can create a more moderate environment in the stomach, allowing for better digestion and less chance of stomach-related issues.\\n\\nOverall, drinking milk or water when one consumes something 'rich' like chocolate coincides with a number of digestive benefits. Not only does it provide nutritional benefits, but it also aids with digestion, nutrient absorption, and the neutralization of acidity levels.\",\n",
       " 'label': 1,\n",
       " 'model': 'davinci',\n",
       " 'source': 'reddit',\n",
       " 'id': 31765,\n",
       " '__index_level_0__': 31765}"
      ]
     },
     "execution_count": 29,
     "metadata": {},
     "output_type": "execute_result"
    }
   ],
   "source": [
    "new_dataset[\"train\"][0]"
   ]
  },
  {
   "cell_type": "code",
   "execution_count": 16,
   "metadata": {
    "colab": {
     "base_uri": "https://localhost:8080/"
    },
    "execution": {
     "iopub.execute_input": "2024-01-17T16:36:35.940439Z",
     "iopub.status.busy": "2024-01-17T16:36:35.940104Z",
     "iopub.status.idle": "2024-01-17T16:36:36.060681Z",
     "shell.execute_reply": "2024-01-17T16:36:36.060105Z",
     "shell.execute_reply.started": "2024-01-17T16:36:35.940418Z"
    },
    "id": "jJFbLKI-ovGZ",
    "outputId": "29e2a803-d4df-4967-d7f9-283cf2a7e0bc",
    "tags": []
   },
   "outputs": [],
   "source": [
    "tokenizer = AutoTokenizer.from_pretrained(\"bert-base-cased\")"
   ]
  },
  {
   "cell_type": "code",
   "execution_count": 17,
   "metadata": {
    "colab": {
     "base_uri": "https://localhost:8080/"
    },
    "execution": {
     "iopub.execute_input": "2024-01-17T16:36:36.743877Z",
     "iopub.status.busy": "2024-01-17T16:36:36.743544Z",
     "iopub.status.idle": "2024-01-17T16:36:36.751149Z",
     "shell.execute_reply": "2024-01-17T16:36:36.750534Z",
     "shell.execute_reply.started": "2024-01-17T16:36:36.743856Z"
    },
    "id": "qK4fRBdXo2cz",
    "outputId": "57cef923-6b7b-4d29-8fb7-a56ae8d5f1ba",
    "tags": []
   },
   "outputs": [
    {
     "data": {
      "text/plain": [
       "{'input_ids': [101, 8667, 117, 1142, 1110, 170, 5650, 106, 102, 1262, 1142, 5650, 2947, 1114, 1122, 119, 102], 'token_type_ids': [0, 0, 0, 0, 0, 0, 0, 0, 0, 1, 1, 1, 1, 1, 1, 1, 1], 'attention_mask': [1, 1, 1, 1, 1, 1, 1, 1, 1, 1, 1, 1, 1, 1, 1, 1, 1]}"
      ]
     },
     "execution_count": 17,
     "metadata": {},
     "output_type": "execute_result"
    }
   ],
   "source": [
    "tokenizer(\"Hello, this is a sentence!\", \"And this sentence goes with it.\")"
   ]
  },
  {
   "cell_type": "code",
   "execution_count": 18,
   "metadata": {
    "execution": {
     "iopub.execute_input": "2024-01-17T16:36:37.633609Z",
     "iopub.status.busy": "2024-01-17T16:36:37.632740Z",
     "iopub.status.idle": "2024-01-17T16:36:37.637316Z",
     "shell.execute_reply": "2024-01-17T16:36:37.636451Z",
     "shell.execute_reply.started": "2024-01-17T16:36:37.633574Z"
    },
    "id": "Z98WfsaTPTuO",
    "tags": []
   },
   "outputs": [],
   "source": [
    "def preprocess_function(examples):\n",
    "    # Keys of the returned dictionary will be added to the dataset as columns\n",
    "    return tokenizer(examples[\"text\"],truncation=True, padding='max_length', max_length=128)"
   ]
  },
  {
   "cell_type": "code",
   "execution_count": 19,
   "metadata": {
    "colab": {
     "base_uri": "https://localhost:8080/",
     "height": 99,
     "referenced_widgets": [
      "5aa7ee68b6c246ee9eaa1ae91ed68406",
      "425d6f38b79840409ad3a86f34a1171a",
      "5c5f41a6f03e4de39467afe2006c14a0",
      "5f9f207387ab41adbc233f5fd5ed91ac",
      "486e1d811dfc41f4ad59e6dcbb0ba6df",
      "165bf591b48541dcb7098f473f546623",
      "56cd8dd2304d49a2ba855967301a360d",
      "6a9edb3d76774d83aa1ba40b6f3b5f1e",
      "608ed30956af43bc86464e6e2e267823",
      "757c9a98414249af921ab9b6358798ff",
      "1b33baffd17640dfa0c4794af88ea65b",
      "ad1a62e5a2474f179b7844d331fba3e9",
      "37beb534b0b348e3aaca98f7803dc632",
      "bd3f100b6c124583a2c209eb227f87a2",
      "7e73bfcca5b04d23be8af05623312ddc",
      "da5c07a5ec194fd2a6fbccc8cf169992",
      "c0d04e1f25c24552b6f1f46d68635e5f",
      "8738a5737f7a4a30a48badd9a4f64445",
      "176821cdce684ac586e0d6d30148b104",
      "87d6d23220914b6b9c1321be55926994",
      "b0970490b1a6448e98e5e5e2d349c310",
      "1e96a3959a824b7994b7a856fbff4f51"
     ]
    },
    "execution": {
     "iopub.execute_input": "2024-01-17T16:36:38.683157Z",
     "iopub.status.busy": "2024-01-17T16:36:38.682833Z",
     "iopub.status.idle": "2024-01-17T16:37:56.798927Z",
     "shell.execute_reply": "2024-01-17T16:37:56.798274Z",
     "shell.execute_reply.started": "2024-01-17T16:36:38.683138Z"
    },
    "id": "h-uUEf9kqN8d",
    "outputId": "d2a2d907-09c7-458e-98e3-79b9c7c13007",
    "tags": []
   },
   "outputs": [
    {
     "data": {
      "application/vnd.jupyter.widget-view+json": {
       "model_id": "d0d5646739054401ae212f17e6493f8d",
       "version_major": 2,
       "version_minor": 0
      },
      "text/plain": [
       "Map:   0%|          | 0/95805 [00:00<?, ? examples/s]"
      ]
     },
     "metadata": {},
     "output_type": "display_data"
    },
    {
     "data": {
      "application/vnd.jupyter.widget-view+json": {
       "model_id": "dc4aac131c2d4144b9786eeda28e69e2",
       "version_major": 2,
       "version_minor": 0
      },
      "text/plain": [
       "Map:   0%|          | 0/5000 [00:00<?, ? examples/s]"
      ]
     },
     "metadata": {},
     "output_type": "display_data"
    }
   ],
   "source": [
    "encoded_dataset = new_dataset.map(preprocess_function, batched=True)"
   ]
  },
  {
   "cell_type": "code",
   "execution_count": 20,
   "metadata": {
    "colab": {
     "base_uri": "https://localhost:8080/"
    },
    "execution": {
     "iopub.execute_input": "2024-01-17T16:37:56.800292Z",
     "iopub.status.busy": "2024-01-17T16:37:56.800085Z",
     "iopub.status.idle": "2024-01-17T16:37:56.805159Z",
     "shell.execute_reply": "2024-01-17T16:37:56.804474Z",
     "shell.execute_reply.started": "2024-01-17T16:37:56.800275Z"
    },
    "id": "sWrYUs2pqTe2",
    "outputId": "2d2f8956-3a17-498e-a273-543b199e336b",
    "tags": []
   },
   "outputs": [
    {
     "data": {
      "text/plain": [
       "Value(dtype='int64', id=None)"
      ]
     },
     "execution_count": 20,
     "metadata": {},
     "output_type": "execute_result"
    }
   ],
   "source": [
    "encoded_dataset[\"train\"].features[\"label\"]"
   ]
  },
  {
   "cell_type": "code",
   "execution_count": 21,
   "metadata": {
    "colab": {
     "base_uri": "https://localhost:8080/"
    },
    "execution": {
     "iopub.execute_input": "2024-01-17T16:37:56.806580Z",
     "iopub.status.busy": "2024-01-17T16:37:56.806067Z",
     "iopub.status.idle": "2024-01-17T16:38:05.126764Z",
     "shell.execute_reply": "2024-01-17T16:38:05.126237Z",
     "shell.execute_reply.started": "2024-01-17T16:37:56.806551Z"
    },
    "id": "waQGrxL0Pw6T",
    "outputId": "083c2856-7600-4d3a-cb91-a10567913e60",
    "tags": []
   },
   "outputs": [
    {
     "name": "stderr",
     "output_type": "stream",
     "text": [
      "2024-01-17 16:37:56.967644: I external/local_xla/xla/stream_executor/cuda/cuda_executor.cc:901] successful NUMA node read from SysFS had negative value (-1), but there must be at least one NUMA node, so returning NUMA node zero. See more at https://github.com/torvalds/linux/blob/v6.0/Documentation/ABI/testing/sysfs-bus-pci#L344-L355\n",
      "2024-01-17 16:37:57.199914: I external/local_xla/xla/stream_executor/cuda/cuda_executor.cc:901] successful NUMA node read from SysFS had negative value (-1), but there must be at least one NUMA node, so returning NUMA node zero. See more at https://github.com/torvalds/linux/blob/v6.0/Documentation/ABI/testing/sysfs-bus-pci#L344-L355\n",
      "2024-01-17 16:37:57.200202: I external/local_xla/xla/stream_executor/cuda/cuda_executor.cc:901] successful NUMA node read from SysFS had negative value (-1), but there must be at least one NUMA node, so returning NUMA node zero. See more at https://github.com/torvalds/linux/blob/v6.0/Documentation/ABI/testing/sysfs-bus-pci#L344-L355\n",
      "2024-01-17 16:37:57.201006: I external/local_xla/xla/stream_executor/cuda/cuda_executor.cc:901] successful NUMA node read from SysFS had negative value (-1), but there must be at least one NUMA node, so returning NUMA node zero. See more at https://github.com/torvalds/linux/blob/v6.0/Documentation/ABI/testing/sysfs-bus-pci#L344-L355\n",
      "2024-01-17 16:37:57.201268: I external/local_xla/xla/stream_executor/cuda/cuda_executor.cc:901] successful NUMA node read from SysFS had negative value (-1), but there must be at least one NUMA node, so returning NUMA node zero. See more at https://github.com/torvalds/linux/blob/v6.0/Documentation/ABI/testing/sysfs-bus-pci#L344-L355\n",
      "2024-01-17 16:37:57.201457: I external/local_xla/xla/stream_executor/cuda/cuda_executor.cc:901] successful NUMA node read from SysFS had negative value (-1), but there must be at least one NUMA node, so returning NUMA node zero. See more at https://github.com/torvalds/linux/blob/v6.0/Documentation/ABI/testing/sysfs-bus-pci#L344-L355\n",
      "2024-01-17 16:37:58.567395: I external/local_xla/xla/stream_executor/cuda/cuda_executor.cc:901] successful NUMA node read from SysFS had negative value (-1), but there must be at least one NUMA node, so returning NUMA node zero. See more at https://github.com/torvalds/linux/blob/v6.0/Documentation/ABI/testing/sysfs-bus-pci#L344-L355\n",
      "2024-01-17 16:37:58.567674: I external/local_xla/xla/stream_executor/cuda/cuda_executor.cc:901] successful NUMA node read from SysFS had negative value (-1), but there must be at least one NUMA node, so returning NUMA node zero. See more at https://github.com/torvalds/linux/blob/v6.0/Documentation/ABI/testing/sysfs-bus-pci#L344-L355\n",
      "2024-01-17 16:37:58.567872: I external/local_xla/xla/stream_executor/cuda/cuda_executor.cc:901] successful NUMA node read from SysFS had negative value (-1), but there must be at least one NUMA node, so returning NUMA node zero. See more at https://github.com/torvalds/linux/blob/v6.0/Documentation/ABI/testing/sysfs-bus-pci#L344-L355\n",
      "2024-01-17 16:37:58.568013: I tensorflow/core/common_runtime/gpu/gpu_device.cc:1929] Created device /job:localhost/replica:0/task:0/device:GPU:0 with 13772 MB memory:  -> device: 0, name: Tesla T4, pci bus id: 0000:00:1e.0, compute capability: 7.5\n",
      "2024-01-17 16:37:59.092871: I external/local_tsl/tsl/platform/default/subprocess.cc:304] Start cannot spawn child process: No such file or directory\n",
      "All PyTorch model weights were used when initializing TFBertForSequenceClassification.\n",
      "\n",
      "Some weights or buffers of the TF 2.0 model TFBertForSequenceClassification were not initialized from the PyTorch model and are newly initialized: ['classifier.weight', 'classifier.bias']\n",
      "You should probably TRAIN this model on a down-stream task to be able to use it for predictions and inference.\n"
     ]
    }
   ],
   "source": [
    "model = TFAutoModelForSequenceClassification.from_pretrained(\"bert-base-cased\", num_labels=len(label2id), id2label=id2label, label2id=label2id)"
   ]
  },
  {
   "cell_type": "code",
   "execution_count": 22,
   "metadata": {
    "colab": {
     "base_uri": "https://localhost:8080/"
    },
    "execution": {
     "iopub.execute_input": "2024-01-17T16:38:05.128405Z",
     "iopub.status.busy": "2024-01-17T16:38:05.128128Z",
     "iopub.status.idle": "2024-01-17T16:38:05.367592Z",
     "shell.execute_reply": "2024-01-17T16:38:05.367041Z",
     "shell.execute_reply.started": "2024-01-17T16:38:05.128386Z"
    },
    "id": "opiJ9EoXkIGR",
    "outputId": "746d3485-61db-4b53-d5e0-0a18de89648a",
    "tags": []
   },
   "outputs": [
    {
     "name": "stderr",
     "output_type": "stream",
     "text": [
      "You're using a BertTokenizerFast tokenizer. Please note that with a fast tokenizer, using the `__call__` method is faster than using a method to encode the text followed by a call to the `pad` method to get a padded encoding.\n"
     ]
    }
   ],
   "source": [
    "tf_train_dataset = model.prepare_tf_dataset(encoded_dataset[\"train\"],\n",
    "                                      batch_size=16,\n",
    "                                      shuffle=True,\n",
    "                                      tokenizer=tokenizer)"
   ]
  },
  {
   "cell_type": "code",
   "execution_count": 23,
   "metadata": {
    "execution": {
     "iopub.execute_input": "2024-01-17T16:38:05.368633Z",
     "iopub.status.busy": "2024-01-17T16:38:05.368439Z",
     "iopub.status.idle": "2024-01-17T16:38:05.422502Z",
     "shell.execute_reply": "2024-01-17T16:38:05.421917Z",
     "shell.execute_reply.started": "2024-01-17T16:38:05.368615Z"
    },
    "id": "Tl800IwDujRX",
    "tags": []
   },
   "outputs": [],
   "source": [
    "tf_test_dataset = model.prepare_tf_dataset(encoded_dataset[\"test\"],\n",
    "                                          batch_size=16,\n",
    "                                          shuffle=False,\n",
    "                                           tokenizer=tokenizer)"
   ]
  },
  {
   "cell_type": "code",
   "execution_count": 24,
   "metadata": {
    "execution": {
     "iopub.execute_input": "2024-01-17T16:38:05.423492Z",
     "iopub.status.busy": "2024-01-17T16:38:05.423248Z",
     "iopub.status.idle": "2024-01-17T16:38:05.438146Z",
     "shell.execute_reply": "2024-01-17T16:38:05.437542Z",
     "shell.execute_reply.started": "2024-01-17T16:38:05.423475Z"
    },
    "id": "jOH8MksPBn1L",
    "tags": []
   },
   "outputs": [],
   "source": [
    "model.compile(optimizer=Adam(3e-5), metrics=['acc'])  # No loss argument!"
   ]
  },
  {
   "cell_type": "code",
   "execution_count": 25,
   "metadata": {
    "colab": {
     "base_uri": "https://localhost:8080/",
     "height": 351
    },
    "execution": {
     "iopub.execute_input": "2024-01-17T16:38:05.439616Z",
     "iopub.status.busy": "2024-01-17T16:38:05.439040Z",
     "iopub.status.idle": "2024-01-17T17:53:14.066355Z",
     "shell.execute_reply": "2024-01-17T17:53:14.065620Z",
     "shell.execute_reply.started": "2024-01-17T16:38:05.439586Z"
    },
    "id": "vQcid8xoqu8-",
    "outputId": "049eba0f-7527-409c-8fd8-1a3177e24572",
    "tags": []
   },
   "outputs": [
    {
     "name": "stdout",
     "output_type": "stream",
     "text": [
      "Epoch 1/2\n"
     ]
    },
    {
     "name": "stderr",
     "output_type": "stream",
     "text": [
      "2024-01-17 16:38:28.369892: I external/local_xla/xla/service/service.cc:168] XLA service 0x7f272033cb50 initialized for platform CUDA (this does not guarantee that XLA will be used). Devices:\n",
      "2024-01-17 16:38:28.369925: I external/local_xla/xla/service/service.cc:176]   StreamExecutor device (0): Tesla T4, Compute Capability 7.5\n",
      "2024-01-17 16:38:28.376167: I tensorflow/compiler/mlir/tensorflow/utils/dump_mlir_util.cc:269] disabling MLIR crash reproducer, set env var `MLIR_CRASH_REPRODUCER_DIRECTORY` to enable.\n",
      "2024-01-17 16:38:28.851151: I external/local_xla/xla/stream_executor/cuda/cuda_dnn.cc:454] Loaded cuDNN version 8904\n",
      "WARNING: All log messages before absl::InitializeLog() is called are written to STDERR\n",
      "I0000 00:00:1705509508.952330    3273 device_compiler.h:186] Compiled cluster using XLA!  This line is logged at most once for the lifetime of the process.\n"
     ]
    },
    {
     "name": "stdout",
     "output_type": "stream",
     "text": [
      "5987/5987 [==============================] - 2267s 372ms/step - loss: 0.2142 - acc: 0.9094\n",
      "Epoch 2/2\n",
      "5987/5987 [==============================] - 2232s 373ms/step - loss: 0.1056 - acc: 0.9593\n"
     ]
    },
    {
     "data": {
      "text/plain": [
       "<keras.src.callbacks.History at 0x7f27d9b2ae10>"
      ]
     },
     "execution_count": 25,
     "metadata": {},
     "output_type": "execute_result"
    }
   ],
   "source": [
    "model.fit(tf_train_dataset, epochs=2)"
   ]
  },
  {
   "cell_type": "code",
   "execution_count": 26,
   "metadata": {
    "execution": {
     "iopub.execute_input": "2024-01-17T17:53:14.067802Z",
     "iopub.status.busy": "2024-01-17T17:53:14.067266Z",
     "iopub.status.idle": "2024-01-17T17:53:57.845257Z",
     "shell.execute_reply": "2024-01-17T17:53:57.844384Z",
     "shell.execute_reply.started": "2024-01-17T17:53:14.067781Z"
    },
    "tags": []
   },
   "outputs": [
    {
     "name": "stdout",
     "output_type": "stream",
     "text": [
      "313/313 [==============================] - 43s 127ms/step - loss: 0.9728 - acc: 0.7172\n"
     ]
    },
    {
     "data": {
      "text/plain": [
       "[0.9728445410728455, 0.717199981212616]"
      ]
     },
     "execution_count": 26,
     "metadata": {},
     "output_type": "execute_result"
    }
   ],
   "source": [
    "model.evaluate(tf_test_dataset)"
   ]
  },
  {
   "cell_type": "code",
   "execution_count": 27,
   "metadata": {
    "execution": {
     "iopub.execute_input": "2024-01-17T17:53:57.846622Z",
     "iopub.status.busy": "2024-01-17T17:53:57.846277Z",
     "iopub.status.idle": "2024-01-17T17:54:00.340139Z",
     "shell.execute_reply": "2024-01-17T17:54:00.339461Z",
     "shell.execute_reply.started": "2024-01-17T17:53:57.846593Z"
    },
    "tags": []
   },
   "outputs": [],
   "source": [
    "# The recommended way to save a subclassed model is to use save_weights to create a TensorFlow SavedModel checkpoint\n",
    "model.save_weights('fine_tuned_bert', save_format='tf')"
   ]
  },
  {
   "cell_type": "markdown",
   "metadata": {
    "id": "Gam5yh47uNpi"
   },
   "source": [
    "### 2 directions: -> Change in BERT model or Change in Tokenizer model."
   ]
  },
  {
   "cell_type": "code",
   "execution_count": null,
   "metadata": {
    "id": "rziCpnayuYuq"
   },
   "outputs": [],
   "source": [
    "https://stackoverflow.com/questions/64156202/add-dense-layer-on-top-of-huggingface-bert-model"
   ]
  },
  {
   "cell_type": "code",
   "execution_count": null,
   "metadata": {
    "id": "UH2BZla3Jw-t"
   },
   "outputs": [],
   "source": [
    "from tensorflow import keras\n",
    "from transformers import AutoTokenizer, TFAutoModel\n",
    "class CustomBERTModel(keras.Model):\n",
    "    def __init__(self):\n",
    "          super(CustomBERTModel, self).__init__()\n",
    "          self.bert = TFAutoModel.from_pretrained(\"bert-base-uncased\")\n",
    "          ### New layers:\n",
    "          self.linear1 = keras.layers.Dense(256)\n",
    "          self.linear2 = keras.layers.Dense(2) ## 2 is the number of classes in this example\n",
    "\n",
    "    def call(self, inputs, training=False):\n",
    "          # call expects only one positional argument, so you have to pass in a tuple and unpack. The next parameter is a special reserved training parameter.\n",
    "          ids, mask = inputs\n",
    "          sequence_output = self.bert(ids, mask, training=training).last_hidden_state\n",
    "\n",
    "          # sequence_output has the following shape: (batch_size, sequence_length, 768)\n",
    "          linear1_output = self.linear1(sequence_output[:,0,:]) ## extract the 1st token's embeddings\n",
    "\n",
    "          linear2_output = self.linear2(linear1_output)\n",
    "\n",
    "          return linear2_output\n"
   ]
  },
  {
   "cell_type": "code",
   "execution_count": null,
   "metadata": {
    "colab": {
     "base_uri": "https://localhost:8080/"
    },
    "id": "kLIt2iVgucJI",
    "outputId": "ed5331ba-efea-40b4-f558-c81f50adefcd"
   },
   "outputs": [],
   "source": [
    "model = CustomBERTModel()"
   ]
  },
  {
   "cell_type": "code",
   "execution_count": null,
   "metadata": {
    "id": "rre6Cvsn1j-n"
   },
   "outputs": [],
   "source": [
    "train_acc_metric.reset_states()\n",
    "val_acc_metric.reset_states()"
   ]
  },
  {
   "cell_type": "code",
   "execution_count": null,
   "metadata": {
    "id": "X00n69v94LX3"
   },
   "outputs": [],
   "source": [
    "def train_step(model, tf_train_dataset, tf_test_dataset, epochs=2):\n",
    "  # train the model by using GradientTape\n",
    "  optimizer = keras.optimizers.Adam(learning_rate=5e-5)\n",
    "  loss_fn = SparseCategoricalCrossentropy(from_logits=True)\n",
    "  train_acc_metric = tf.keras.metrics.SparseCategoricalAccuracy()\n",
    "  val_acc_metric = tf.keras.metrics.SparseCategoricalAccuracy()\n",
    "  for epoch in range(epochs):\n",
    "      print(f\"\\nStart of Training Epoch {epoch}\")\n",
    "      for step, batch in enumerate(tf_train_dataset):\n",
    "          # print(step)\n",
    "          # print(batch)\n",
    "          ids = batch[0]['input_ids']\n",
    "          mask = batch[0]['attention_mask']\n",
    "          y = batch[1]\n",
    "          with tf.GradientTape() as tape:\n",
    "              logits = model((ids, mask), training=True)\n",
    "              loss_value = loss_fn(y, logits)\n",
    "              # print(f\"Loss at step {step}: {loss_value}\")\n",
    "          grads = tape.gradient(loss_value, model.trainable_weights)\n",
    "          # Filter trainable weights that have gradients\n",
    "          trainable_vars = [var for var, grad in zip(model.trainable_weights, grads) if grad is not None]\n",
    "\n",
    "          # optimizer.apply_gradients(zip(grads, model.trainable_weights))\n",
    "          optimizer.apply_gradients(\n",
    "                        (grad, var)\n",
    "                        for (grad, var) in zip(grads, model.trainable_variables)\n",
    "                        if grad is not None\n",
    "                      )\n",
    "          # Update training metric.\n",
    "          train_acc_metric(y, logits)\n",
    "\n",
    "          # Log every 200 batches.\n",
    "          if step % 10 == 0:\n",
    "              print(\n",
    "                  \"Training loss at step %d: %.4f\"\n",
    "                  % (step, float(loss_value))\n",
    "              )\n",
    "              #print accuracy on the training set\n",
    "              train_acc = train_acc_metric.result()\n",
    "              print(\"Training acc over epoch: %.4f\" % (float(train_acc),))\n",
    "          # Display metrics at the end of each epoch.\n",
    "\n",
    "      train_acc_metric.reset_states()\n",
    "      # perform validation on test data\n",
    "      for step, batch in enumerate(tf_test_dataset):\n",
    "          ids = batch[0]['input_ids']\n",
    "          mask = batch[0]['attention_mask']\n",
    "          y = batch[1]\n",
    "          logits = model([ids, mask], training=False)\n",
    "          # Update val metrics\n",
    "          val_acc_metric(y, logits)\n",
    "      val_acc = val_acc_metric.result()\n",
    "      # print accuracy on the test set\n",
    "      print(\"Test acc: %.4f\" % (float(val_acc),))\n",
    "      # Reset val metrics at the end of each epoch\n",
    "      val_acc_metric.reset_states()\n",
    "\n",
    "  model.save_weights('my_model', save_format='tf')"
   ]
  },
  {
   "cell_type": "code",
   "execution_count": null,
   "metadata": {
    "colab": {
     "base_uri": "https://localhost:8080/",
     "height": 498
    },
    "id": "n7wOAp1_H3c-",
    "outputId": "d6ccf334-06ba-48c0-db88-b2223db08a40"
   },
   "outputs": [],
   "source": [
    "train_step(new_model, tf_train_dataset, tf_test_dataset, epochs=2)"
   ]
  },
  {
   "cell_type": "code",
   "execution_count": null,
   "metadata": {
    "id": "uPoj22q16vAp"
   },
   "outputs": [],
   "source": [
    "# The recommended way to save a subclassed model is to use save_weights to create a TensorFlow SavedModel checkpoint\n",
    "model.save_weights('my_model', save_format='tf')"
   ]
  },
  {
   "cell_type": "code",
   "execution_count": null,
   "metadata": {
    "colab": {
     "base_uri": "https://localhost:8080/"
    },
    "id": "VInM77mL64uC",
    "outputId": "72ebccca-2041-46c1-de9f-c9e8d9ffa54e"
   },
   "outputs": [],
   "source": [
    "# restore the loaded model\n",
    "new_model = CustomBERTModel()\n"
   ]
  },
  {
   "cell_type": "code",
   "execution_count": null,
   "metadata": {
    "id": "8zvd2LJtA89B"
   },
   "outputs": [],
   "source": [
    "new_model.compile(optimizer=optimizer, loss=loss_fn, metrics=[train_acc_metric])\n",
    "# call the model on part of the training set to build the model"
   ]
  },
  {
   "cell_type": "code",
   "execution_count": null,
   "metadata": {
    "id": "nMUUHMggA-06"
   },
   "outputs": [],
   "source": [
    "# Extract a batch from the training dataset\n",
    "batch = next(iter(tf_train_dataset))\n",
    "# Separate input data and target data from the batch\n",
    "ids = batch[0]['input_ids']\n",
    "mask = batch[0]['attention_mask']\n",
    "y = batch[1]"
   ]
  },
  {
   "cell_type": "code",
   "execution_count": null,
   "metadata": {
    "colab": {
     "base_uri": "https://localhost:8080/",
     "height": 919
    },
    "id": "uw0hVZ5NG0nw",
    "outputId": "6af284ed-4186-43fe-b6ee-f8d1eba3ace8"
   },
   "outputs": [],
   "source": [
    "# call the model on the extracted batch\n",
    "loss_value = new_model.train_on_batch((ids, mask), y)\n",
    "print(f\"Loss: {loss_value}\")"
   ]
  },
  {
   "cell_type": "code",
   "execution_count": null,
   "metadata": {
    "colab": {
     "base_uri": "https://localhost:8080/"
    },
    "id": "E-cybr5hBRsC",
    "outputId": "916c9784-5089-4167-91a1-e8a8670290e0"
   },
   "outputs": [],
   "source": [
    "new_model.load_weights('my_model')"
   ]
  },
  {
   "cell_type": "code",
   "execution_count": null,
   "metadata": {
    "colab": {
     "base_uri": "https://localhost:8080/"
    },
    "id": "3LG3X6ThBjTw",
    "outputId": "fd9a4da7-2518-4241-811a-c4cf566ff34d"
   },
   "outputs": [],
   "source": [
    "val_acc_metric.reset_state()\n",
    "for step, batch in enumerate(tf_test_dataset):\n",
    "        ids = batch[0]['input_ids']\n",
    "        mask = batch[0]['attention_mask']\n",
    "        y = batch[1]\n",
    "        logits = new_model([ids, mask], training=False)\n",
    "        # Update val metrics\n",
    "        val_acc_metric(y, logits)\n",
    "val_acc = val_acc_metric.result()\n",
    "# print accuracy on the test set\n",
    "print(\"test acc: %.4f\" % (float(val_acc),))"
   ]
  },
  {
   "cell_type": "code",
   "execution_count": null,
   "metadata": {
    "id": "7Gjc7inr7zV6"
   },
   "outputs": [],
   "source": [
    "# Check that the model state has been preserved\n",
    "new_predictions = new_model.predict(tf_test_dataset)\n",
    "np.testing.assert_allclose(predictions, new_predictions, atol=1e-6)\n"
   ]
  },
  {
   "cell_type": "code",
   "execution_count": null,
   "metadata": {
    "id": "uzuBNtSE5Y0s"
   },
   "outputs": [],
   "source": [
    "# save the custom model to file (not suported for custom class)\n",
    "model.save('path_to_my_model',save_format='tf')"
   ]
  },
  {
   "cell_type": "code",
   "execution_count": null,
   "metadata": {
    "id": "To-4J0i85nW7"
   },
   "outputs": [],
   "source": [
    "# load the model\n",
    "new_model = keras.models.load_model('path_to_my_model')"
   ]
  }
 ],
 "metadata": {
  "colab": {
   "provenance": []
  },
  "kernelspec": {
   "display_name": "saturn (Python 3)",
   "language": "python",
   "name": "python3"
  },
  "language_info": {
   "codemirror_mode": {
    "name": "ipython",
    "version": 3
   },
   "file_extension": ".py",
   "mimetype": "text/x-python",
   "name": "python",
   "nbconvert_exporter": "python",
   "pygments_lexer": "ipython3",
   "version": "3.11.6"
  },
  "widgets": {
   "application/vnd.jupyter.widget-state+json": {
    "0016e8aab0f64388a649f6ad02314c33": {
     "model_module": "@jupyter-widgets/controls",
     "model_module_version": "1.5.0",
     "model_name": "ProgressStyleModel",
     "state": {
      "_model_module": "@jupyter-widgets/controls",
      "_model_module_version": "1.5.0",
      "_model_name": "ProgressStyleModel",
      "_view_count": null,
      "_view_module": "@jupyter-widgets/base",
      "_view_module_version": "1.2.0",
      "_view_name": "StyleView",
      "bar_color": null,
      "description_width": ""
     }
    },
    "0521838301b74ff3ad1cda74717339a1": {
     "model_module": "@jupyter-widgets/controls",
     "model_module_version": "1.5.0",
     "model_name": "HTMLModel",
     "state": {
      "_dom_classes": [],
      "_model_module": "@jupyter-widgets/controls",
      "_model_module_version": "1.5.0",
      "_model_name": "HTMLModel",
      "_view_count": null,
      "_view_module": "@jupyter-widgets/controls",
      "_view_module_version": "1.5.0",
      "_view_name": "HTMLView",
      "description": "",
      "description_tooltip": null,
      "layout": "IPY_MODEL_cede916c97f24088a029e623d5e3a099",
      "placeholder": "​",
      "style": "IPY_MODEL_663e431c0c9c46bb828a71fc3f832d55",
      "value": " 1.36M/1.36M [00:00&lt;00:00, 20.7MB/s]"
     }
    },
    "055c940c039d4ced849195bd4ae2aad0": {
     "model_module": "@jupyter-widgets/controls",
     "model_module_version": "1.5.0",
     "model_name": "HTMLModel",
     "state": {
      "_dom_classes": [],
      "_model_module": "@jupyter-widgets/controls",
      "_model_module_version": "1.5.0",
      "_model_name": "HTMLModel",
      "_view_count": null,
      "_view_module": "@jupyter-widgets/controls",
      "_view_module_version": "1.5.0",
      "_view_name": "HTMLView",
      "description": "",
      "description_tooltip": null,
      "layout": "IPY_MODEL_c1262054fd3e45f38637ca0538b61491",
      "placeholder": "​",
      "style": "IPY_MODEL_7ef053264991482fb45217d9dcb3fe1d",
      "value": "vocab.json: 100%"
     }
    },
    "05eac7711ede44d0a2053feb46f91950": {
     "model_module": "@jupyter-widgets/base",
     "model_module_version": "1.2.0",
     "model_name": "LayoutModel",
     "state": {
      "_model_module": "@jupyter-widgets/base",
      "_model_module_version": "1.2.0",
      "_model_name": "LayoutModel",
      "_view_count": null,
      "_view_module": "@jupyter-widgets/base",
      "_view_module_version": "1.2.0",
      "_view_name": "LayoutView",
      "align_content": null,
      "align_items": null,
      "align_self": null,
      "border": null,
      "bottom": null,
      "display": null,
      "flex": null,
      "flex_flow": null,
      "grid_area": null,
      "grid_auto_columns": null,
      "grid_auto_flow": null,
      "grid_auto_rows": null,
      "grid_column": null,
      "grid_gap": null,
      "grid_row": null,
      "grid_template_areas": null,
      "grid_template_columns": null,
      "grid_template_rows": null,
      "height": null,
      "justify_content": null,
      "justify_items": null,
      "left": null,
      "margin": null,
      "max_height": null,
      "max_width": null,
      "min_height": null,
      "min_width": null,
      "object_fit": null,
      "object_position": null,
      "order": null,
      "overflow": null,
      "overflow_x": null,
      "overflow_y": null,
      "padding": null,
      "right": null,
      "top": null,
      "visibility": null,
      "width": null
     }
    },
    "0934d1a6fb3e4f44b44c5785426699f5": {
     "model_module": "@jupyter-widgets/controls",
     "model_module_version": "1.5.0",
     "model_name": "ProgressStyleModel",
     "state": {
      "_model_module": "@jupyter-widgets/controls",
      "_model_module_version": "1.5.0",
      "_model_name": "ProgressStyleModel",
      "_view_count": null,
      "_view_module": "@jupyter-widgets/base",
      "_view_module_version": "1.2.0",
      "_view_name": "StyleView",
      "bar_color": null,
      "description_width": ""
     }
    },
    "0b32dd6ccd494bb993ca00d3ff34f8bb": {
     "model_module": "@jupyter-widgets/controls",
     "model_module_version": "1.5.0",
     "model_name": "ProgressStyleModel",
     "state": {
      "_model_module": "@jupyter-widgets/controls",
      "_model_module_version": "1.5.0",
      "_model_name": "ProgressStyleModel",
      "_view_count": null,
      "_view_module": "@jupyter-widgets/base",
      "_view_module_version": "1.2.0",
      "_view_name": "StyleView",
      "bar_color": null,
      "description_width": ""
     }
    },
    "0dfe7239ab244130b82f8521e3ee41a9": {
     "model_module": "@jupyter-widgets/controls",
     "model_module_version": "1.5.0",
     "model_name": "FloatProgressModel",
     "state": {
      "_dom_classes": [],
      "_model_module": "@jupyter-widgets/controls",
      "_model_module_version": "1.5.0",
      "_model_name": "FloatProgressModel",
      "_view_count": null,
      "_view_module": "@jupyter-widgets/controls",
      "_view_module_version": "1.5.0",
      "_view_name": "ProgressView",
      "bar_style": "success",
      "description": "",
      "description_tooltip": null,
      "layout": "IPY_MODEL_d85c0e822efe45648b0e2435f8a4f79a",
      "max": 898822,
      "min": 0,
      "orientation": "horizontal",
      "style": "IPY_MODEL_138a1d1c7dd24869a3633388e985d7b1",
      "value": 898822
     }
    },
    "117f1db9cd0d432d8a12abc9a95652c9": {
     "model_module": "@jupyter-widgets/base",
     "model_module_version": "1.2.0",
     "model_name": "LayoutModel",
     "state": {
      "_model_module": "@jupyter-widgets/base",
      "_model_module_version": "1.2.0",
      "_model_name": "LayoutModel",
      "_view_count": null,
      "_view_module": "@jupyter-widgets/base",
      "_view_module_version": "1.2.0",
      "_view_name": "LayoutView",
      "align_content": null,
      "align_items": null,
      "align_self": null,
      "border": null,
      "bottom": null,
      "display": null,
      "flex": null,
      "flex_flow": null,
      "grid_area": null,
      "grid_auto_columns": null,
      "grid_auto_flow": null,
      "grid_auto_rows": null,
      "grid_column": null,
      "grid_gap": null,
      "grid_row": null,
      "grid_template_areas": null,
      "grid_template_columns": null,
      "grid_template_rows": null,
      "height": null,
      "justify_content": null,
      "justify_items": null,
      "left": null,
      "margin": null,
      "max_height": null,
      "max_width": null,
      "min_height": null,
      "min_width": null,
      "object_fit": null,
      "object_position": null,
      "order": null,
      "overflow": null,
      "overflow_x": null,
      "overflow_y": null,
      "padding": null,
      "right": null,
      "top": null,
      "visibility": null,
      "width": null
     }
    },
    "1224445f508247d7ab69f7035cf35a04": {
     "model_module": "@jupyter-widgets/controls",
     "model_module_version": "1.5.0",
     "model_name": "HBoxModel",
     "state": {
      "_dom_classes": [],
      "_model_module": "@jupyter-widgets/controls",
      "_model_module_version": "1.5.0",
      "_model_name": "HBoxModel",
      "_view_count": null,
      "_view_module": "@jupyter-widgets/controls",
      "_view_module_version": "1.5.0",
      "_view_name": "HBoxView",
      "box_style": "",
      "children": [
       "IPY_MODEL_36912b8305c4489a9144ef93ccde4a61",
       "IPY_MODEL_f7e59b99758b418198b9f821a561148b",
       "IPY_MODEL_c12f0ec2d3bc48cfbbc19a540a1a0f43"
      ],
      "layout": "IPY_MODEL_117f1db9cd0d432d8a12abc9a95652c9"
     }
    },
    "1263f81ada424f34be74c7609aed97d9": {
     "model_module": "@jupyter-widgets/controls",
     "model_module_version": "1.5.0",
     "model_name": "FloatProgressModel",
     "state": {
      "_dom_classes": [],
      "_model_module": "@jupyter-widgets/controls",
      "_model_module_version": "1.5.0",
      "_model_name": "FloatProgressModel",
      "_view_count": null,
      "_view_module": "@jupyter-widgets/controls",
      "_view_module_version": "1.5.0",
      "_view_name": "ProgressView",
      "bar_style": "success",
      "description": "",
      "description_tooltip": null,
      "layout": "IPY_MODEL_eec9d71dc1164034a0b6f52b02d4e167",
      "max": 1355863,
      "min": 0,
      "orientation": "horizontal",
      "style": "IPY_MODEL_c3efea31956a4c5f85104d40ddae4c58",
      "value": 1355863
     }
    },
    "138a1d1c7dd24869a3633388e985d7b1": {
     "model_module": "@jupyter-widgets/controls",
     "model_module_version": "1.5.0",
     "model_name": "ProgressStyleModel",
     "state": {
      "_model_module": "@jupyter-widgets/controls",
      "_model_module_version": "1.5.0",
      "_model_name": "ProgressStyleModel",
      "_view_count": null,
      "_view_module": "@jupyter-widgets/base",
      "_view_module_version": "1.2.0",
      "_view_name": "StyleView",
      "bar_color": null,
      "description_width": ""
     }
    },
    "165bf591b48541dcb7098f473f546623": {
     "model_module": "@jupyter-widgets/base",
     "model_module_version": "1.2.0",
     "model_name": "LayoutModel",
     "state": {
      "_model_module": "@jupyter-widgets/base",
      "_model_module_version": "1.2.0",
      "_model_name": "LayoutModel",
      "_view_count": null,
      "_view_module": "@jupyter-widgets/base",
      "_view_module_version": "1.2.0",
      "_view_name": "LayoutView",
      "align_content": null,
      "align_items": null,
      "align_self": null,
      "border": null,
      "bottom": null,
      "display": null,
      "flex": null,
      "flex_flow": null,
      "grid_area": null,
      "grid_auto_columns": null,
      "grid_auto_flow": null,
      "grid_auto_rows": null,
      "grid_column": null,
      "grid_gap": null,
      "grid_row": null,
      "grid_template_areas": null,
      "grid_template_columns": null,
      "grid_template_rows": null,
      "height": null,
      "justify_content": null,
      "justify_items": null,
      "left": null,
      "margin": null,
      "max_height": null,
      "max_width": null,
      "min_height": null,
      "min_width": null,
      "object_fit": null,
      "object_position": null,
      "order": null,
      "overflow": null,
      "overflow_x": null,
      "overflow_y": null,
      "padding": null,
      "right": null,
      "top": null,
      "visibility": null,
      "width": null
     }
    },
    "176821cdce684ac586e0d6d30148b104": {
     "model_module": "@jupyter-widgets/base",
     "model_module_version": "1.2.0",
     "model_name": "LayoutModel",
     "state": {
      "_model_module": "@jupyter-widgets/base",
      "_model_module_version": "1.2.0",
      "_model_name": "LayoutModel",
      "_view_count": null,
      "_view_module": "@jupyter-widgets/base",
      "_view_module_version": "1.2.0",
      "_view_name": "LayoutView",
      "align_content": null,
      "align_items": null,
      "align_self": null,
      "border": null,
      "bottom": null,
      "display": null,
      "flex": null,
      "flex_flow": null,
      "grid_area": null,
      "grid_auto_columns": null,
      "grid_auto_flow": null,
      "grid_auto_rows": null,
      "grid_column": null,
      "grid_gap": null,
      "grid_row": null,
      "grid_template_areas": null,
      "grid_template_columns": null,
      "grid_template_rows": null,
      "height": null,
      "justify_content": null,
      "justify_items": null,
      "left": null,
      "margin": null,
      "max_height": null,
      "max_width": null,
      "min_height": null,
      "min_width": null,
      "object_fit": null,
      "object_position": null,
      "order": null,
      "overflow": null,
      "overflow_x": null,
      "overflow_y": null,
      "padding": null,
      "right": null,
      "top": null,
      "visibility": null,
      "width": null
     }
    },
    "1a84e4afc009456aaf0353dedef3f525": {
     "model_module": "@jupyter-widgets/base",
     "model_module_version": "1.2.0",
     "model_name": "LayoutModel",
     "state": {
      "_model_module": "@jupyter-widgets/base",
      "_model_module_version": "1.2.0",
      "_model_name": "LayoutModel",
      "_view_count": null,
      "_view_module": "@jupyter-widgets/base",
      "_view_module_version": "1.2.0",
      "_view_name": "LayoutView",
      "align_content": null,
      "align_items": null,
      "align_self": null,
      "border": null,
      "bottom": null,
      "display": null,
      "flex": null,
      "flex_flow": null,
      "grid_area": null,
      "grid_auto_columns": null,
      "grid_auto_flow": null,
      "grid_auto_rows": null,
      "grid_column": null,
      "grid_gap": null,
      "grid_row": null,
      "grid_template_areas": null,
      "grid_template_columns": null,
      "grid_template_rows": null,
      "height": null,
      "justify_content": null,
      "justify_items": null,
      "left": null,
      "margin": null,
      "max_height": null,
      "max_width": null,
      "min_height": null,
      "min_width": null,
      "object_fit": null,
      "object_position": null,
      "order": null,
      "overflow": null,
      "overflow_x": null,
      "overflow_y": null,
      "padding": null,
      "right": null,
      "top": null,
      "visibility": null,
      "width": null
     }
    },
    "1b33baffd17640dfa0c4794af88ea65b": {
     "model_module": "@jupyter-widgets/controls",
     "model_module_version": "1.5.0",
     "model_name": "DescriptionStyleModel",
     "state": {
      "_model_module": "@jupyter-widgets/controls",
      "_model_module_version": "1.5.0",
      "_model_name": "DescriptionStyleModel",
      "_view_count": null,
      "_view_module": "@jupyter-widgets/base",
      "_view_module_version": "1.2.0",
      "_view_name": "StyleView",
      "description_width": ""
     }
    },
    "1c8746121d234eeeb70a08129493ef93": {
     "model_module": "@jupyter-widgets/controls",
     "model_module_version": "1.5.0",
     "model_name": "ProgressStyleModel",
     "state": {
      "_model_module": "@jupyter-widgets/controls",
      "_model_module_version": "1.5.0",
      "_model_name": "ProgressStyleModel",
      "_view_count": null,
      "_view_module": "@jupyter-widgets/base",
      "_view_module_version": "1.2.0",
      "_view_name": "StyleView",
      "bar_color": null,
      "description_width": ""
     }
    },
    "1e4a42f7a3d34fb1bb8f132be9af194b": {
     "model_module": "@jupyter-widgets/controls",
     "model_module_version": "1.5.0",
     "model_name": "HTMLModel",
     "state": {
      "_dom_classes": [],
      "_model_module": "@jupyter-widgets/controls",
      "_model_module_version": "1.5.0",
      "_model_name": "HTMLModel",
      "_view_count": null,
      "_view_module": "@jupyter-widgets/controls",
      "_view_module_version": "1.5.0",
      "_view_name": "HTMLView",
      "description": "",
      "description_tooltip": null,
      "layout": "IPY_MODEL_cac232e1f8a148aa87ca9a8ab6427073",
      "placeholder": "​",
      "style": "IPY_MODEL_2b0d47adb7d8408b8bd19c27eafb84a7",
      "value": "config.json: 100%"
     }
    },
    "1e96a3959a824b7994b7a856fbff4f51": {
     "model_module": "@jupyter-widgets/controls",
     "model_module_version": "1.5.0",
     "model_name": "DescriptionStyleModel",
     "state": {
      "_model_module": "@jupyter-widgets/controls",
      "_model_module_version": "1.5.0",
      "_model_name": "DescriptionStyleModel",
      "_view_count": null,
      "_view_module": "@jupyter-widgets/base",
      "_view_module_version": "1.2.0",
      "_view_name": "StyleView",
      "description_width": ""
     }
    },
    "2b0d47adb7d8408b8bd19c27eafb84a7": {
     "model_module": "@jupyter-widgets/controls",
     "model_module_version": "1.5.0",
     "model_name": "DescriptionStyleModel",
     "state": {
      "_model_module": "@jupyter-widgets/controls",
      "_model_module_version": "1.5.0",
      "_model_name": "DescriptionStyleModel",
      "_view_count": null,
      "_view_module": "@jupyter-widgets/base",
      "_view_module_version": "1.2.0",
      "_view_name": "StyleView",
      "description_width": ""
     }
    },
    "2df2b68b29894706b725212e1550527c": {
     "model_module": "@jupyter-widgets/controls",
     "model_module_version": "1.5.0",
     "model_name": "DescriptionStyleModel",
     "state": {
      "_model_module": "@jupyter-widgets/controls",
      "_model_module_version": "1.5.0",
      "_model_name": "DescriptionStyleModel",
      "_view_count": null,
      "_view_module": "@jupyter-widgets/base",
      "_view_module_version": "1.2.0",
      "_view_name": "StyleView",
      "description_width": ""
     }
    },
    "36912b8305c4489a9144ef93ccde4a61": {
     "model_module": "@jupyter-widgets/controls",
     "model_module_version": "1.5.0",
     "model_name": "HTMLModel",
     "state": {
      "_dom_classes": [],
      "_model_module": "@jupyter-widgets/controls",
      "_model_module_version": "1.5.0",
      "_model_name": "HTMLModel",
      "_view_count": null,
      "_view_module": "@jupyter-widgets/controls",
      "_view_module_version": "1.5.0",
      "_view_name": "HTMLView",
      "description": "",
      "description_tooltip": null,
      "layout": "IPY_MODEL_05eac7711ede44d0a2053feb46f91950",
      "placeholder": "​",
      "style": "IPY_MODEL_4978d077cf004fd68c1e9dbfdf49930e",
      "value": "merges.txt: 100%"
     }
    },
    "37b3c5fae1f24afa9059210ec9e89db6": {
     "model_module": "@jupyter-widgets/controls",
     "model_module_version": "1.5.0",
     "model_name": "HTMLModel",
     "state": {
      "_dom_classes": [],
      "_model_module": "@jupyter-widgets/controls",
      "_model_module_version": "1.5.0",
      "_model_name": "HTMLModel",
      "_view_count": null,
      "_view_module": "@jupyter-widgets/controls",
      "_view_module_version": "1.5.0",
      "_view_name": "HTMLView",
      "description": "",
      "description_tooltip": null,
      "layout": "IPY_MODEL_d06b9855e4fc44e5a8eb7fa4dd4946e5",
      "placeholder": "​",
      "style": "IPY_MODEL_37e3b1b11cb94a2ab901b348b0c07a22",
      "value": "tokenizer_config.json: 100%"
     }
    },
    "37beb534b0b348e3aaca98f7803dc632": {
     "model_module": "@jupyter-widgets/controls",
     "model_module_version": "1.5.0",
     "model_name": "HTMLModel",
     "state": {
      "_dom_classes": [],
      "_model_module": "@jupyter-widgets/controls",
      "_model_module_version": "1.5.0",
      "_model_name": "HTMLModel",
      "_view_count": null,
      "_view_module": "@jupyter-widgets/controls",
      "_view_module_version": "1.5.0",
      "_view_name": "HTMLView",
      "description": "",
      "description_tooltip": null,
      "layout": "IPY_MODEL_c0d04e1f25c24552b6f1f46d68635e5f",
      "placeholder": "​",
      "style": "IPY_MODEL_8738a5737f7a4a30a48badd9a4f64445",
      "value": "Map: 100%"
     }
    },
    "37e3b1b11cb94a2ab901b348b0c07a22": {
     "model_module": "@jupyter-widgets/controls",
     "model_module_version": "1.5.0",
     "model_name": "DescriptionStyleModel",
     "state": {
      "_model_module": "@jupyter-widgets/controls",
      "_model_module_version": "1.5.0",
      "_model_name": "DescriptionStyleModel",
      "_view_count": null,
      "_view_module": "@jupyter-widgets/base",
      "_view_module_version": "1.2.0",
      "_view_name": "StyleView",
      "description_width": ""
     }
    },
    "3cec74edf2af4e68ab59323ae55f7305": {
     "model_module": "@jupyter-widgets/base",
     "model_module_version": "1.2.0",
     "model_name": "LayoutModel",
     "state": {
      "_model_module": "@jupyter-widgets/base",
      "_model_module_version": "1.2.0",
      "_model_name": "LayoutModel",
      "_view_count": null,
      "_view_module": "@jupyter-widgets/base",
      "_view_module_version": "1.2.0",
      "_view_name": "LayoutView",
      "align_content": null,
      "align_items": null,
      "align_self": null,
      "border": null,
      "bottom": null,
      "display": null,
      "flex": null,
      "flex_flow": null,
      "grid_area": null,
      "grid_auto_columns": null,
      "grid_auto_flow": null,
      "grid_auto_rows": null,
      "grid_column": null,
      "grid_gap": null,
      "grid_row": null,
      "grid_template_areas": null,
      "grid_template_columns": null,
      "grid_template_rows": null,
      "height": null,
      "justify_content": null,
      "justify_items": null,
      "left": null,
      "margin": null,
      "max_height": null,
      "max_width": null,
      "min_height": null,
      "min_width": null,
      "object_fit": null,
      "object_position": null,
      "order": null,
      "overflow": null,
      "overflow_x": null,
      "overflow_y": null,
      "padding": null,
      "right": null,
      "top": null,
      "visibility": null,
      "width": null
     }
    },
    "3f241ac54891470886e9e67e5660f9cd": {
     "model_module": "@jupyter-widgets/controls",
     "model_module_version": "1.5.0",
     "model_name": "HBoxModel",
     "state": {
      "_dom_classes": [],
      "_model_module": "@jupyter-widgets/controls",
      "_model_module_version": "1.5.0",
      "_model_name": "HBoxModel",
      "_view_count": null,
      "_view_module": "@jupyter-widgets/controls",
      "_view_module_version": "1.5.0",
      "_view_name": "HBoxView",
      "box_style": "",
      "children": [
       "IPY_MODEL_a20493769a6f47eca1a1f24965363134",
       "IPY_MODEL_4f74e90ff9bd433390fa5f85ea28dbd3",
       "IPY_MODEL_54bebbbfbaff445895b5a152c3e4e98d"
      ],
      "layout": "IPY_MODEL_7bc0b4708f0f4e9ab1eff7192f867eaa"
     }
    },
    "425d6f38b79840409ad3a86f34a1171a": {
     "model_module": "@jupyter-widgets/controls",
     "model_module_version": "1.5.0",
     "model_name": "HTMLModel",
     "state": {
      "_dom_classes": [],
      "_model_module": "@jupyter-widgets/controls",
      "_model_module_version": "1.5.0",
      "_model_name": "HTMLModel",
      "_view_count": null,
      "_view_module": "@jupyter-widgets/controls",
      "_view_module_version": "1.5.0",
      "_view_name": "HTMLView",
      "description": "",
      "description_tooltip": null,
      "layout": "IPY_MODEL_165bf591b48541dcb7098f473f546623",
      "placeholder": "​",
      "style": "IPY_MODEL_56cd8dd2304d49a2ba855967301a360d",
      "value": "Map: 100%"
     }
    },
    "486e1d811dfc41f4ad59e6dcbb0ba6df": {
     "model_module": "@jupyter-widgets/base",
     "model_module_version": "1.2.0",
     "model_name": "LayoutModel",
     "state": {
      "_model_module": "@jupyter-widgets/base",
      "_model_module_version": "1.2.0",
      "_model_name": "LayoutModel",
      "_view_count": null,
      "_view_module": "@jupyter-widgets/base",
      "_view_module_version": "1.2.0",
      "_view_name": "LayoutView",
      "align_content": null,
      "align_items": null,
      "align_self": null,
      "border": null,
      "bottom": null,
      "display": null,
      "flex": null,
      "flex_flow": null,
      "grid_area": null,
      "grid_auto_columns": null,
      "grid_auto_flow": null,
      "grid_auto_rows": null,
      "grid_column": null,
      "grid_gap": null,
      "grid_row": null,
      "grid_template_areas": null,
      "grid_template_columns": null,
      "grid_template_rows": null,
      "height": null,
      "justify_content": null,
      "justify_items": null,
      "left": null,
      "margin": null,
      "max_height": null,
      "max_width": null,
      "min_height": null,
      "min_width": null,
      "object_fit": null,
      "object_position": null,
      "order": null,
      "overflow": null,
      "overflow_x": null,
      "overflow_y": null,
      "padding": null,
      "right": null,
      "top": null,
      "visibility": null,
      "width": null
     }
    },
    "4978d077cf004fd68c1e9dbfdf49930e": {
     "model_module": "@jupyter-widgets/controls",
     "model_module_version": "1.5.0",
     "model_name": "DescriptionStyleModel",
     "state": {
      "_model_module": "@jupyter-widgets/controls",
      "_model_module_version": "1.5.0",
      "_model_name": "DescriptionStyleModel",
      "_view_count": null,
      "_view_module": "@jupyter-widgets/base",
      "_view_module_version": "1.2.0",
      "_view_name": "StyleView",
      "description_width": ""
     }
    },
    "4f74e90ff9bd433390fa5f85ea28dbd3": {
     "model_module": "@jupyter-widgets/controls",
     "model_module_version": "1.5.0",
     "model_name": "FloatProgressModel",
     "state": {
      "_dom_classes": [],
      "_model_module": "@jupyter-widgets/controls",
      "_model_module_version": "1.5.0",
      "_model_name": "FloatProgressModel",
      "_view_count": null,
      "_view_module": "@jupyter-widgets/controls",
      "_view_module_version": "1.5.0",
      "_view_name": "ProgressView",
      "bar_style": "success",
      "description": "",
      "description_tooltip": null,
      "layout": "IPY_MODEL_bf7ab6283e324208b1cdd30a0d17fb9a",
      "max": 1629437147,
      "min": 0,
      "orientation": "horizontal",
      "style": "IPY_MODEL_0b32dd6ccd494bb993ca00d3ff34f8bb",
      "value": 1629437147
     }
    },
    "5460ac55e024490d9034fdeb5046e369": {
     "model_module": "@jupyter-widgets/base",
     "model_module_version": "1.2.0",
     "model_name": "LayoutModel",
     "state": {
      "_model_module": "@jupyter-widgets/base",
      "_model_module_version": "1.2.0",
      "_model_name": "LayoutModel",
      "_view_count": null,
      "_view_module": "@jupyter-widgets/base",
      "_view_module_version": "1.2.0",
      "_view_name": "LayoutView",
      "align_content": null,
      "align_items": null,
      "align_self": null,
      "border": null,
      "bottom": null,
      "display": null,
      "flex": null,
      "flex_flow": null,
      "grid_area": null,
      "grid_auto_columns": null,
      "grid_auto_flow": null,
      "grid_auto_rows": null,
      "grid_column": null,
      "grid_gap": null,
      "grid_row": null,
      "grid_template_areas": null,
      "grid_template_columns": null,
      "grid_template_rows": null,
      "height": null,
      "justify_content": null,
      "justify_items": null,
      "left": null,
      "margin": null,
      "max_height": null,
      "max_width": null,
      "min_height": null,
      "min_width": null,
      "object_fit": null,
      "object_position": null,
      "order": null,
      "overflow": null,
      "overflow_x": null,
      "overflow_y": null,
      "padding": null,
      "right": null,
      "top": null,
      "visibility": null,
      "width": null
     }
    },
    "54bebbbfbaff445895b5a152c3e4e98d": {
     "model_module": "@jupyter-widgets/controls",
     "model_module_version": "1.5.0",
     "model_name": "HTMLModel",
     "state": {
      "_dom_classes": [],
      "_model_module": "@jupyter-widgets/controls",
      "_model_module_version": "1.5.0",
      "_model_name": "HTMLModel",
      "_view_count": null,
      "_view_module": "@jupyter-widgets/controls",
      "_view_module_version": "1.5.0",
      "_view_name": "HTMLView",
      "description": "",
      "description_tooltip": null,
      "layout": "IPY_MODEL_6e9891369cb4450780e967c932002cb4",
      "placeholder": "​",
      "style": "IPY_MODEL_708763cb306b48d087c827d446f396f9",
      "value": " 1.63G/1.63G [00:17&lt;00:00, 58.5MB/s]"
     }
    },
    "56cd8dd2304d49a2ba855967301a360d": {
     "model_module": "@jupyter-widgets/controls",
     "model_module_version": "1.5.0",
     "model_name": "DescriptionStyleModel",
     "state": {
      "_model_module": "@jupyter-widgets/controls",
      "_model_module_version": "1.5.0",
      "_model_name": "DescriptionStyleModel",
      "_view_count": null,
      "_view_module": "@jupyter-widgets/base",
      "_view_module_version": "1.2.0",
      "_view_name": "StyleView",
      "description_width": ""
     }
    },
    "5aa7ee68b6c246ee9eaa1ae91ed68406": {
     "model_module": "@jupyter-widgets/controls",
     "model_module_version": "1.5.0",
     "model_name": "HBoxModel",
     "state": {
      "_dom_classes": [],
      "_model_module": "@jupyter-widgets/controls",
      "_model_module_version": "1.5.0",
      "_model_name": "HBoxModel",
      "_view_count": null,
      "_view_module": "@jupyter-widgets/controls",
      "_view_module_version": "1.5.0",
      "_view_name": "HBoxView",
      "box_style": "",
      "children": [
       "IPY_MODEL_425d6f38b79840409ad3a86f34a1171a",
       "IPY_MODEL_5c5f41a6f03e4de39467afe2006c14a0",
       "IPY_MODEL_5f9f207387ab41adbc233f5fd5ed91ac"
      ],
      "layout": "IPY_MODEL_486e1d811dfc41f4ad59e6dcbb0ba6df"
     }
    },
    "5c5f41a6f03e4de39467afe2006c14a0": {
     "model_module": "@jupyter-widgets/controls",
     "model_module_version": "1.5.0",
     "model_name": "FloatProgressModel",
     "state": {
      "_dom_classes": [],
      "_model_module": "@jupyter-widgets/controls",
      "_model_module_version": "1.5.0",
      "_model_name": "FloatProgressModel",
      "_view_count": null,
      "_view_module": "@jupyter-widgets/controls",
      "_view_module_version": "1.5.0",
      "_view_name": "ProgressView",
      "bar_style": "success",
      "description": "",
      "description_tooltip": null,
      "layout": "IPY_MODEL_6a9edb3d76774d83aa1ba40b6f3b5f1e",
      "max": 50,
      "min": 0,
      "orientation": "horizontal",
      "style": "IPY_MODEL_608ed30956af43bc86464e6e2e267823",
      "value": 50
     }
    },
    "5f9f207387ab41adbc233f5fd5ed91ac": {
     "model_module": "@jupyter-widgets/controls",
     "model_module_version": "1.5.0",
     "model_name": "HTMLModel",
     "state": {
      "_dom_classes": [],
      "_model_module": "@jupyter-widgets/controls",
      "_model_module_version": "1.5.0",
      "_model_name": "HTMLModel",
      "_view_count": null,
      "_view_module": "@jupyter-widgets/controls",
      "_view_module_version": "1.5.0",
      "_view_name": "HTMLView",
      "description": "",
      "description_tooltip": null,
      "layout": "IPY_MODEL_757c9a98414249af921ab9b6358798ff",
      "placeholder": "​",
      "style": "IPY_MODEL_1b33baffd17640dfa0c4794af88ea65b",
      "value": " 50/50 [00:00&lt;00:00, 521.43 examples/s]"
     }
    },
    "608ed30956af43bc86464e6e2e267823": {
     "model_module": "@jupyter-widgets/controls",
     "model_module_version": "1.5.0",
     "model_name": "ProgressStyleModel",
     "state": {
      "_model_module": "@jupyter-widgets/controls",
      "_model_module_version": "1.5.0",
      "_model_name": "ProgressStyleModel",
      "_view_count": null,
      "_view_module": "@jupyter-widgets/base",
      "_view_module_version": "1.2.0",
      "_view_name": "StyleView",
      "bar_color": null,
      "description_width": ""
     }
    },
    "61c8ee83d70f472ca627b2cf98cebcd9": {
     "model_module": "@jupyter-widgets/controls",
     "model_module_version": "1.5.0",
     "model_name": "HBoxModel",
     "state": {
      "_dom_classes": [],
      "_model_module": "@jupyter-widgets/controls",
      "_model_module_version": "1.5.0",
      "_model_name": "HBoxModel",
      "_view_count": null,
      "_view_module": "@jupyter-widgets/controls",
      "_view_module_version": "1.5.0",
      "_view_name": "HBoxView",
      "box_style": "",
      "children": [
       "IPY_MODEL_37b3c5fae1f24afa9059210ec9e89db6",
       "IPY_MODEL_99ace6240bd84ff5b213b771053e3cbe",
       "IPY_MODEL_dacce6491d754ccaa0d8cc6516ee291f"
      ],
      "layout": "IPY_MODEL_5460ac55e024490d9034fdeb5046e369"
     }
    },
    "63e36e40f02343fba590e16444a9b8ce": {
     "model_module": "@jupyter-widgets/controls",
     "model_module_version": "1.5.0",
     "model_name": "HBoxModel",
     "state": {
      "_dom_classes": [],
      "_model_module": "@jupyter-widgets/controls",
      "_model_module_version": "1.5.0",
      "_model_name": "HBoxModel",
      "_view_count": null,
      "_view_module": "@jupyter-widgets/controls",
      "_view_module_version": "1.5.0",
      "_view_name": "HBoxView",
      "box_style": "",
      "children": [
       "IPY_MODEL_969f4f3ceae344408f3a28443e454602",
       "IPY_MODEL_1263f81ada424f34be74c7609aed97d9",
       "IPY_MODEL_0521838301b74ff3ad1cda74717339a1"
      ],
      "layout": "IPY_MODEL_fbb8cf8cf7614be3bea6d7e02f1e41db"
     }
    },
    "63f95a383486470f9c1a6724a685e918": {
     "model_module": "@jupyter-widgets/controls",
     "model_module_version": "1.5.0",
     "model_name": "DescriptionStyleModel",
     "state": {
      "_model_module": "@jupyter-widgets/controls",
      "_model_module_version": "1.5.0",
      "_model_name": "DescriptionStyleModel",
      "_view_count": null,
      "_view_module": "@jupyter-widgets/base",
      "_view_module_version": "1.2.0",
      "_view_name": "StyleView",
      "description_width": ""
     }
    },
    "64a05f7c61534c3fbf3dccaa233b1321": {
     "model_module": "@jupyter-widgets/base",
     "model_module_version": "1.2.0",
     "model_name": "LayoutModel",
     "state": {
      "_model_module": "@jupyter-widgets/base",
      "_model_module_version": "1.2.0",
      "_model_name": "LayoutModel",
      "_view_count": null,
      "_view_module": "@jupyter-widgets/base",
      "_view_module_version": "1.2.0",
      "_view_name": "LayoutView",
      "align_content": null,
      "align_items": null,
      "align_self": null,
      "border": null,
      "bottom": null,
      "display": null,
      "flex": null,
      "flex_flow": null,
      "grid_area": null,
      "grid_auto_columns": null,
      "grid_auto_flow": null,
      "grid_auto_rows": null,
      "grid_column": null,
      "grid_gap": null,
      "grid_row": null,
      "grid_template_areas": null,
      "grid_template_columns": null,
      "grid_template_rows": null,
      "height": null,
      "justify_content": null,
      "justify_items": null,
      "left": null,
      "margin": null,
      "max_height": null,
      "max_width": null,
      "min_height": null,
      "min_width": null,
      "object_fit": null,
      "object_position": null,
      "order": null,
      "overflow": null,
      "overflow_x": null,
      "overflow_y": null,
      "padding": null,
      "right": null,
      "top": null,
      "visibility": null,
      "width": null
     }
    },
    "663e431c0c9c46bb828a71fc3f832d55": {
     "model_module": "@jupyter-widgets/controls",
     "model_module_version": "1.5.0",
     "model_name": "DescriptionStyleModel",
     "state": {
      "_model_module": "@jupyter-widgets/controls",
      "_model_module_version": "1.5.0",
      "_model_name": "DescriptionStyleModel",
      "_view_count": null,
      "_view_module": "@jupyter-widgets/base",
      "_view_module_version": "1.2.0",
      "_view_name": "StyleView",
      "description_width": ""
     }
    },
    "6a9edb3d76774d83aa1ba40b6f3b5f1e": {
     "model_module": "@jupyter-widgets/base",
     "model_module_version": "1.2.0",
     "model_name": "LayoutModel",
     "state": {
      "_model_module": "@jupyter-widgets/base",
      "_model_module_version": "1.2.0",
      "_model_name": "LayoutModel",
      "_view_count": null,
      "_view_module": "@jupyter-widgets/base",
      "_view_module_version": "1.2.0",
      "_view_name": "LayoutView",
      "align_content": null,
      "align_items": null,
      "align_self": null,
      "border": null,
      "bottom": null,
      "display": null,
      "flex": null,
      "flex_flow": null,
      "grid_area": null,
      "grid_auto_columns": null,
      "grid_auto_flow": null,
      "grid_auto_rows": null,
      "grid_column": null,
      "grid_gap": null,
      "grid_row": null,
      "grid_template_areas": null,
      "grid_template_columns": null,
      "grid_template_rows": null,
      "height": null,
      "justify_content": null,
      "justify_items": null,
      "left": null,
      "margin": null,
      "max_height": null,
      "max_width": null,
      "min_height": null,
      "min_width": null,
      "object_fit": null,
      "object_position": null,
      "order": null,
      "overflow": null,
      "overflow_x": null,
      "overflow_y": null,
      "padding": null,
      "right": null,
      "top": null,
      "visibility": null,
      "width": null
     }
    },
    "6e9891369cb4450780e967c932002cb4": {
     "model_module": "@jupyter-widgets/base",
     "model_module_version": "1.2.0",
     "model_name": "LayoutModel",
     "state": {
      "_model_module": "@jupyter-widgets/base",
      "_model_module_version": "1.2.0",
      "_model_name": "LayoutModel",
      "_view_count": null,
      "_view_module": "@jupyter-widgets/base",
      "_view_module_version": "1.2.0",
      "_view_name": "LayoutView",
      "align_content": null,
      "align_items": null,
      "align_self": null,
      "border": null,
      "bottom": null,
      "display": null,
      "flex": null,
      "flex_flow": null,
      "grid_area": null,
      "grid_auto_columns": null,
      "grid_auto_flow": null,
      "grid_auto_rows": null,
      "grid_column": null,
      "grid_gap": null,
      "grid_row": null,
      "grid_template_areas": null,
      "grid_template_columns": null,
      "grid_template_rows": null,
      "height": null,
      "justify_content": null,
      "justify_items": null,
      "left": null,
      "margin": null,
      "max_height": null,
      "max_width": null,
      "min_height": null,
      "min_width": null,
      "object_fit": null,
      "object_position": null,
      "order": null,
      "overflow": null,
      "overflow_x": null,
      "overflow_y": null,
      "padding": null,
      "right": null,
      "top": null,
      "visibility": null,
      "width": null
     }
    },
    "708763cb306b48d087c827d446f396f9": {
     "model_module": "@jupyter-widgets/controls",
     "model_module_version": "1.5.0",
     "model_name": "DescriptionStyleModel",
     "state": {
      "_model_module": "@jupyter-widgets/controls",
      "_model_module_version": "1.5.0",
      "_model_name": "DescriptionStyleModel",
      "_view_count": null,
      "_view_module": "@jupyter-widgets/base",
      "_view_module_version": "1.2.0",
      "_view_name": "StyleView",
      "description_width": ""
     }
    },
    "757c9a98414249af921ab9b6358798ff": {
     "model_module": "@jupyter-widgets/base",
     "model_module_version": "1.2.0",
     "model_name": "LayoutModel",
     "state": {
      "_model_module": "@jupyter-widgets/base",
      "_model_module_version": "1.2.0",
      "_model_name": "LayoutModel",
      "_view_count": null,
      "_view_module": "@jupyter-widgets/base",
      "_view_module_version": "1.2.0",
      "_view_name": "LayoutView",
      "align_content": null,
      "align_items": null,
      "align_self": null,
      "border": null,
      "bottom": null,
      "display": null,
      "flex": null,
      "flex_flow": null,
      "grid_area": null,
      "grid_auto_columns": null,
      "grid_auto_flow": null,
      "grid_auto_rows": null,
      "grid_column": null,
      "grid_gap": null,
      "grid_row": null,
      "grid_template_areas": null,
      "grid_template_columns": null,
      "grid_template_rows": null,
      "height": null,
      "justify_content": null,
      "justify_items": null,
      "left": null,
      "margin": null,
      "max_height": null,
      "max_width": null,
      "min_height": null,
      "min_width": null,
      "object_fit": null,
      "object_position": null,
      "order": null,
      "overflow": null,
      "overflow_x": null,
      "overflow_y": null,
      "padding": null,
      "right": null,
      "top": null,
      "visibility": null,
      "width": null
     }
    },
    "76e7ea0ba6e64afe871bb424e0f321c1": {
     "model_module": "@jupyter-widgets/base",
     "model_module_version": "1.2.0",
     "model_name": "LayoutModel",
     "state": {
      "_model_module": "@jupyter-widgets/base",
      "_model_module_version": "1.2.0",
      "_model_name": "LayoutModel",
      "_view_count": null,
      "_view_module": "@jupyter-widgets/base",
      "_view_module_version": "1.2.0",
      "_view_name": "LayoutView",
      "align_content": null,
      "align_items": null,
      "align_self": null,
      "border": null,
      "bottom": null,
      "display": null,
      "flex": null,
      "flex_flow": null,
      "grid_area": null,
      "grid_auto_columns": null,
      "grid_auto_flow": null,
      "grid_auto_rows": null,
      "grid_column": null,
      "grid_gap": null,
      "grid_row": null,
      "grid_template_areas": null,
      "grid_template_columns": null,
      "grid_template_rows": null,
      "height": null,
      "justify_content": null,
      "justify_items": null,
      "left": null,
      "margin": null,
      "max_height": null,
      "max_width": null,
      "min_height": null,
      "min_width": null,
      "object_fit": null,
      "object_position": null,
      "order": null,
      "overflow": null,
      "overflow_x": null,
      "overflow_y": null,
      "padding": null,
      "right": null,
      "top": null,
      "visibility": null,
      "width": null
     }
    },
    "7a14b0b44f3f480e9f1e9bd4ee7ff8ea": {
     "model_module": "@jupyter-widgets/base",
     "model_module_version": "1.2.0",
     "model_name": "LayoutModel",
     "state": {
      "_model_module": "@jupyter-widgets/base",
      "_model_module_version": "1.2.0",
      "_model_name": "LayoutModel",
      "_view_count": null,
      "_view_module": "@jupyter-widgets/base",
      "_view_module_version": "1.2.0",
      "_view_name": "LayoutView",
      "align_content": null,
      "align_items": null,
      "align_self": null,
      "border": null,
      "bottom": null,
      "display": null,
      "flex": null,
      "flex_flow": null,
      "grid_area": null,
      "grid_auto_columns": null,
      "grid_auto_flow": null,
      "grid_auto_rows": null,
      "grid_column": null,
      "grid_gap": null,
      "grid_row": null,
      "grid_template_areas": null,
      "grid_template_columns": null,
      "grid_template_rows": null,
      "height": null,
      "justify_content": null,
      "justify_items": null,
      "left": null,
      "margin": null,
      "max_height": null,
      "max_width": null,
      "min_height": null,
      "min_width": null,
      "object_fit": null,
      "object_position": null,
      "order": null,
      "overflow": null,
      "overflow_x": null,
      "overflow_y": null,
      "padding": null,
      "right": null,
      "top": null,
      "visibility": null,
      "width": null
     }
    },
    "7bc0b4708f0f4e9ab1eff7192f867eaa": {
     "model_module": "@jupyter-widgets/base",
     "model_module_version": "1.2.0",
     "model_name": "LayoutModel",
     "state": {
      "_model_module": "@jupyter-widgets/base",
      "_model_module_version": "1.2.0",
      "_model_name": "LayoutModel",
      "_view_count": null,
      "_view_module": "@jupyter-widgets/base",
      "_view_module_version": "1.2.0",
      "_view_name": "LayoutView",
      "align_content": null,
      "align_items": null,
      "align_self": null,
      "border": null,
      "bottom": null,
      "display": null,
      "flex": null,
      "flex_flow": null,
      "grid_area": null,
      "grid_auto_columns": null,
      "grid_auto_flow": null,
      "grid_auto_rows": null,
      "grid_column": null,
      "grid_gap": null,
      "grid_row": null,
      "grid_template_areas": null,
      "grid_template_columns": null,
      "grid_template_rows": null,
      "height": null,
      "justify_content": null,
      "justify_items": null,
      "left": null,
      "margin": null,
      "max_height": null,
      "max_width": null,
      "min_height": null,
      "min_width": null,
      "object_fit": null,
      "object_position": null,
      "order": null,
      "overflow": null,
      "overflow_x": null,
      "overflow_y": null,
      "padding": null,
      "right": null,
      "top": null,
      "visibility": null,
      "width": null
     }
    },
    "7e73bfcca5b04d23be8af05623312ddc": {
     "model_module": "@jupyter-widgets/controls",
     "model_module_version": "1.5.0",
     "model_name": "HTMLModel",
     "state": {
      "_dom_classes": [],
      "_model_module": "@jupyter-widgets/controls",
      "_model_module_version": "1.5.0",
      "_model_name": "HTMLModel",
      "_view_count": null,
      "_view_module": "@jupyter-widgets/controls",
      "_view_module_version": "1.5.0",
      "_view_name": "HTMLView",
      "description": "",
      "description_tooltip": null,
      "layout": "IPY_MODEL_b0970490b1a6448e98e5e5e2d349c310",
      "placeholder": "​",
      "style": "IPY_MODEL_1e96a3959a824b7994b7a856fbff4f51",
      "value": " 50/50 [00:00&lt;00:00, 403.37 examples/s]"
     }
    },
    "7ef053264991482fb45217d9dcb3fe1d": {
     "model_module": "@jupyter-widgets/controls",
     "model_module_version": "1.5.0",
     "model_name": "DescriptionStyleModel",
     "state": {
      "_model_module": "@jupyter-widgets/controls",
      "_model_module_version": "1.5.0",
      "_model_name": "DescriptionStyleModel",
      "_view_count": null,
      "_view_module": "@jupyter-widgets/base",
      "_view_module_version": "1.2.0",
      "_view_name": "StyleView",
      "description_width": ""
     }
    },
    "8738a5737f7a4a30a48badd9a4f64445": {
     "model_module": "@jupyter-widgets/controls",
     "model_module_version": "1.5.0",
     "model_name": "DescriptionStyleModel",
     "state": {
      "_model_module": "@jupyter-widgets/controls",
      "_model_module_version": "1.5.0",
      "_model_name": "DescriptionStyleModel",
      "_view_count": null,
      "_view_module": "@jupyter-widgets/base",
      "_view_module_version": "1.2.0",
      "_view_name": "StyleView",
      "description_width": ""
     }
    },
    "87d6d23220914b6b9c1321be55926994": {
     "model_module": "@jupyter-widgets/controls",
     "model_module_version": "1.5.0",
     "model_name": "ProgressStyleModel",
     "state": {
      "_model_module": "@jupyter-widgets/controls",
      "_model_module_version": "1.5.0",
      "_model_name": "ProgressStyleModel",
      "_view_count": null,
      "_view_module": "@jupyter-widgets/base",
      "_view_module_version": "1.2.0",
      "_view_name": "StyleView",
      "bar_color": null,
      "description_width": ""
     }
    },
    "8cc208db65c044edb5e51a949794aa4c": {
     "model_module": "@jupyter-widgets/base",
     "model_module_version": "1.2.0",
     "model_name": "LayoutModel",
     "state": {
      "_model_module": "@jupyter-widgets/base",
      "_model_module_version": "1.2.0",
      "_model_name": "LayoutModel",
      "_view_count": null,
      "_view_module": "@jupyter-widgets/base",
      "_view_module_version": "1.2.0",
      "_view_name": "LayoutView",
      "align_content": null,
      "align_items": null,
      "align_self": null,
      "border": null,
      "bottom": null,
      "display": null,
      "flex": null,
      "flex_flow": null,
      "grid_area": null,
      "grid_auto_columns": null,
      "grid_auto_flow": null,
      "grid_auto_rows": null,
      "grid_column": null,
      "grid_gap": null,
      "grid_row": null,
      "grid_template_areas": null,
      "grid_template_columns": null,
      "grid_template_rows": null,
      "height": null,
      "justify_content": null,
      "justify_items": null,
      "left": null,
      "margin": null,
      "max_height": null,
      "max_width": null,
      "min_height": null,
      "min_width": null,
      "object_fit": null,
      "object_position": null,
      "order": null,
      "overflow": null,
      "overflow_x": null,
      "overflow_y": null,
      "padding": null,
      "right": null,
      "top": null,
      "visibility": null,
      "width": null
     }
    },
    "949b08cae8da4366bdda4a34c1765f44": {
     "model_module": "@jupyter-widgets/controls",
     "model_module_version": "1.5.0",
     "model_name": "HBoxModel",
     "state": {
      "_dom_classes": [],
      "_model_module": "@jupyter-widgets/controls",
      "_model_module_version": "1.5.0",
      "_model_name": "HBoxModel",
      "_view_count": null,
      "_view_module": "@jupyter-widgets/controls",
      "_view_module_version": "1.5.0",
      "_view_name": "HBoxView",
      "box_style": "",
      "children": [
       "IPY_MODEL_1e4a42f7a3d34fb1bb8f132be9af194b",
       "IPY_MODEL_95d1cc4269c647a4a0491b571f95c9df",
       "IPY_MODEL_ab733d87a8074db581233f489bdc7b84"
      ],
      "layout": "IPY_MODEL_8cc208db65c044edb5e51a949794aa4c"
     }
    },
    "95d1cc4269c647a4a0491b571f95c9df": {
     "model_module": "@jupyter-widgets/controls",
     "model_module_version": "1.5.0",
     "model_name": "FloatProgressModel",
     "state": {
      "_dom_classes": [],
      "_model_module": "@jupyter-widgets/controls",
      "_model_module_version": "1.5.0",
      "_model_name": "FloatProgressModel",
      "_view_count": null,
      "_view_module": "@jupyter-widgets/controls",
      "_view_module_version": "1.5.0",
      "_view_name": "ProgressView",
      "bar_style": "success",
      "description": "",
      "description_tooltip": null,
      "layout": "IPY_MODEL_ffcc60d3d5654bba9b6241cb2a0d8561",
      "max": 1154,
      "min": 0,
      "orientation": "horizontal",
      "style": "IPY_MODEL_0016e8aab0f64388a649f6ad02314c33",
      "value": 1154
     }
    },
    "969f4f3ceae344408f3a28443e454602": {
     "model_module": "@jupyter-widgets/controls",
     "model_module_version": "1.5.0",
     "model_name": "HTMLModel",
     "state": {
      "_dom_classes": [],
      "_model_module": "@jupyter-widgets/controls",
      "_model_module_version": "1.5.0",
      "_model_name": "HTMLModel",
      "_view_count": null,
      "_view_module": "@jupyter-widgets/controls",
      "_view_module_version": "1.5.0",
      "_view_name": "HTMLView",
      "description": "",
      "description_tooltip": null,
      "layout": "IPY_MODEL_1a84e4afc009456aaf0353dedef3f525",
      "placeholder": "​",
      "style": "IPY_MODEL_d5c72d6742a645fa8f3626d6e54730f8",
      "value": "tokenizer.json: 100%"
     }
    },
    "99ace6240bd84ff5b213b771053e3cbe": {
     "model_module": "@jupyter-widgets/controls",
     "model_module_version": "1.5.0",
     "model_name": "FloatProgressModel",
     "state": {
      "_dom_classes": [],
      "_model_module": "@jupyter-widgets/controls",
      "_model_module_version": "1.5.0",
      "_model_name": "FloatProgressModel",
      "_view_count": null,
      "_view_module": "@jupyter-widgets/controls",
      "_view_module_version": "1.5.0",
      "_view_name": "ProgressView",
      "bar_style": "success",
      "description": "",
      "description_tooltip": null,
      "layout": "IPY_MODEL_7a14b0b44f3f480e9f1e9bd4ee7ff8ea",
      "max": 26,
      "min": 0,
      "orientation": "horizontal",
      "style": "IPY_MODEL_0934d1a6fb3e4f44b44c5785426699f5",
      "value": 26
     }
    },
    "a20493769a6f47eca1a1f24965363134": {
     "model_module": "@jupyter-widgets/controls",
     "model_module_version": "1.5.0",
     "model_name": "HTMLModel",
     "state": {
      "_dom_classes": [],
      "_model_module": "@jupyter-widgets/controls",
      "_model_module_version": "1.5.0",
      "_model_name": "HTMLModel",
      "_view_count": null,
      "_view_module": "@jupyter-widgets/controls",
      "_view_module_version": "1.5.0",
      "_view_name": "HTMLView",
      "description": "",
      "description_tooltip": null,
      "layout": "IPY_MODEL_abd9763093f54fe79ea38076af17f10c",
      "placeholder": "​",
      "style": "IPY_MODEL_2df2b68b29894706b725212e1550527c",
      "value": "model.safetensors: 100%"
     }
    },
    "a668745ef6aa47739e7de32a336724a3": {
     "model_module": "@jupyter-widgets/controls",
     "model_module_version": "1.5.0",
     "model_name": "DescriptionStyleModel",
     "state": {
      "_model_module": "@jupyter-widgets/controls",
      "_model_module_version": "1.5.0",
      "_model_name": "DescriptionStyleModel",
      "_view_count": null,
      "_view_module": "@jupyter-widgets/base",
      "_view_module_version": "1.2.0",
      "_view_name": "StyleView",
      "description_width": ""
     }
    },
    "ab733d87a8074db581233f489bdc7b84": {
     "model_module": "@jupyter-widgets/controls",
     "model_module_version": "1.5.0",
     "model_name": "HTMLModel",
     "state": {
      "_dom_classes": [],
      "_model_module": "@jupyter-widgets/controls",
      "_model_module_version": "1.5.0",
      "_model_name": "HTMLModel",
      "_view_count": null,
      "_view_module": "@jupyter-widgets/controls",
      "_view_module_version": "1.5.0",
      "_view_name": "HTMLView",
      "description": "",
      "description_tooltip": null,
      "layout": "IPY_MODEL_64a05f7c61534c3fbf3dccaa233b1321",
      "placeholder": "​",
      "style": "IPY_MODEL_a668745ef6aa47739e7de32a336724a3",
      "value": " 1.15k/1.15k [00:00&lt;00:00, 18.1kB/s]"
     }
    },
    "abd9763093f54fe79ea38076af17f10c": {
     "model_module": "@jupyter-widgets/base",
     "model_module_version": "1.2.0",
     "model_name": "LayoutModel",
     "state": {
      "_model_module": "@jupyter-widgets/base",
      "_model_module_version": "1.2.0",
      "_model_name": "LayoutModel",
      "_view_count": null,
      "_view_module": "@jupyter-widgets/base",
      "_view_module_version": "1.2.0",
      "_view_name": "LayoutView",
      "align_content": null,
      "align_items": null,
      "align_self": null,
      "border": null,
      "bottom": null,
      "display": null,
      "flex": null,
      "flex_flow": null,
      "grid_area": null,
      "grid_auto_columns": null,
      "grid_auto_flow": null,
      "grid_auto_rows": null,
      "grid_column": null,
      "grid_gap": null,
      "grid_row": null,
      "grid_template_areas": null,
      "grid_template_columns": null,
      "grid_template_rows": null,
      "height": null,
      "justify_content": null,
      "justify_items": null,
      "left": null,
      "margin": null,
      "max_height": null,
      "max_width": null,
      "min_height": null,
      "min_width": null,
      "object_fit": null,
      "object_position": null,
      "order": null,
      "overflow": null,
      "overflow_x": null,
      "overflow_y": null,
      "padding": null,
      "right": null,
      "top": null,
      "visibility": null,
      "width": null
     }
    },
    "ad1a62e5a2474f179b7844d331fba3e9": {
     "model_module": "@jupyter-widgets/controls",
     "model_module_version": "1.5.0",
     "model_name": "HBoxModel",
     "state": {
      "_dom_classes": [],
      "_model_module": "@jupyter-widgets/controls",
      "_model_module_version": "1.5.0",
      "_model_name": "HBoxModel",
      "_view_count": null,
      "_view_module": "@jupyter-widgets/controls",
      "_view_module_version": "1.5.0",
      "_view_name": "HBoxView",
      "box_style": "",
      "children": [
       "IPY_MODEL_37beb534b0b348e3aaca98f7803dc632",
       "IPY_MODEL_bd3f100b6c124583a2c209eb227f87a2",
       "IPY_MODEL_7e73bfcca5b04d23be8af05623312ddc"
      ],
      "layout": "IPY_MODEL_da5c07a5ec194fd2a6fbccc8cf169992"
     }
    },
    "b0332f1040f644b7affdf0ad06eef900": {
     "model_module": "@jupyter-widgets/base",
     "model_module_version": "1.2.0",
     "model_name": "LayoutModel",
     "state": {
      "_model_module": "@jupyter-widgets/base",
      "_model_module_version": "1.2.0",
      "_model_name": "LayoutModel",
      "_view_count": null,
      "_view_module": "@jupyter-widgets/base",
      "_view_module_version": "1.2.0",
      "_view_name": "LayoutView",
      "align_content": null,
      "align_items": null,
      "align_self": null,
      "border": null,
      "bottom": null,
      "display": null,
      "flex": null,
      "flex_flow": null,
      "grid_area": null,
      "grid_auto_columns": null,
      "grid_auto_flow": null,
      "grid_auto_rows": null,
      "grid_column": null,
      "grid_gap": null,
      "grid_row": null,
      "grid_template_areas": null,
      "grid_template_columns": null,
      "grid_template_rows": null,
      "height": null,
      "justify_content": null,
      "justify_items": null,
      "left": null,
      "margin": null,
      "max_height": null,
      "max_width": null,
      "min_height": null,
      "min_width": null,
      "object_fit": null,
      "object_position": null,
      "order": null,
      "overflow": null,
      "overflow_x": null,
      "overflow_y": null,
      "padding": null,
      "right": null,
      "top": null,
      "visibility": null,
      "width": null
     }
    },
    "b0970490b1a6448e98e5e5e2d349c310": {
     "model_module": "@jupyter-widgets/base",
     "model_module_version": "1.2.0",
     "model_name": "LayoutModel",
     "state": {
      "_model_module": "@jupyter-widgets/base",
      "_model_module_version": "1.2.0",
      "_model_name": "LayoutModel",
      "_view_count": null,
      "_view_module": "@jupyter-widgets/base",
      "_view_module_version": "1.2.0",
      "_view_name": "LayoutView",
      "align_content": null,
      "align_items": null,
      "align_self": null,
      "border": null,
      "bottom": null,
      "display": null,
      "flex": null,
      "flex_flow": null,
      "grid_area": null,
      "grid_auto_columns": null,
      "grid_auto_flow": null,
      "grid_auto_rows": null,
      "grid_column": null,
      "grid_gap": null,
      "grid_row": null,
      "grid_template_areas": null,
      "grid_template_columns": null,
      "grid_template_rows": null,
      "height": null,
      "justify_content": null,
      "justify_items": null,
      "left": null,
      "margin": null,
      "max_height": null,
      "max_width": null,
      "min_height": null,
      "min_width": null,
      "object_fit": null,
      "object_position": null,
      "order": null,
      "overflow": null,
      "overflow_x": null,
      "overflow_y": null,
      "padding": null,
      "right": null,
      "top": null,
      "visibility": null,
      "width": null
     }
    },
    "b4378e32437c4d6ebb2a715daf8732d5": {
     "model_module": "@jupyter-widgets/base",
     "model_module_version": "1.2.0",
     "model_name": "LayoutModel",
     "state": {
      "_model_module": "@jupyter-widgets/base",
      "_model_module_version": "1.2.0",
      "_model_name": "LayoutModel",
      "_view_count": null,
      "_view_module": "@jupyter-widgets/base",
      "_view_module_version": "1.2.0",
      "_view_name": "LayoutView",
      "align_content": null,
      "align_items": null,
      "align_self": null,
      "border": null,
      "bottom": null,
      "display": null,
      "flex": null,
      "flex_flow": null,
      "grid_area": null,
      "grid_auto_columns": null,
      "grid_auto_flow": null,
      "grid_auto_rows": null,
      "grid_column": null,
      "grid_gap": null,
      "grid_row": null,
      "grid_template_areas": null,
      "grid_template_columns": null,
      "grid_template_rows": null,
      "height": null,
      "justify_content": null,
      "justify_items": null,
      "left": null,
      "margin": null,
      "max_height": null,
      "max_width": null,
      "min_height": null,
      "min_width": null,
      "object_fit": null,
      "object_position": null,
      "order": null,
      "overflow": null,
      "overflow_x": null,
      "overflow_y": null,
      "padding": null,
      "right": null,
      "top": null,
      "visibility": null,
      "width": null
     }
    },
    "bb7fe23a41f643379427ef8026c5bd83": {
     "model_module": "@jupyter-widgets/controls",
     "model_module_version": "1.5.0",
     "model_name": "DescriptionStyleModel",
     "state": {
      "_model_module": "@jupyter-widgets/controls",
      "_model_module_version": "1.5.0",
      "_model_name": "DescriptionStyleModel",
      "_view_count": null,
      "_view_module": "@jupyter-widgets/base",
      "_view_module_version": "1.2.0",
      "_view_name": "StyleView",
      "description_width": ""
     }
    },
    "bd3f100b6c124583a2c209eb227f87a2": {
     "model_module": "@jupyter-widgets/controls",
     "model_module_version": "1.5.0",
     "model_name": "FloatProgressModel",
     "state": {
      "_dom_classes": [],
      "_model_module": "@jupyter-widgets/controls",
      "_model_module_version": "1.5.0",
      "_model_name": "FloatProgressModel",
      "_view_count": null,
      "_view_module": "@jupyter-widgets/controls",
      "_view_module_version": "1.5.0",
      "_view_name": "ProgressView",
      "bar_style": "success",
      "description": "",
      "description_tooltip": null,
      "layout": "IPY_MODEL_176821cdce684ac586e0d6d30148b104",
      "max": 50,
      "min": 0,
      "orientation": "horizontal",
      "style": "IPY_MODEL_87d6d23220914b6b9c1321be55926994",
      "value": 50
     }
    },
    "bf7ab6283e324208b1cdd30a0d17fb9a": {
     "model_module": "@jupyter-widgets/base",
     "model_module_version": "1.2.0",
     "model_name": "LayoutModel",
     "state": {
      "_model_module": "@jupyter-widgets/base",
      "_model_module_version": "1.2.0",
      "_model_name": "LayoutModel",
      "_view_count": null,
      "_view_module": "@jupyter-widgets/base",
      "_view_module_version": "1.2.0",
      "_view_name": "LayoutView",
      "align_content": null,
      "align_items": null,
      "align_self": null,
      "border": null,
      "bottom": null,
      "display": null,
      "flex": null,
      "flex_flow": null,
      "grid_area": null,
      "grid_auto_columns": null,
      "grid_auto_flow": null,
      "grid_auto_rows": null,
      "grid_column": null,
      "grid_gap": null,
      "grid_row": null,
      "grid_template_areas": null,
      "grid_template_columns": null,
      "grid_template_rows": null,
      "height": null,
      "justify_content": null,
      "justify_items": null,
      "left": null,
      "margin": null,
      "max_height": null,
      "max_width": null,
      "min_height": null,
      "min_width": null,
      "object_fit": null,
      "object_position": null,
      "order": null,
      "overflow": null,
      "overflow_x": null,
      "overflow_y": null,
      "padding": null,
      "right": null,
      "top": null,
      "visibility": null,
      "width": null
     }
    },
    "c0d04e1f25c24552b6f1f46d68635e5f": {
     "model_module": "@jupyter-widgets/base",
     "model_module_version": "1.2.0",
     "model_name": "LayoutModel",
     "state": {
      "_model_module": "@jupyter-widgets/base",
      "_model_module_version": "1.2.0",
      "_model_name": "LayoutModel",
      "_view_count": null,
      "_view_module": "@jupyter-widgets/base",
      "_view_module_version": "1.2.0",
      "_view_name": "LayoutView",
      "align_content": null,
      "align_items": null,
      "align_self": null,
      "border": null,
      "bottom": null,
      "display": null,
      "flex": null,
      "flex_flow": null,
      "grid_area": null,
      "grid_auto_columns": null,
      "grid_auto_flow": null,
      "grid_auto_rows": null,
      "grid_column": null,
      "grid_gap": null,
      "grid_row": null,
      "grid_template_areas": null,
      "grid_template_columns": null,
      "grid_template_rows": null,
      "height": null,
      "justify_content": null,
      "justify_items": null,
      "left": null,
      "margin": null,
      "max_height": null,
      "max_width": null,
      "min_height": null,
      "min_width": null,
      "object_fit": null,
      "object_position": null,
      "order": null,
      "overflow": null,
      "overflow_x": null,
      "overflow_y": null,
      "padding": null,
      "right": null,
      "top": null,
      "visibility": null,
      "width": null
     }
    },
    "c1262054fd3e45f38637ca0538b61491": {
     "model_module": "@jupyter-widgets/base",
     "model_module_version": "1.2.0",
     "model_name": "LayoutModel",
     "state": {
      "_model_module": "@jupyter-widgets/base",
      "_model_module_version": "1.2.0",
      "_model_name": "LayoutModel",
      "_view_count": null,
      "_view_module": "@jupyter-widgets/base",
      "_view_module_version": "1.2.0",
      "_view_name": "LayoutView",
      "align_content": null,
      "align_items": null,
      "align_self": null,
      "border": null,
      "bottom": null,
      "display": null,
      "flex": null,
      "flex_flow": null,
      "grid_area": null,
      "grid_auto_columns": null,
      "grid_auto_flow": null,
      "grid_auto_rows": null,
      "grid_column": null,
      "grid_gap": null,
      "grid_row": null,
      "grid_template_areas": null,
      "grid_template_columns": null,
      "grid_template_rows": null,
      "height": null,
      "justify_content": null,
      "justify_items": null,
      "left": null,
      "margin": null,
      "max_height": null,
      "max_width": null,
      "min_height": null,
      "min_width": null,
      "object_fit": null,
      "object_position": null,
      "order": null,
      "overflow": null,
      "overflow_x": null,
      "overflow_y": null,
      "padding": null,
      "right": null,
      "top": null,
      "visibility": null,
      "width": null
     }
    },
    "c12f0ec2d3bc48cfbbc19a540a1a0f43": {
     "model_module": "@jupyter-widgets/controls",
     "model_module_version": "1.5.0",
     "model_name": "HTMLModel",
     "state": {
      "_dom_classes": [],
      "_model_module": "@jupyter-widgets/controls",
      "_model_module_version": "1.5.0",
      "_model_name": "HTMLModel",
      "_view_count": null,
      "_view_module": "@jupyter-widgets/controls",
      "_view_module_version": "1.5.0",
      "_view_name": "HTMLView",
      "description": "",
      "description_tooltip": null,
      "layout": "IPY_MODEL_b4378e32437c4d6ebb2a715daf8732d5",
      "placeholder": "​",
      "style": "IPY_MODEL_c6975959becc4d5c88bb27fed3e25c3f",
      "value": " 456k/456k [00:00&lt;00:00, 7.63MB/s]"
     }
    },
    "c3efea31956a4c5f85104d40ddae4c58": {
     "model_module": "@jupyter-widgets/controls",
     "model_module_version": "1.5.0",
     "model_name": "ProgressStyleModel",
     "state": {
      "_model_module": "@jupyter-widgets/controls",
      "_model_module_version": "1.5.0",
      "_model_name": "ProgressStyleModel",
      "_view_count": null,
      "_view_module": "@jupyter-widgets/base",
      "_view_module_version": "1.2.0",
      "_view_name": "StyleView",
      "bar_color": null,
      "description_width": ""
     }
    },
    "c6975959becc4d5c88bb27fed3e25c3f": {
     "model_module": "@jupyter-widgets/controls",
     "model_module_version": "1.5.0",
     "model_name": "DescriptionStyleModel",
     "state": {
      "_model_module": "@jupyter-widgets/controls",
      "_model_module_version": "1.5.0",
      "_model_name": "DescriptionStyleModel",
      "_view_count": null,
      "_view_module": "@jupyter-widgets/base",
      "_view_module_version": "1.2.0",
      "_view_name": "StyleView",
      "description_width": ""
     }
    },
    "cac232e1f8a148aa87ca9a8ab6427073": {
     "model_module": "@jupyter-widgets/base",
     "model_module_version": "1.2.0",
     "model_name": "LayoutModel",
     "state": {
      "_model_module": "@jupyter-widgets/base",
      "_model_module_version": "1.2.0",
      "_model_name": "LayoutModel",
      "_view_count": null,
      "_view_module": "@jupyter-widgets/base",
      "_view_module_version": "1.2.0",
      "_view_name": "LayoutView",
      "align_content": null,
      "align_items": null,
      "align_self": null,
      "border": null,
      "bottom": null,
      "display": null,
      "flex": null,
      "flex_flow": null,
      "grid_area": null,
      "grid_auto_columns": null,
      "grid_auto_flow": null,
      "grid_auto_rows": null,
      "grid_column": null,
      "grid_gap": null,
      "grid_row": null,
      "grid_template_areas": null,
      "grid_template_columns": null,
      "grid_template_rows": null,
      "height": null,
      "justify_content": null,
      "justify_items": null,
      "left": null,
      "margin": null,
      "max_height": null,
      "max_width": null,
      "min_height": null,
      "min_width": null,
      "object_fit": null,
      "object_position": null,
      "order": null,
      "overflow": null,
      "overflow_x": null,
      "overflow_y": null,
      "padding": null,
      "right": null,
      "top": null,
      "visibility": null,
      "width": null
     }
    },
    "cede916c97f24088a029e623d5e3a099": {
     "model_module": "@jupyter-widgets/base",
     "model_module_version": "1.2.0",
     "model_name": "LayoutModel",
     "state": {
      "_model_module": "@jupyter-widgets/base",
      "_model_module_version": "1.2.0",
      "_model_name": "LayoutModel",
      "_view_count": null,
      "_view_module": "@jupyter-widgets/base",
      "_view_module_version": "1.2.0",
      "_view_name": "LayoutView",
      "align_content": null,
      "align_items": null,
      "align_self": null,
      "border": null,
      "bottom": null,
      "display": null,
      "flex": null,
      "flex_flow": null,
      "grid_area": null,
      "grid_auto_columns": null,
      "grid_auto_flow": null,
      "grid_auto_rows": null,
      "grid_column": null,
      "grid_gap": null,
      "grid_row": null,
      "grid_template_areas": null,
      "grid_template_columns": null,
      "grid_template_rows": null,
      "height": null,
      "justify_content": null,
      "justify_items": null,
      "left": null,
      "margin": null,
      "max_height": null,
      "max_width": null,
      "min_height": null,
      "min_width": null,
      "object_fit": null,
      "object_position": null,
      "order": null,
      "overflow": null,
      "overflow_x": null,
      "overflow_y": null,
      "padding": null,
      "right": null,
      "top": null,
      "visibility": null,
      "width": null
     }
    },
    "d06b9855e4fc44e5a8eb7fa4dd4946e5": {
     "model_module": "@jupyter-widgets/base",
     "model_module_version": "1.2.0",
     "model_name": "LayoutModel",
     "state": {
      "_model_module": "@jupyter-widgets/base",
      "_model_module_version": "1.2.0",
      "_model_name": "LayoutModel",
      "_view_count": null,
      "_view_module": "@jupyter-widgets/base",
      "_view_module_version": "1.2.0",
      "_view_name": "LayoutView",
      "align_content": null,
      "align_items": null,
      "align_self": null,
      "border": null,
      "bottom": null,
      "display": null,
      "flex": null,
      "flex_flow": null,
      "grid_area": null,
      "grid_auto_columns": null,
      "grid_auto_flow": null,
      "grid_auto_rows": null,
      "grid_column": null,
      "grid_gap": null,
      "grid_row": null,
      "grid_template_areas": null,
      "grid_template_columns": null,
      "grid_template_rows": null,
      "height": null,
      "justify_content": null,
      "justify_items": null,
      "left": null,
      "margin": null,
      "max_height": null,
      "max_width": null,
      "min_height": null,
      "min_width": null,
      "object_fit": null,
      "object_position": null,
      "order": null,
      "overflow": null,
      "overflow_x": null,
      "overflow_y": null,
      "padding": null,
      "right": null,
      "top": null,
      "visibility": null,
      "width": null
     }
    },
    "d5c72d6742a645fa8f3626d6e54730f8": {
     "model_module": "@jupyter-widgets/controls",
     "model_module_version": "1.5.0",
     "model_name": "DescriptionStyleModel",
     "state": {
      "_model_module": "@jupyter-widgets/controls",
      "_model_module_version": "1.5.0",
      "_model_name": "DescriptionStyleModel",
      "_view_count": null,
      "_view_module": "@jupyter-widgets/base",
      "_view_module_version": "1.2.0",
      "_view_name": "StyleView",
      "description_width": ""
     }
    },
    "d85c0e822efe45648b0e2435f8a4f79a": {
     "model_module": "@jupyter-widgets/base",
     "model_module_version": "1.2.0",
     "model_name": "LayoutModel",
     "state": {
      "_model_module": "@jupyter-widgets/base",
      "_model_module_version": "1.2.0",
      "_model_name": "LayoutModel",
      "_view_count": null,
      "_view_module": "@jupyter-widgets/base",
      "_view_module_version": "1.2.0",
      "_view_name": "LayoutView",
      "align_content": null,
      "align_items": null,
      "align_self": null,
      "border": null,
      "bottom": null,
      "display": null,
      "flex": null,
      "flex_flow": null,
      "grid_area": null,
      "grid_auto_columns": null,
      "grid_auto_flow": null,
      "grid_auto_rows": null,
      "grid_column": null,
      "grid_gap": null,
      "grid_row": null,
      "grid_template_areas": null,
      "grid_template_columns": null,
      "grid_template_rows": null,
      "height": null,
      "justify_content": null,
      "justify_items": null,
      "left": null,
      "margin": null,
      "max_height": null,
      "max_width": null,
      "min_height": null,
      "min_width": null,
      "object_fit": null,
      "object_position": null,
      "order": null,
      "overflow": null,
      "overflow_x": null,
      "overflow_y": null,
      "padding": null,
      "right": null,
      "top": null,
      "visibility": null,
      "width": null
     }
    },
    "da5c07a5ec194fd2a6fbccc8cf169992": {
     "model_module": "@jupyter-widgets/base",
     "model_module_version": "1.2.0",
     "model_name": "LayoutModel",
     "state": {
      "_model_module": "@jupyter-widgets/base",
      "_model_module_version": "1.2.0",
      "_model_name": "LayoutModel",
      "_view_count": null,
      "_view_module": "@jupyter-widgets/base",
      "_view_module_version": "1.2.0",
      "_view_name": "LayoutView",
      "align_content": null,
      "align_items": null,
      "align_self": null,
      "border": null,
      "bottom": null,
      "display": null,
      "flex": null,
      "flex_flow": null,
      "grid_area": null,
      "grid_auto_columns": null,
      "grid_auto_flow": null,
      "grid_auto_rows": null,
      "grid_column": null,
      "grid_gap": null,
      "grid_row": null,
      "grid_template_areas": null,
      "grid_template_columns": null,
      "grid_template_rows": null,
      "height": null,
      "justify_content": null,
      "justify_items": null,
      "left": null,
      "margin": null,
      "max_height": null,
      "max_width": null,
      "min_height": null,
      "min_width": null,
      "object_fit": null,
      "object_position": null,
      "order": null,
      "overflow": null,
      "overflow_x": null,
      "overflow_y": null,
      "padding": null,
      "right": null,
      "top": null,
      "visibility": null,
      "width": null
     }
    },
    "dacce6491d754ccaa0d8cc6516ee291f": {
     "model_module": "@jupyter-widgets/controls",
     "model_module_version": "1.5.0",
     "model_name": "HTMLModel",
     "state": {
      "_dom_classes": [],
      "_model_module": "@jupyter-widgets/controls",
      "_model_module_version": "1.5.0",
      "_model_name": "HTMLModel",
      "_view_count": null,
      "_view_module": "@jupyter-widgets/controls",
      "_view_module_version": "1.5.0",
      "_view_name": "HTMLView",
      "description": "",
      "description_tooltip": null,
      "layout": "IPY_MODEL_b0332f1040f644b7affdf0ad06eef900",
      "placeholder": "​",
      "style": "IPY_MODEL_63f95a383486470f9c1a6724a685e918",
      "value": " 26.0/26.0 [00:00&lt;00:00, 728B/s]"
     }
    },
    "e5a8b6fad0364ead9a80bedb8a8e15bb": {
     "model_module": "@jupyter-widgets/controls",
     "model_module_version": "1.5.0",
     "model_name": "HTMLModel",
     "state": {
      "_dom_classes": [],
      "_model_module": "@jupyter-widgets/controls",
      "_model_module_version": "1.5.0",
      "_model_name": "HTMLModel",
      "_view_count": null,
      "_view_module": "@jupyter-widgets/controls",
      "_view_module_version": "1.5.0",
      "_view_name": "HTMLView",
      "description": "",
      "description_tooltip": null,
      "layout": "IPY_MODEL_ee4bffd216de43a9a5204fe303c91005",
      "placeholder": "​",
      "style": "IPY_MODEL_bb7fe23a41f643379427ef8026c5bd83",
      "value": " 899k/899k [00:00&lt;00:00, 7.33MB/s]"
     }
    },
    "ee4bffd216de43a9a5204fe303c91005": {
     "model_module": "@jupyter-widgets/base",
     "model_module_version": "1.2.0",
     "model_name": "LayoutModel",
     "state": {
      "_model_module": "@jupyter-widgets/base",
      "_model_module_version": "1.2.0",
      "_model_name": "LayoutModel",
      "_view_count": null,
      "_view_module": "@jupyter-widgets/base",
      "_view_module_version": "1.2.0",
      "_view_name": "LayoutView",
      "align_content": null,
      "align_items": null,
      "align_self": null,
      "border": null,
      "bottom": null,
      "display": null,
      "flex": null,
      "flex_flow": null,
      "grid_area": null,
      "grid_auto_columns": null,
      "grid_auto_flow": null,
      "grid_auto_rows": null,
      "grid_column": null,
      "grid_gap": null,
      "grid_row": null,
      "grid_template_areas": null,
      "grid_template_columns": null,
      "grid_template_rows": null,
      "height": null,
      "justify_content": null,
      "justify_items": null,
      "left": null,
      "margin": null,
      "max_height": null,
      "max_width": null,
      "min_height": null,
      "min_width": null,
      "object_fit": null,
      "object_position": null,
      "order": null,
      "overflow": null,
      "overflow_x": null,
      "overflow_y": null,
      "padding": null,
      "right": null,
      "top": null,
      "visibility": null,
      "width": null
     }
    },
    "eec9d71dc1164034a0b6f52b02d4e167": {
     "model_module": "@jupyter-widgets/base",
     "model_module_version": "1.2.0",
     "model_name": "LayoutModel",
     "state": {
      "_model_module": "@jupyter-widgets/base",
      "_model_module_version": "1.2.0",
      "_model_name": "LayoutModel",
      "_view_count": null,
      "_view_module": "@jupyter-widgets/base",
      "_view_module_version": "1.2.0",
      "_view_name": "LayoutView",
      "align_content": null,
      "align_items": null,
      "align_self": null,
      "border": null,
      "bottom": null,
      "display": null,
      "flex": null,
      "flex_flow": null,
      "grid_area": null,
      "grid_auto_columns": null,
      "grid_auto_flow": null,
      "grid_auto_rows": null,
      "grid_column": null,
      "grid_gap": null,
      "grid_row": null,
      "grid_template_areas": null,
      "grid_template_columns": null,
      "grid_template_rows": null,
      "height": null,
      "justify_content": null,
      "justify_items": null,
      "left": null,
      "margin": null,
      "max_height": null,
      "max_width": null,
      "min_height": null,
      "min_width": null,
      "object_fit": null,
      "object_position": null,
      "order": null,
      "overflow": null,
      "overflow_x": null,
      "overflow_y": null,
      "padding": null,
      "right": null,
      "top": null,
      "visibility": null,
      "width": null
     }
    },
    "f1711e929fda4f458240f99be814fa3b": {
     "model_module": "@jupyter-widgets/controls",
     "model_module_version": "1.5.0",
     "model_name": "HBoxModel",
     "state": {
      "_dom_classes": [],
      "_model_module": "@jupyter-widgets/controls",
      "_model_module_version": "1.5.0",
      "_model_name": "HBoxModel",
      "_view_count": null,
      "_view_module": "@jupyter-widgets/controls",
      "_view_module_version": "1.5.0",
      "_view_name": "HBoxView",
      "box_style": "",
      "children": [
       "IPY_MODEL_055c940c039d4ced849195bd4ae2aad0",
       "IPY_MODEL_0dfe7239ab244130b82f8521e3ee41a9",
       "IPY_MODEL_e5a8b6fad0364ead9a80bedb8a8e15bb"
      ],
      "layout": "IPY_MODEL_76e7ea0ba6e64afe871bb424e0f321c1"
     }
    },
    "f7e59b99758b418198b9f821a561148b": {
     "model_module": "@jupyter-widgets/controls",
     "model_module_version": "1.5.0",
     "model_name": "FloatProgressModel",
     "state": {
      "_dom_classes": [],
      "_model_module": "@jupyter-widgets/controls",
      "_model_module_version": "1.5.0",
      "_model_name": "FloatProgressModel",
      "_view_count": null,
      "_view_module": "@jupyter-widgets/controls",
      "_view_module_version": "1.5.0",
      "_view_name": "ProgressView",
      "bar_style": "success",
      "description": "",
      "description_tooltip": null,
      "layout": "IPY_MODEL_3cec74edf2af4e68ab59323ae55f7305",
      "max": 456318,
      "min": 0,
      "orientation": "horizontal",
      "style": "IPY_MODEL_1c8746121d234eeeb70a08129493ef93",
      "value": 456318
     }
    },
    "fbb8cf8cf7614be3bea6d7e02f1e41db": {
     "model_module": "@jupyter-widgets/base",
     "model_module_version": "1.2.0",
     "model_name": "LayoutModel",
     "state": {
      "_model_module": "@jupyter-widgets/base",
      "_model_module_version": "1.2.0",
      "_model_name": "LayoutModel",
      "_view_count": null,
      "_view_module": "@jupyter-widgets/base",
      "_view_module_version": "1.2.0",
      "_view_name": "LayoutView",
      "align_content": null,
      "align_items": null,
      "align_self": null,
      "border": null,
      "bottom": null,
      "display": null,
      "flex": null,
      "flex_flow": null,
      "grid_area": null,
      "grid_auto_columns": null,
      "grid_auto_flow": null,
      "grid_auto_rows": null,
      "grid_column": null,
      "grid_gap": null,
      "grid_row": null,
      "grid_template_areas": null,
      "grid_template_columns": null,
      "grid_template_rows": null,
      "height": null,
      "justify_content": null,
      "justify_items": null,
      "left": null,
      "margin": null,
      "max_height": null,
      "max_width": null,
      "min_height": null,
      "min_width": null,
      "object_fit": null,
      "object_position": null,
      "order": null,
      "overflow": null,
      "overflow_x": null,
      "overflow_y": null,
      "padding": null,
      "right": null,
      "top": null,
      "visibility": null,
      "width": null
     }
    },
    "ffcc60d3d5654bba9b6241cb2a0d8561": {
     "model_module": "@jupyter-widgets/base",
     "model_module_version": "1.2.0",
     "model_name": "LayoutModel",
     "state": {
      "_model_module": "@jupyter-widgets/base",
      "_model_module_version": "1.2.0",
      "_model_name": "LayoutModel",
      "_view_count": null,
      "_view_module": "@jupyter-widgets/base",
      "_view_module_version": "1.2.0",
      "_view_name": "LayoutView",
      "align_content": null,
      "align_items": null,
      "align_self": null,
      "border": null,
      "bottom": null,
      "display": null,
      "flex": null,
      "flex_flow": null,
      "grid_area": null,
      "grid_auto_columns": null,
      "grid_auto_flow": null,
      "grid_auto_rows": null,
      "grid_column": null,
      "grid_gap": null,
      "grid_row": null,
      "grid_template_areas": null,
      "grid_template_columns": null,
      "grid_template_rows": null,
      "height": null,
      "justify_content": null,
      "justify_items": null,
      "left": null,
      "margin": null,
      "max_height": null,
      "max_width": null,
      "min_height": null,
      "min_width": null,
      "object_fit": null,
      "object_position": null,
      "order": null,
      "overflow": null,
      "overflow_x": null,
      "overflow_y": null,
      "padding": null,
      "right": null,
      "top": null,
      "visibility": null,
      "width": null
     }
    }
   }
  }
 },
 "nbformat": 4,
 "nbformat_minor": 4
}
